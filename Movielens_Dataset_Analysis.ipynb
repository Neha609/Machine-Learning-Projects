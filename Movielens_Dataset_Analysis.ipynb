{
  "nbformat": 4,
  "nbformat_minor": 0,
  "metadata": {
    "kernelspec": {
      "display_name": "Python 3",
      "language": "python",
      "name": "python3"
    },
    "language_info": {
      "codemirror_mode": {
        "name": "ipython",
        "version": 3
      },
      "file_extension": ".py",
      "mimetype": "text/x-python",
      "name": "python",
      "nbconvert_exporter": "python",
      "pygments_lexer": "ipython3",
      "version": "3.7.0"
    },
    "colab": {
      "name": "Movielens Dataset Analysis.ipynb",
      "provenance": [],
      "collapsed_sections": [],
      "include_colab_link": true
    }
  },
  "cells": [
    {
      "cell_type": "markdown",
      "metadata": {
        "id": "view-in-github",
        "colab_type": "text"
      },
      "source": [
        "<a href=\"https://colab.research.google.com/github/Neha609/Machine-Learning-Projects/blob/gh-pages/Movielens_Dataset_Analysis.ipynb\" target=\"_parent\"><img src=\"https://colab.research.google.com/assets/colab-badge.svg\" alt=\"Open In Colab\"/></a>"
      ]
    },
    {
      "cell_type": "markdown",
      "metadata": {
        "id": "Q3O88LnDshtC"
      },
      "source": [
        "\n",
        "# **Movielens Dataset Analysis**\n",
        "\n",
        "You don't need to limit yourself to the number of rows/cells provided. You can add additional rows in each section to add more lines of code.\n",
        "\n",
        "**Happy coding!**"
      ]
    },
    {
      "cell_type": "markdown",
      "metadata": {
        "id": "SDOyGBMqshtH"
      },
      "source": [
        "# Data Acquisition of Movielens dataset"
      ]
    },
    {
      "cell_type": "code",
      "metadata": {
        "id": "CFqwXtNFshtI"
      },
      "source": [
        "#import the required libraries\n",
        "import pandas as pd\n",
        "import numpy as np\n",
        "import matplotlib.pyplot as plt\n",
        "import seaborn as sns\n",
        "%matplotlib inline\n",
        "\n",
        "from sklearn.tree import DecisionTreeClassifier\n",
        "# Uncomment below line to see the style availables\n",
        "#plt.style.available"
      ],
      "execution_count": null,
      "outputs": []
    },
    {
      "cell_type": "code",
      "metadata": {
        "id": "H9ApHl9XshtQ"
      },
      "source": [
        "#Load user dataSet as Numpy Array\n",
        "Users_data = np.fromfile('users.dat',dtype=float)"
      ],
      "execution_count": null,
      "outputs": []
    },
    {
      "cell_type": "code",
      "metadata": {
        "id": "NwTvqJPvshtU"
      },
      "source": [
        "#Load Rating DataSet as Numpy Array\n",
        "Ratings_data = np.fromfile('ratings.dat',dtype=float)"
      ],
      "execution_count": null,
      "outputs": []
    },
    {
      "cell_type": "code",
      "metadata": {
        "id": "ZuTpOVXHshtZ"
      },
      "source": [
        "#Load Movies DataSet as Numpy Array\n",
        "Movies_data = np.fromfile('movies.dat',dtype=float)"
      ],
      "execution_count": null,
      "outputs": []
    },
    {
      "cell_type": "code",
      "metadata": {
        "id": "lI1J1FtMshtd",
        "outputId": "1761e89d-f61c-4b78-f73c-5369ace4e579"
      },
      "source": [
        "#Check the Shape of User data\n",
        "Users_data.shape"
      ],
      "execution_count": null,
      "outputs": [
        {
          "output_type": "execute_result",
          "data": {
            "text/plain": [
              "(16796,)"
            ]
          },
          "metadata": {
            "tags": []
          },
          "execution_count": 158
        }
      ]
    },
    {
      "cell_type": "code",
      "metadata": {
        "id": "-fdmofFfshtj",
        "outputId": "400a019c-d0d7-4391-feb5-fe3e0226955a"
      },
      "source": [
        "#Check the Shape of Rating Data\n",
        "Ratings_data.shape"
      ],
      "execution_count": null,
      "outputs": [
        {
          "output_type": "execute_result",
          "data": {
            "text/plain": [
              "(3074266,)"
            ]
          },
          "metadata": {
            "tags": []
          },
          "execution_count": 159
        }
      ]
    },
    {
      "cell_type": "code",
      "metadata": {
        "id": "kgEQWdnZshtz",
        "outputId": "1e00e714-709c-41e1-acf5-56ff15a3a578"
      },
      "source": [
        "#Check the Shape of Movies Data\n",
        "Movies_data.shape"
      ],
      "execution_count": null,
      "outputs": [
        {
          "output_type": "execute_result",
          "data": {
            "text/plain": [
              "(21413,)"
            ]
          },
          "metadata": {
            "tags": []
          },
          "execution_count": 160
        }
      ]
    },
    {
      "cell_type": "code",
      "metadata": {
        "id": "LZtuMYQlsht8"
      },
      "source": [
        "#Load users data in DataFrame\n",
        "UsersColumn = ['UserId','Gender','Age','Occupation','Zip-Code']\n",
        "Users_df = pd.read_table(\"users.dat\",sep=\"::\",header=None, engine='python', names=UsersColumn)"
      ],
      "execution_count": null,
      "outputs": []
    },
    {
      "cell_type": "code",
      "metadata": {
        "id": "qZ00tdzNshuA"
      },
      "source": [
        "#Load Ratings data in DataFrame\n",
        "RatingsColumns = ['UserId','MovieId','Rating','Timestamp']\n",
        "Ratings_df = pd.read_table(\"ratings.dat\",sep=\"::\",header=None, engine='python', names=RatingsColumns)"
      ],
      "execution_count": null,
      "outputs": []
    },
    {
      "cell_type": "code",
      "metadata": {
        "id": "KgV_1pSmshuF"
      },
      "source": [
        "#Load the Movies data in DataFrame\n",
        "MoviesColumn= ['MovieId','Title','Genres']\n",
        "Movies_df = pd.read_table(\"movies.dat\",sep=\"::\", engine = 'python',names = MoviesColumn)"
      ],
      "execution_count": null,
      "outputs": []
    },
    {
      "cell_type": "code",
      "metadata": {
        "id": "pkEZY8Q9shuK",
        "outputId": "13113a48-5fda-4067-e514-3282a33cdcc0"
      },
      "source": [
        "#Visualise the Users Data\n",
        "Users_df.head()\n"
      ],
      "execution_count": null,
      "outputs": [
        {
          "output_type": "execute_result",
          "data": {
            "text/html": [
              "<div>\n",
              "<style scoped>\n",
              "    .dataframe tbody tr th:only-of-type {\n",
              "        vertical-align: middle;\n",
              "    }\n",
              "\n",
              "    .dataframe tbody tr th {\n",
              "        vertical-align: top;\n",
              "    }\n",
              "\n",
              "    .dataframe thead th {\n",
              "        text-align: right;\n",
              "    }\n",
              "</style>\n",
              "<table border=\"1\" class=\"dataframe\">\n",
              "  <thead>\n",
              "    <tr style=\"text-align: right;\">\n",
              "      <th></th>\n",
              "      <th>UserId</th>\n",
              "      <th>Gender</th>\n",
              "      <th>Age</th>\n",
              "      <th>Occupation</th>\n",
              "      <th>Zip-Code</th>\n",
              "    </tr>\n",
              "  </thead>\n",
              "  <tbody>\n",
              "    <tr>\n",
              "      <th>0</th>\n",
              "      <td>1</td>\n",
              "      <td>F</td>\n",
              "      <td>1</td>\n",
              "      <td>10</td>\n",
              "      <td>48067</td>\n",
              "    </tr>\n",
              "    <tr>\n",
              "      <th>1</th>\n",
              "      <td>2</td>\n",
              "      <td>M</td>\n",
              "      <td>56</td>\n",
              "      <td>16</td>\n",
              "      <td>70072</td>\n",
              "    </tr>\n",
              "    <tr>\n",
              "      <th>2</th>\n",
              "      <td>3</td>\n",
              "      <td>M</td>\n",
              "      <td>25</td>\n",
              "      <td>15</td>\n",
              "      <td>55117</td>\n",
              "    </tr>\n",
              "    <tr>\n",
              "      <th>3</th>\n",
              "      <td>4</td>\n",
              "      <td>M</td>\n",
              "      <td>45</td>\n",
              "      <td>7</td>\n",
              "      <td>02460</td>\n",
              "    </tr>\n",
              "    <tr>\n",
              "      <th>4</th>\n",
              "      <td>5</td>\n",
              "      <td>M</td>\n",
              "      <td>25</td>\n",
              "      <td>20</td>\n",
              "      <td>55455</td>\n",
              "    </tr>\n",
              "  </tbody>\n",
              "</table>\n",
              "</div>"
            ],
            "text/plain": [
              "   UserId Gender  Age  Occupation Zip-Code\n",
              "0       1      F    1          10    48067\n",
              "1       2      M   56          16    70072\n",
              "2       3      M   25          15    55117\n",
              "3       4      M   45           7    02460\n",
              "4       5      M   25          20    55455"
            ]
          },
          "metadata": {
            "tags": []
          },
          "execution_count": 164
        }
      ]
    },
    {
      "cell_type": "code",
      "metadata": {
        "id": "2IyGqBjIshuV",
        "outputId": "2e5f5b4f-b342-4862-b92d-50fa5ba8afd1"
      },
      "source": [
        "#Visualise the Ratings Data\n",
        "Ratings_df.head()"
      ],
      "execution_count": null,
      "outputs": [
        {
          "output_type": "execute_result",
          "data": {
            "text/html": [
              "<div>\n",
              "<style scoped>\n",
              "    .dataframe tbody tr th:only-of-type {\n",
              "        vertical-align: middle;\n",
              "    }\n",
              "\n",
              "    .dataframe tbody tr th {\n",
              "        vertical-align: top;\n",
              "    }\n",
              "\n",
              "    .dataframe thead th {\n",
              "        text-align: right;\n",
              "    }\n",
              "</style>\n",
              "<table border=\"1\" class=\"dataframe\">\n",
              "  <thead>\n",
              "    <tr style=\"text-align: right;\">\n",
              "      <th></th>\n",
              "      <th>UserId</th>\n",
              "      <th>MovieId</th>\n",
              "      <th>Rating</th>\n",
              "      <th>Timestamp</th>\n",
              "    </tr>\n",
              "  </thead>\n",
              "  <tbody>\n",
              "    <tr>\n",
              "      <th>0</th>\n",
              "      <td>1</td>\n",
              "      <td>1193</td>\n",
              "      <td>5</td>\n",
              "      <td>978300760</td>\n",
              "    </tr>\n",
              "    <tr>\n",
              "      <th>1</th>\n",
              "      <td>1</td>\n",
              "      <td>661</td>\n",
              "      <td>3</td>\n",
              "      <td>978302109</td>\n",
              "    </tr>\n",
              "    <tr>\n",
              "      <th>2</th>\n",
              "      <td>1</td>\n",
              "      <td>914</td>\n",
              "      <td>3</td>\n",
              "      <td>978301968</td>\n",
              "    </tr>\n",
              "    <tr>\n",
              "      <th>3</th>\n",
              "      <td>1</td>\n",
              "      <td>3408</td>\n",
              "      <td>4</td>\n",
              "      <td>978300275</td>\n",
              "    </tr>\n",
              "    <tr>\n",
              "      <th>4</th>\n",
              "      <td>1</td>\n",
              "      <td>2355</td>\n",
              "      <td>5</td>\n",
              "      <td>978824291</td>\n",
              "    </tr>\n",
              "  </tbody>\n",
              "</table>\n",
              "</div>"
            ],
            "text/plain": [
              "   UserId  MovieId  Rating  Timestamp\n",
              "0       1     1193       5  978300760\n",
              "1       1      661       3  978302109\n",
              "2       1      914       3  978301968\n",
              "3       1     3408       4  978300275\n",
              "4       1     2355       5  978824291"
            ]
          },
          "metadata": {
            "tags": []
          },
          "execution_count": 165
        }
      ]
    },
    {
      "cell_type": "code",
      "metadata": {
        "id": "orBao0wjshuZ",
        "outputId": "85148b80-a58a-4b63-e1ae-a4597937d05f"
      },
      "source": [
        "#Visualise the Movies Data\n",
        "Movies_df.head()"
      ],
      "execution_count": null,
      "outputs": [
        {
          "output_type": "execute_result",
          "data": {
            "text/html": [
              "<div>\n",
              "<style scoped>\n",
              "    .dataframe tbody tr th:only-of-type {\n",
              "        vertical-align: middle;\n",
              "    }\n",
              "\n",
              "    .dataframe tbody tr th {\n",
              "        vertical-align: top;\n",
              "    }\n",
              "\n",
              "    .dataframe thead th {\n",
              "        text-align: right;\n",
              "    }\n",
              "</style>\n",
              "<table border=\"1\" class=\"dataframe\">\n",
              "  <thead>\n",
              "    <tr style=\"text-align: right;\">\n",
              "      <th></th>\n",
              "      <th>MovieId</th>\n",
              "      <th>Title</th>\n",
              "      <th>Genres</th>\n",
              "    </tr>\n",
              "  </thead>\n",
              "  <tbody>\n",
              "    <tr>\n",
              "      <th>0</th>\n",
              "      <td>1</td>\n",
              "      <td>Toy Story (1995)</td>\n",
              "      <td>Animation|Children's|Comedy</td>\n",
              "    </tr>\n",
              "    <tr>\n",
              "      <th>1</th>\n",
              "      <td>2</td>\n",
              "      <td>Jumanji (1995)</td>\n",
              "      <td>Adventure|Children's|Fantasy</td>\n",
              "    </tr>\n",
              "    <tr>\n",
              "      <th>2</th>\n",
              "      <td>3</td>\n",
              "      <td>Grumpier Old Men (1995)</td>\n",
              "      <td>Comedy|Romance</td>\n",
              "    </tr>\n",
              "    <tr>\n",
              "      <th>3</th>\n",
              "      <td>4</td>\n",
              "      <td>Waiting to Exhale (1995)</td>\n",
              "      <td>Comedy|Drama</td>\n",
              "    </tr>\n",
              "    <tr>\n",
              "      <th>4</th>\n",
              "      <td>5</td>\n",
              "      <td>Father of the Bride Part II (1995)</td>\n",
              "      <td>Comedy</td>\n",
              "    </tr>\n",
              "  </tbody>\n",
              "</table>\n",
              "</div>"
            ],
            "text/plain": [
              "   MovieId                               Title                        Genres\n",
              "0        1                    Toy Story (1995)   Animation|Children's|Comedy\n",
              "1        2                      Jumanji (1995)  Adventure|Children's|Fantasy\n",
              "2        3             Grumpier Old Men (1995)                Comedy|Romance\n",
              "3        4            Waiting to Exhale (1995)                  Comedy|Drama\n",
              "4        5  Father of the Bride Part II (1995)                        Comedy"
            ]
          },
          "metadata": {
            "tags": []
          },
          "execution_count": 166
        }
      ]
    },
    {
      "cell_type": "code",
      "metadata": {
        "id": "tEp__gn9shuf",
        "outputId": "a599fba7-5fe4-4a8d-ebac-c22687226e09"
      },
      "source": [
        "#View top 10 Users Records\n",
        "Users_df.head(10)"
      ],
      "execution_count": null,
      "outputs": [
        {
          "output_type": "execute_result",
          "data": {
            "text/html": [
              "<div>\n",
              "<style scoped>\n",
              "    .dataframe tbody tr th:only-of-type {\n",
              "        vertical-align: middle;\n",
              "    }\n",
              "\n",
              "    .dataframe tbody tr th {\n",
              "        vertical-align: top;\n",
              "    }\n",
              "\n",
              "    .dataframe thead th {\n",
              "        text-align: right;\n",
              "    }\n",
              "</style>\n",
              "<table border=\"1\" class=\"dataframe\">\n",
              "  <thead>\n",
              "    <tr style=\"text-align: right;\">\n",
              "      <th></th>\n",
              "      <th>UserId</th>\n",
              "      <th>Gender</th>\n",
              "      <th>Age</th>\n",
              "      <th>Occupation</th>\n",
              "      <th>Zip-Code</th>\n",
              "    </tr>\n",
              "  </thead>\n",
              "  <tbody>\n",
              "    <tr>\n",
              "      <th>0</th>\n",
              "      <td>1</td>\n",
              "      <td>F</td>\n",
              "      <td>1</td>\n",
              "      <td>10</td>\n",
              "      <td>48067</td>\n",
              "    </tr>\n",
              "    <tr>\n",
              "      <th>1</th>\n",
              "      <td>2</td>\n",
              "      <td>M</td>\n",
              "      <td>56</td>\n",
              "      <td>16</td>\n",
              "      <td>70072</td>\n",
              "    </tr>\n",
              "    <tr>\n",
              "      <th>2</th>\n",
              "      <td>3</td>\n",
              "      <td>M</td>\n",
              "      <td>25</td>\n",
              "      <td>15</td>\n",
              "      <td>55117</td>\n",
              "    </tr>\n",
              "    <tr>\n",
              "      <th>3</th>\n",
              "      <td>4</td>\n",
              "      <td>M</td>\n",
              "      <td>45</td>\n",
              "      <td>7</td>\n",
              "      <td>02460</td>\n",
              "    </tr>\n",
              "    <tr>\n",
              "      <th>4</th>\n",
              "      <td>5</td>\n",
              "      <td>M</td>\n",
              "      <td>25</td>\n",
              "      <td>20</td>\n",
              "      <td>55455</td>\n",
              "    </tr>\n",
              "    <tr>\n",
              "      <th>5</th>\n",
              "      <td>6</td>\n",
              "      <td>F</td>\n",
              "      <td>50</td>\n",
              "      <td>9</td>\n",
              "      <td>55117</td>\n",
              "    </tr>\n",
              "    <tr>\n",
              "      <th>6</th>\n",
              "      <td>7</td>\n",
              "      <td>M</td>\n",
              "      <td>35</td>\n",
              "      <td>1</td>\n",
              "      <td>06810</td>\n",
              "    </tr>\n",
              "    <tr>\n",
              "      <th>7</th>\n",
              "      <td>8</td>\n",
              "      <td>M</td>\n",
              "      <td>25</td>\n",
              "      <td>12</td>\n",
              "      <td>11413</td>\n",
              "    </tr>\n",
              "    <tr>\n",
              "      <th>8</th>\n",
              "      <td>9</td>\n",
              "      <td>M</td>\n",
              "      <td>25</td>\n",
              "      <td>17</td>\n",
              "      <td>61614</td>\n",
              "    </tr>\n",
              "    <tr>\n",
              "      <th>9</th>\n",
              "      <td>10</td>\n",
              "      <td>F</td>\n",
              "      <td>35</td>\n",
              "      <td>1</td>\n",
              "      <td>95370</td>\n",
              "    </tr>\n",
              "  </tbody>\n",
              "</table>\n",
              "</div>"
            ],
            "text/plain": [
              "   UserId Gender  Age  Occupation Zip-Code\n",
              "0       1      F    1          10    48067\n",
              "1       2      M   56          16    70072\n",
              "2       3      M   25          15    55117\n",
              "3       4      M   45           7    02460\n",
              "4       5      M   25          20    55455\n",
              "5       6      F   50           9    55117\n",
              "6       7      M   35           1    06810\n",
              "7       8      M   25          12    11413\n",
              "8       9      M   25          17    61614\n",
              "9      10      F   35           1    95370"
            ]
          },
          "metadata": {
            "tags": []
          },
          "execution_count": 167
        }
      ]
    },
    {
      "cell_type": "code",
      "metadata": {
        "id": "AlrtvU7Lshul",
        "outputId": "cc0ca399-c766-466c-ee7e-fd6456233344"
      },
      "source": [
        "#View top 10 Ratings Records\n",
        "Ratings_df.head(10)"
      ],
      "execution_count": null,
      "outputs": [
        {
          "output_type": "execute_result",
          "data": {
            "text/html": [
              "<div>\n",
              "<style scoped>\n",
              "    .dataframe tbody tr th:only-of-type {\n",
              "        vertical-align: middle;\n",
              "    }\n",
              "\n",
              "    .dataframe tbody tr th {\n",
              "        vertical-align: top;\n",
              "    }\n",
              "\n",
              "    .dataframe thead th {\n",
              "        text-align: right;\n",
              "    }\n",
              "</style>\n",
              "<table border=\"1\" class=\"dataframe\">\n",
              "  <thead>\n",
              "    <tr style=\"text-align: right;\">\n",
              "      <th></th>\n",
              "      <th>UserId</th>\n",
              "      <th>MovieId</th>\n",
              "      <th>Rating</th>\n",
              "      <th>Timestamp</th>\n",
              "    </tr>\n",
              "  </thead>\n",
              "  <tbody>\n",
              "    <tr>\n",
              "      <th>0</th>\n",
              "      <td>1</td>\n",
              "      <td>1193</td>\n",
              "      <td>5</td>\n",
              "      <td>978300760</td>\n",
              "    </tr>\n",
              "    <tr>\n",
              "      <th>1</th>\n",
              "      <td>1</td>\n",
              "      <td>661</td>\n",
              "      <td>3</td>\n",
              "      <td>978302109</td>\n",
              "    </tr>\n",
              "    <tr>\n",
              "      <th>2</th>\n",
              "      <td>1</td>\n",
              "      <td>914</td>\n",
              "      <td>3</td>\n",
              "      <td>978301968</td>\n",
              "    </tr>\n",
              "    <tr>\n",
              "      <th>3</th>\n",
              "      <td>1</td>\n",
              "      <td>3408</td>\n",
              "      <td>4</td>\n",
              "      <td>978300275</td>\n",
              "    </tr>\n",
              "    <tr>\n",
              "      <th>4</th>\n",
              "      <td>1</td>\n",
              "      <td>2355</td>\n",
              "      <td>5</td>\n",
              "      <td>978824291</td>\n",
              "    </tr>\n",
              "    <tr>\n",
              "      <th>5</th>\n",
              "      <td>1</td>\n",
              "      <td>1197</td>\n",
              "      <td>3</td>\n",
              "      <td>978302268</td>\n",
              "    </tr>\n",
              "    <tr>\n",
              "      <th>6</th>\n",
              "      <td>1</td>\n",
              "      <td>1287</td>\n",
              "      <td>5</td>\n",
              "      <td>978302039</td>\n",
              "    </tr>\n",
              "    <tr>\n",
              "      <th>7</th>\n",
              "      <td>1</td>\n",
              "      <td>2804</td>\n",
              "      <td>5</td>\n",
              "      <td>978300719</td>\n",
              "    </tr>\n",
              "    <tr>\n",
              "      <th>8</th>\n",
              "      <td>1</td>\n",
              "      <td>594</td>\n",
              "      <td>4</td>\n",
              "      <td>978302268</td>\n",
              "    </tr>\n",
              "    <tr>\n",
              "      <th>9</th>\n",
              "      <td>1</td>\n",
              "      <td>919</td>\n",
              "      <td>4</td>\n",
              "      <td>978301368</td>\n",
              "    </tr>\n",
              "  </tbody>\n",
              "</table>\n",
              "</div>"
            ],
            "text/plain": [
              "   UserId  MovieId  Rating  Timestamp\n",
              "0       1     1193       5  978300760\n",
              "1       1      661       3  978302109\n",
              "2       1      914       3  978301968\n",
              "3       1     3408       4  978300275\n",
              "4       1     2355       5  978824291\n",
              "5       1     1197       3  978302268\n",
              "6       1     1287       5  978302039\n",
              "7       1     2804       5  978300719\n",
              "8       1      594       4  978302268\n",
              "9       1      919       4  978301368"
            ]
          },
          "metadata": {
            "tags": []
          },
          "execution_count": 168
        }
      ]
    },
    {
      "cell_type": "code",
      "metadata": {
        "id": "3r0S2D3ushur",
        "outputId": "d1e98463-0b52-45b4-fbd6-34edffef260d"
      },
      "source": [
        "#View top 10 Movies Records\n",
        "Movies_df.head(10)"
      ],
      "execution_count": null,
      "outputs": [
        {
          "output_type": "execute_result",
          "data": {
            "text/html": [
              "<div>\n",
              "<style scoped>\n",
              "    .dataframe tbody tr th:only-of-type {\n",
              "        vertical-align: middle;\n",
              "    }\n",
              "\n",
              "    .dataframe tbody tr th {\n",
              "        vertical-align: top;\n",
              "    }\n",
              "\n",
              "    .dataframe thead th {\n",
              "        text-align: right;\n",
              "    }\n",
              "</style>\n",
              "<table border=\"1\" class=\"dataframe\">\n",
              "  <thead>\n",
              "    <tr style=\"text-align: right;\">\n",
              "      <th></th>\n",
              "      <th>MovieId</th>\n",
              "      <th>Title</th>\n",
              "      <th>Genres</th>\n",
              "    </tr>\n",
              "  </thead>\n",
              "  <tbody>\n",
              "    <tr>\n",
              "      <th>0</th>\n",
              "      <td>1</td>\n",
              "      <td>Toy Story (1995)</td>\n",
              "      <td>Animation|Children's|Comedy</td>\n",
              "    </tr>\n",
              "    <tr>\n",
              "      <th>1</th>\n",
              "      <td>2</td>\n",
              "      <td>Jumanji (1995)</td>\n",
              "      <td>Adventure|Children's|Fantasy</td>\n",
              "    </tr>\n",
              "    <tr>\n",
              "      <th>2</th>\n",
              "      <td>3</td>\n",
              "      <td>Grumpier Old Men (1995)</td>\n",
              "      <td>Comedy|Romance</td>\n",
              "    </tr>\n",
              "    <tr>\n",
              "      <th>3</th>\n",
              "      <td>4</td>\n",
              "      <td>Waiting to Exhale (1995)</td>\n",
              "      <td>Comedy|Drama</td>\n",
              "    </tr>\n",
              "    <tr>\n",
              "      <th>4</th>\n",
              "      <td>5</td>\n",
              "      <td>Father of the Bride Part II (1995)</td>\n",
              "      <td>Comedy</td>\n",
              "    </tr>\n",
              "    <tr>\n",
              "      <th>5</th>\n",
              "      <td>6</td>\n",
              "      <td>Heat (1995)</td>\n",
              "      <td>Action|Crime|Thriller</td>\n",
              "    </tr>\n",
              "    <tr>\n",
              "      <th>6</th>\n",
              "      <td>7</td>\n",
              "      <td>Sabrina (1995)</td>\n",
              "      <td>Comedy|Romance</td>\n",
              "    </tr>\n",
              "    <tr>\n",
              "      <th>7</th>\n",
              "      <td>8</td>\n",
              "      <td>Tom and Huck (1995)</td>\n",
              "      <td>Adventure|Children's</td>\n",
              "    </tr>\n",
              "    <tr>\n",
              "      <th>8</th>\n",
              "      <td>9</td>\n",
              "      <td>Sudden Death (1995)</td>\n",
              "      <td>Action</td>\n",
              "    </tr>\n",
              "    <tr>\n",
              "      <th>9</th>\n",
              "      <td>10</td>\n",
              "      <td>GoldenEye (1995)</td>\n",
              "      <td>Action|Adventure|Thriller</td>\n",
              "    </tr>\n",
              "  </tbody>\n",
              "</table>\n",
              "</div>"
            ],
            "text/plain": [
              "   MovieId                               Title                        Genres\n",
              "0        1                    Toy Story (1995)   Animation|Children's|Comedy\n",
              "1        2                      Jumanji (1995)  Adventure|Children's|Fantasy\n",
              "2        3             Grumpier Old Men (1995)                Comedy|Romance\n",
              "3        4            Waiting to Exhale (1995)                  Comedy|Drama\n",
              "4        5  Father of the Bride Part II (1995)                        Comedy\n",
              "5        6                         Heat (1995)         Action|Crime|Thriller\n",
              "6        7                      Sabrina (1995)                Comedy|Romance\n",
              "7        8                 Tom and Huck (1995)          Adventure|Children's\n",
              "8        9                 Sudden Death (1995)                        Action\n",
              "9       10                    GoldenEye (1995)     Action|Adventure|Thriller"
            ]
          },
          "metadata": {
            "tags": []
          },
          "execution_count": 169
        }
      ]
    },
    {
      "cell_type": "markdown",
      "metadata": {
        "collapsed": true,
        "id": "l-ofkhq6shuv"
      },
      "source": [
        "# Perform the Exploratory Data Analysis (EDA) for the User Dataset"
      ]
    },
    {
      "cell_type": "code",
      "metadata": {
        "id": "hQPkr1u-shuw",
        "outputId": "353e9d5b-e4a9-4a83-ace4-af89372a6df6"
      },
      "source": [
        "#Visualize User Age Distribution\n",
        "plt.figure(figsize=(15,8))\n",
        "plt.style.use('seaborn')\n",
        "plt.hist(Users_df.Age)\n",
        "plt.title('Visualizing Age distribution of Users')\n",
        "plt.xlabel('Age')\n",
        "plt.ylabel('Frequency')\n",
        "plt.show()"
      ],
      "execution_count": null,
      "outputs": [
        {
          "output_type": "display_data",
          "data": {
            "image/png": "[encoded data removed]",
            "text/plain": [
              "<Figure size 1080x576 with 1 Axes>"
            ]
          },
          "metadata": {
            "tags": [],
            "needs_background": "light"
          }
        }
      ]
    },
    {
      "cell_type": "code",
      "metadata": {
        "id": "3ihnVQ1Yshu3",
        "outputId": "baaabf43-af60-44a7-802f-a472f2b7472b"
      },
      "source": [
        "#Visualize Overall Ratings by Users\n",
        "plt.figure(figsize=(15,8))\n",
        "plt.xlabel('Rating')\n",
        "plt.ylabel('Frequency')\n",
        "Ratings_df.Rating.value_counts().plot(kind='bar')\n",
        "#plt.show()"
      ],
      "execution_count": null,
      "outputs": [
        {
          "output_type": "execute_result",
          "data": {
            "text/plain": [
              "<matplotlib.axes._subplots.AxesSubplot at 0x657d7b8>"
            ]
          },
          "metadata": {
            "tags": []
          },
          "execution_count": 171
        },
        {
          "output_type": "display_data",
          "data": {
            "image/png": "[encoded data removed]",
            "text/plain": [
              "<Figure size 1080x576 with 1 Axes>"
            ]
          },
          "metadata": {
            "tags": []
          }
        }
      ]
    },
    {
      "cell_type": "code",
      "metadata": {
        "id": "ZqP_O84jshu9",
        "outputId": "fb59db2f-c00c-4183-f9fa-6f0327a777d4"
      },
      "source": [
        "#Find and visualize the user rating of the movie “Toy Story”\n",
        "Movie_Rating = Movies_df[Movies_df.Title =='Toy Story (1995)']\n",
        "MovieID = int(Movie_Rating.MovieId)\n",
        "ToyStory_Ratings = Ratings_df[Ratings_df.MovieId==MovieID]\n",
        "plt.style.use('seaborn')\n",
        "plt.ylabel('Frequency')\n",
        "plt.xlabel('Rating')\n",
        "plt.title('User Rating of the Movie \"Toy Story (1995)\"')\n",
        "plt.hist(ToyStory_Ratings.Rating)\n",
        "plt.show()"
      ],
      "execution_count": null,
      "outputs": [
        {
          "output_type": "display_data",
          "data": {
            "image/png": "[encoded data removed]",
            "text/plain": [
              "<Figure size 576x396 with 1 Axes>"
            ]
          },
          "metadata": {
            "tags": []
          }
        }
      ]
    },
    {
      "cell_type": "code",
      "metadata": {
        "id": "nT4fERSZshvE",
        "outputId": "0d05d7bf-6944-4a54-a9a1-0131f4af55ef"
      },
      "source": [
        "#Find and visualize the viewership of the movie “Toy Story” by age group\n",
        "toyStoryList = (ToyStory_Ratings.UserId)\n",
        "dfToyStoryAge = Users_df[Users_df['UserId'].isin(toyStoryList)]\n",
        "plt.style.use('seaborn')\n",
        "plt.ylabel('Frequency')\n",
        "plt.xlabel('Age Group')\n",
        "plt.title('Visualizing viewersip of the movie \"Toy Story\" by age group')\n",
        "plt.hist(dfToyStoryAge.Age)\n",
        "plt.show()"
      ],
      "execution_count": null,
      "outputs": [
        {
          "output_type": "display_data",
          "data": {
            "image/png": "[encoded data removed]",
            "text/plain": [
              "<Figure size 576x396 with 1 Axes>"
            ]
          },
          "metadata": {
            "tags": []
          }
        }
      ]
    },
    {
      "cell_type": "code",
      "metadata": {
        "id": "57r1GJJNshvI",
        "outputId": "e6c2c1e1-42fe-401f-a775-9b29579ca167"
      },
      "source": [
        "#Finding and visualizing the top 25 movies by viewership rating\n",
        "dfTop25 = Ratings_df[Ratings_df.Rating == 5]\n",
        "dfTop25 = dfTop25 [['MovieId','UserId']].groupby('MovieId').count()\n",
        "dfTop25.rename(columns = {'UserId': 'TOTAL COUNTS'}, inplace = True)\n",
        "\n",
        "dfTop25 = dfTop25.sort_values('TOTAL COUNTS', ascending = False) [0:25]\n",
        "dfTop25.reset_index(inplace = True)\n",
        "top25List = list(dfTop25.MovieId.values)\n",
        "dfTop25Movies = Movies_df[Movies_df['MovieId'].isin(top25List)]\n",
        "dfTop25MoviesWithCount = pd.merge(dfTop25Movies, dfTop25, on='MovieId')\n",
        "dfTop25MoviesWithCount.sort_values('TOTAL COUNTS',ascending = False, inplace =True)\n",
        "dfTop25MoviesWithCount.set_index('MovieId', inplace=True)\n",
        "dfTop25MoviesWithCount"
      ],
      "execution_count": null,
      "outputs": [
        {
          "output_type": "execute_result",
          "data": {
            "text/html": [
              "<div>\n",
              "<style scoped>\n",
              "    .dataframe tbody tr th:only-of-type {\n",
              "        vertical-align: middle;\n",
              "    }\n",
              "\n",
              "    .dataframe tbody tr th {\n",
              "        vertical-align: top;\n",
              "    }\n",
              "\n",
              "    .dataframe thead th {\n",
              "        text-align: right;\n",
              "    }\n",
              "</style>\n",
              "<table border=\"1\" class=\"dataframe\">\n",
              "  <thead>\n",
              "    <tr style=\"text-align: right;\">\n",
              "      <th></th>\n",
              "      <th>Title</th>\n",
              "      <th>Genres</th>\n",
              "      <th>TOTAL COUNTS</th>\n",
              "    </tr>\n",
              "    <tr>\n",
              "      <th>MovieId</th>\n",
              "      <th></th>\n",
              "      <th></th>\n",
              "      <th></th>\n",
              "    </tr>\n",
              "  </thead>\n",
              "  <tbody>\n",
              "    <tr>\n",
              "      <th>2858</th>\n",
              "      <td>American Beauty (1999)</td>\n",
              "      <td>Comedy|Drama</td>\n",
              "      <td>1963</td>\n",
              "    </tr>\n",
              "    <tr>\n",
              "      <th>260</th>\n",
              "      <td>Star Wars: Episode IV - A New Hope (1977)</td>\n",
              "      <td>Action|Adventure|Fantasy|Sci-Fi</td>\n",
              "      <td>1826</td>\n",
              "    </tr>\n",
              "    <tr>\n",
              "      <th>1198</th>\n",
              "      <td>Raiders of the Lost Ark (1981)</td>\n",
              "      <td>Action|Adventure</td>\n",
              "      <td>1500</td>\n",
              "    </tr>\n",
              "    <tr>\n",
              "      <th>1196</th>\n",
              "      <td>Star Wars: Episode V - The Empire Strikes Back...</td>\n",
              "      <td>Action|Adventure|Drama|Sci-Fi|War</td>\n",
              "      <td>1483</td>\n",
              "    </tr>\n",
              "    <tr>\n",
              "      <th>527</th>\n",
              "      <td>Schindler's List (1993)</td>\n",
              "      <td>Drama|War</td>\n",
              "      <td>1475</td>\n",
              "    </tr>\n",
              "    <tr>\n",
              "      <th>858</th>\n",
              "      <td>Godfather, The (1972)</td>\n",
              "      <td>Action|Crime|Drama</td>\n",
              "      <td>1475</td>\n",
              "    </tr>\n",
              "    <tr>\n",
              "      <th>318</th>\n",
              "      <td>Shawshank Redemption, The (1994)</td>\n",
              "      <td>Drama</td>\n",
              "      <td>1457</td>\n",
              "    </tr>\n",
              "    <tr>\n",
              "      <th>2571</th>\n",
              "      <td>Matrix, The (1999)</td>\n",
              "      <td>Action|Sci-Fi|Thriller</td>\n",
              "      <td>1430</td>\n",
              "    </tr>\n",
              "    <tr>\n",
              "      <th>2028</th>\n",
              "      <td>Saving Private Ryan (1998)</td>\n",
              "      <td>Action|Drama|War</td>\n",
              "      <td>1405</td>\n",
              "    </tr>\n",
              "    <tr>\n",
              "      <th>2762</th>\n",
              "      <td>Sixth Sense, The (1999)</td>\n",
              "      <td>Thriller</td>\n",
              "      <td>1385</td>\n",
              "    </tr>\n",
              "    <tr>\n",
              "      <th>593</th>\n",
              "      <td>Silence of the Lambs, The (1991)</td>\n",
              "      <td>Drama|Thriller</td>\n",
              "      <td>1350</td>\n",
              "    </tr>\n",
              "    <tr>\n",
              "      <th>608</th>\n",
              "      <td>Fargo (1996)</td>\n",
              "      <td>Crime|Drama|Thriller</td>\n",
              "      <td>1278</td>\n",
              "    </tr>\n",
              "    <tr>\n",
              "      <th>110</th>\n",
              "      <td>Braveheart (1995)</td>\n",
              "      <td>Action|Drama|War</td>\n",
              "      <td>1206</td>\n",
              "    </tr>\n",
              "    <tr>\n",
              "      <th>296</th>\n",
              "      <td>Pulp Fiction (1994)</td>\n",
              "      <td>Crime|Drama</td>\n",
              "      <td>1193</td>\n",
              "    </tr>\n",
              "    <tr>\n",
              "      <th>1197</th>\n",
              "      <td>Princess Bride, The (1987)</td>\n",
              "      <td>Action|Adventure|Comedy|Romance</td>\n",
              "      <td>1186</td>\n",
              "    </tr>\n",
              "    <tr>\n",
              "      <th>50</th>\n",
              "      <td>Usual Suspects, The (1995)</td>\n",
              "      <td>Crime|Thriller</td>\n",
              "      <td>1144</td>\n",
              "    </tr>\n",
              "    <tr>\n",
              "      <th>1210</th>\n",
              "      <td>Star Wars: Episode VI - Return of the Jedi (1983)</td>\n",
              "      <td>Action|Adventure|Romance|Sci-Fi|War</td>\n",
              "      <td>1028</td>\n",
              "    </tr>\n",
              "    <tr>\n",
              "      <th>1617</th>\n",
              "      <td>L.A. Confidential (1997)</td>\n",
              "      <td>Crime|Film-Noir|Mystery|Thriller</td>\n",
              "      <td>1009</td>\n",
              "    </tr>\n",
              "    <tr>\n",
              "      <th>2997</th>\n",
              "      <td>Being John Malkovich (1999)</td>\n",
              "      <td>Comedy</td>\n",
              "      <td>1007</td>\n",
              "    </tr>\n",
              "    <tr>\n",
              "      <th>2396</th>\n",
              "      <td>Shakespeare in Love (1998)</td>\n",
              "      <td>Comedy|Romance</td>\n",
              "      <td>987</td>\n",
              "    </tr>\n",
              "    <tr>\n",
              "      <th>912</th>\n",
              "      <td>Casablanca (1942)</td>\n",
              "      <td>Drama|Romance|War</td>\n",
              "      <td>984</td>\n",
              "    </tr>\n",
              "    <tr>\n",
              "      <th>356</th>\n",
              "      <td>Forrest Gump (1994)</td>\n",
              "      <td>Comedy|Romance|War</td>\n",
              "      <td>945</td>\n",
              "    </tr>\n",
              "    <tr>\n",
              "      <th>589</th>\n",
              "      <td>Terminator 2: Judgment Day (1991)</td>\n",
              "      <td>Action|Sci-Fi|Thriller</td>\n",
              "      <td>942</td>\n",
              "    </tr>\n",
              "    <tr>\n",
              "      <th>1221</th>\n",
              "      <td>Godfather: Part II, The (1974)</td>\n",
              "      <td>Action|Crime|Drama</td>\n",
              "      <td>941</td>\n",
              "    </tr>\n",
              "    <tr>\n",
              "      <th>1193</th>\n",
              "      <td>One Flew Over the Cuckoo's Nest (1975)</td>\n",
              "      <td>Drama</td>\n",
              "      <td>937</td>\n",
              "    </tr>\n",
              "  </tbody>\n",
              "</table>\n",
              "</div>"
            ],
            "text/plain": [
              "                                                     Title  \\\n",
              "MovieId                                                      \n",
              "2858                                American Beauty (1999)   \n",
              "260              Star Wars: Episode IV - A New Hope (1977)   \n",
              "1198                        Raiders of the Lost Ark (1981)   \n",
              "1196     Star Wars: Episode V - The Empire Strikes Back...   \n",
              "527                                Schindler's List (1993)   \n",
              "858                                  Godfather, The (1972)   \n",
              "318                       Shawshank Redemption, The (1994)   \n",
              "2571                                    Matrix, The (1999)   \n",
              "2028                            Saving Private Ryan (1998)   \n",
              "2762                               Sixth Sense, The (1999)   \n",
              "593                       Silence of the Lambs, The (1991)   \n",
              "608                                           Fargo (1996)   \n",
              "110                                      Braveheart (1995)   \n",
              "296                                    Pulp Fiction (1994)   \n",
              "1197                            Princess Bride, The (1987)   \n",
              "50                              Usual Suspects, The (1995)   \n",
              "1210     Star Wars: Episode VI - Return of the Jedi (1983)   \n",
              "1617                              L.A. Confidential (1997)   \n",
              "2997                           Being John Malkovich (1999)   \n",
              "2396                            Shakespeare in Love (1998)   \n",
              "912                                      Casablanca (1942)   \n",
              "356                                    Forrest Gump (1994)   \n",
              "589                      Terminator 2: Judgment Day (1991)   \n",
              "1221                        Godfather: Part II, The (1974)   \n",
              "1193                One Flew Over the Cuckoo's Nest (1975)   \n",
              "\n",
              "                                      Genres  TOTAL COUNTS  \n",
              "MovieId                                                     \n",
              "2858                            Comedy|Drama          1963  \n",
              "260          Action|Adventure|Fantasy|Sci-Fi          1826  \n",
              "1198                        Action|Adventure          1500  \n",
              "1196       Action|Adventure|Drama|Sci-Fi|War          1483  \n",
              "527                                Drama|War          1475  \n",
              "858                       Action|Crime|Drama          1475  \n",
              "318                                    Drama          1457  \n",
              "2571                  Action|Sci-Fi|Thriller          1430  \n",
              "2028                        Action|Drama|War          1405  \n",
              "2762                                Thriller          1385  \n",
              "593                           Drama|Thriller          1350  \n",
              "608                     Crime|Drama|Thriller          1278  \n",
              "110                         Action|Drama|War          1206  \n",
              "296                              Crime|Drama          1193  \n",
              "1197         Action|Adventure|Comedy|Romance          1186  \n",
              "50                            Crime|Thriller          1144  \n",
              "1210     Action|Adventure|Romance|Sci-Fi|War          1028  \n",
              "1617        Crime|Film-Noir|Mystery|Thriller          1009  \n",
              "2997                                  Comedy          1007  \n",
              "2396                          Comedy|Romance           987  \n",
              "912                        Drama|Romance|War           984  \n",
              "356                       Comedy|Romance|War           945  \n",
              "589                   Action|Sci-Fi|Thriller           942  \n",
              "1221                      Action|Crime|Drama           941  \n",
              "1193                                   Drama           937  "
            ]
          },
          "metadata": {
            "tags": []
          },
          "execution_count": 174
        }
      ]
    },
    {
      "cell_type": "code",
      "metadata": {
        "id": "FJwNj0wKshvO",
        "outputId": "b4b596ab-7e14-421c-f56d-d3353792087e"
      },
      "source": [
        "# Visualizing the rating data by user of the userid = 2696\n",
        "UserID = 2696\n",
        "dfUserIDRatings = Ratings_df[Ratings_df.UserId==UserID]\n",
        "plt.style.use('seaborn')\n",
        "plt.ylabel('Frequency')\n",
        "plt.xlabel('Rating')\n",
        "plt.title('Visualizing the rating data of the userid = 2696')\n",
        "plt.hist(dfUserIDRatings.Rating)\n",
        "plt.show()\n",
        "dfUserIDRatings"
      ],
      "execution_count": null,
      "outputs": [
        {
          "output_type": "display_data",
          "data": {
            "image/png": "[encoded data removed]",
            "text/plain": [
              "<Figure size 576x396 with 1 Axes>"
            ]
          },
          "metadata": {
            "tags": []
          }
        },
        {
          "output_type": "execute_result",
          "data": {
            "text/html": [
              "<div>\n",
              "<style scoped>\n",
              "    .dataframe tbody tr th:only-of-type {\n",
              "        vertical-align: middle;\n",
              "    }\n",
              "\n",
              "    .dataframe tbody tr th {\n",
              "        vertical-align: top;\n",
              "    }\n",
              "\n",
              "    .dataframe thead th {\n",
              "        text-align: right;\n",
              "    }\n",
              "</style>\n",
              "<table border=\"1\" class=\"dataframe\">\n",
              "  <thead>\n",
              "    <tr style=\"text-align: right;\">\n",
              "      <th></th>\n",
              "      <th>UserId</th>\n",
              "      <th>MovieId</th>\n",
              "      <th>Rating</th>\n",
              "      <th>Timestamp</th>\n",
              "    </tr>\n",
              "  </thead>\n",
              "  <tbody>\n",
              "    <tr>\n",
              "      <th>440667</th>\n",
              "      <td>2696</td>\n",
              "      <td>1258</td>\n",
              "      <td>4</td>\n",
              "      <td>973308710</td>\n",
              "    </tr>\n",
              "    <tr>\n",
              "      <th>440668</th>\n",
              "      <td>2696</td>\n",
              "      <td>1270</td>\n",
              "      <td>2</td>\n",
              "      <td>973308676</td>\n",
              "    </tr>\n",
              "    <tr>\n",
              "      <th>440669</th>\n",
              "      <td>2696</td>\n",
              "      <td>1617</td>\n",
              "      <td>4</td>\n",
              "      <td>973308842</td>\n",
              "    </tr>\n",
              "    <tr>\n",
              "      <th>440670</th>\n",
              "      <td>2696</td>\n",
              "      <td>1625</td>\n",
              "      <td>4</td>\n",
              "      <td>973308842</td>\n",
              "    </tr>\n",
              "    <tr>\n",
              "      <th>440671</th>\n",
              "      <td>2696</td>\n",
              "      <td>1644</td>\n",
              "      <td>2</td>\n",
              "      <td>973308920</td>\n",
              "    </tr>\n",
              "    <tr>\n",
              "      <th>440672</th>\n",
              "      <td>2696</td>\n",
              "      <td>1645</td>\n",
              "      <td>4</td>\n",
              "      <td>973308904</td>\n",
              "    </tr>\n",
              "    <tr>\n",
              "      <th>440673</th>\n",
              "      <td>2696</td>\n",
              "      <td>1805</td>\n",
              "      <td>4</td>\n",
              "      <td>973308886</td>\n",
              "    </tr>\n",
              "    <tr>\n",
              "      <th>440674</th>\n",
              "      <td>2696</td>\n",
              "      <td>1892</td>\n",
              "      <td>4</td>\n",
              "      <td>973308904</td>\n",
              "    </tr>\n",
              "    <tr>\n",
              "      <th>440675</th>\n",
              "      <td>2696</td>\n",
              "      <td>800</td>\n",
              "      <td>5</td>\n",
              "      <td>973308842</td>\n",
              "    </tr>\n",
              "    <tr>\n",
              "      <th>440676</th>\n",
              "      <td>2696</td>\n",
              "      <td>2338</td>\n",
              "      <td>2</td>\n",
              "      <td>973308920</td>\n",
              "    </tr>\n",
              "    <tr>\n",
              "      <th>440677</th>\n",
              "      <td>2696</td>\n",
              "      <td>1711</td>\n",
              "      <td>4</td>\n",
              "      <td>973308904</td>\n",
              "    </tr>\n",
              "    <tr>\n",
              "      <th>440678</th>\n",
              "      <td>2696</td>\n",
              "      <td>3176</td>\n",
              "      <td>4</td>\n",
              "      <td>973308865</td>\n",
              "    </tr>\n",
              "    <tr>\n",
              "      <th>440679</th>\n",
              "      <td>2696</td>\n",
              "      <td>2389</td>\n",
              "      <td>4</td>\n",
              "      <td>973308710</td>\n",
              "    </tr>\n",
              "    <tr>\n",
              "      <th>440680</th>\n",
              "      <td>2696</td>\n",
              "      <td>1589</td>\n",
              "      <td>3</td>\n",
              "      <td>973308865</td>\n",
              "    </tr>\n",
              "    <tr>\n",
              "      <th>440681</th>\n",
              "      <td>2696</td>\n",
              "      <td>2713</td>\n",
              "      <td>1</td>\n",
              "      <td>973308710</td>\n",
              "    </tr>\n",
              "    <tr>\n",
              "      <th>440682</th>\n",
              "      <td>2696</td>\n",
              "      <td>3386</td>\n",
              "      <td>1</td>\n",
              "      <td>973308842</td>\n",
              "    </tr>\n",
              "    <tr>\n",
              "      <th>440683</th>\n",
              "      <td>2696</td>\n",
              "      <td>1783</td>\n",
              "      <td>4</td>\n",
              "      <td>973308865</td>\n",
              "    </tr>\n",
              "    <tr>\n",
              "      <th>440684</th>\n",
              "      <td>2696</td>\n",
              "      <td>350</td>\n",
              "      <td>3</td>\n",
              "      <td>973308886</td>\n",
              "    </tr>\n",
              "    <tr>\n",
              "      <th>440685</th>\n",
              "      <td>2696</td>\n",
              "      <td>1092</td>\n",
              "      <td>4</td>\n",
              "      <td>973308886</td>\n",
              "    </tr>\n",
              "    <tr>\n",
              "      <th>440686</th>\n",
              "      <td>2696</td>\n",
              "      <td>1097</td>\n",
              "      <td>3</td>\n",
              "      <td>973308690</td>\n",
              "    </tr>\n",
              "  </tbody>\n",
              "</table>\n",
              "</div>"
            ],
            "text/plain": [
              "        UserId  MovieId  Rating  Timestamp\n",
              "440667    2696     1258       4  973308710\n",
              "440668    2696     1270       2  973308676\n",
              "440669    2696     1617       4  973308842\n",
              "440670    2696     1625       4  973308842\n",
              "440671    2696     1644       2  973308920\n",
              "440672    2696     1645       4  973308904\n",
              "440673    2696     1805       4  973308886\n",
              "440674    2696     1892       4  973308904\n",
              "440675    2696      800       5  973308842\n",
              "440676    2696     2338       2  973308920\n",
              "440677    2696     1711       4  973308904\n",
              "440678    2696     3176       4  973308865\n",
              "440679    2696     2389       4  973308710\n",
              "440680    2696     1589       3  973308865\n",
              "440681    2696     2713       1  973308710\n",
              "440682    2696     3386       1  973308842\n",
              "440683    2696     1783       4  973308865\n",
              "440684    2696      350       3  973308886\n",
              "440685    2696     1092       4  973308886\n",
              "440686    2696     1097       3  973308690"
            ]
          },
          "metadata": {
            "tags": []
          },
          "execution_count": 175
        }
      ]
    },
    {
      "cell_type": "markdown",
      "metadata": {
        "id": "ooqs_zFIshvT"
      },
      "source": [
        "# Performing Machine Learning on first 500 Extracted Records"
      ]
    },
    {
      "cell_type": "code",
      "metadata": {
        "id": "pGKBfLYRshvU"
      },
      "source": [
        "# Features (x) = [MOVIEID,AGE,OCCUPATION]\n",
        "# Label (y) = [RATING]\n",
        "xTemp = pd.merge(Users_df,Ratings_df,on = 'UserId')[0:500]\n",
        "xTemp\n",
        "x = xTemp[['MovieId','Age','Occupation']]\n",
        "x =x.values\n",
        "y = np.array(xTemp.Rating)"
      ],
      "execution_count": null,
      "outputs": []
    },
    {
      "cell_type": "code",
      "metadata": {
        "id": "PRRaNChnshva"
      },
      "source": [
        "# instantiate the classifier\n",
        "clf = DecisionTreeClassifier()"
      ],
      "execution_count": null,
      "outputs": []
    },
    {
      "cell_type": "code",
      "metadata": {
        "id": "01pWK8vcshvh",
        "outputId": "c862391b-5b90-4bf0-acec-aec5da644fb5"
      },
      "source": [
        "# fit the training data\n",
        "clf.fit(x, y)"
      ],
      "execution_count": null,
      "outputs": [
        {
          "output_type": "execute_result",
          "data": {
            "text/plain": [
              "DecisionTreeClassifier(class_weight=None, criterion='gini', max_depth=None,\n",
              "            max_features=None, max_leaf_nodes=None,\n",
              "            min_impurity_decrease=0.0, min_impurity_split=None,\n",
              "            min_samples_leaf=1, min_samples_split=2,\n",
              "            min_weight_fraction_leaf=0.0, presort=False, random_state=None,\n",
              "            splitter='best')"
            ]
          },
          "metadata": {
            "tags": []
          },
          "execution_count": 178
        }
      ]
    },
    {
      "cell_type": "code",
      "metadata": {
        "id": "5Hq9NOqmshvo",
        "outputId": "5d1d0fb4-ab85-4919-beba-d103490af207"
      },
      "source": [
        "# Expected predicted values are:\n",
        "# [1193, 1, 10] = 5 \"Rating\"\n",
        "# [838, 50, 9] = 4 \"Rating\"\n",
        "test_sample = [[1193, 1, 10], [838, 50, 9]]\n",
        "prediction = clf.predict(test_sample)\n",
        "print(prediction)"
      ],
      "execution_count": null,
      "outputs": [
        {
          "output_type": "stream",
          "text": [
            "[5 4]\n"
          ],
          "name": "stdout"
        }
      ]
    },
    {
      "cell_type": "code",
      "metadata": {
        "id": "rW1tS9yNshvs",
        "outputId": "c1896b82-fff6-411d-bc39-3adcf56e0f7c"
      },
      "source": [
        "#Verifiying prediction for: [1193, 1, 10]\n",
        "xTemp[(xTemp.MovieId == 1193) & (xTemp.Age == 1)]"
      ],
      "execution_count": null,
      "outputs": [
        {
          "output_type": "execute_result",
          "data": {
            "text/html": [
              "<div>\n",
              "<style scoped>\n",
              "    .dataframe tbody tr th:only-of-type {\n",
              "        vertical-align: middle;\n",
              "    }\n",
              "\n",
              "    .dataframe tbody tr th {\n",
              "        vertical-align: top;\n",
              "    }\n",
              "\n",
              "    .dataframe thead th {\n",
              "        text-align: right;\n",
              "    }\n",
              "</style>\n",
              "<table border=\"1\" class=\"dataframe\">\n",
              "  <thead>\n",
              "    <tr style=\"text-align: right;\">\n",
              "      <th></th>\n",
              "      <th>UserId</th>\n",
              "      <th>Gender</th>\n",
              "      <th>Age</th>\n",
              "      <th>Occupation</th>\n",
              "      <th>Zip-Code</th>\n",
              "      <th>MovieId</th>\n",
              "      <th>Rating</th>\n",
              "      <th>Timestamp</th>\n",
              "    </tr>\n",
              "  </thead>\n",
              "  <tbody>\n",
              "    <tr>\n",
              "      <th>0</th>\n",
              "      <td>1</td>\n",
              "      <td>F</td>\n",
              "      <td>1</td>\n",
              "      <td>10</td>\n",
              "      <td>48067</td>\n",
              "      <td>1193</td>\n",
              "      <td>5</td>\n",
              "      <td>978300760</td>\n",
              "    </tr>\n",
              "  </tbody>\n",
              "</table>\n",
              "</div>"
            ],
            "text/plain": [
              "   UserId Gender  Age  Occupation Zip-Code  MovieId  Rating  Timestamp\n",
              "0       1      F    1          10    48067     1193       5  978300760"
            ]
          },
          "metadata": {
            "tags": []
          },
          "execution_count": 180
        }
      ]
    },
    {
      "cell_type": "code",
      "metadata": {
        "id": "oDS_hs7nshvy",
        "outputId": "573640fd-b31c-4593-bad2-ce579ef0d1a6"
      },
      "source": [
        "#Verifiying prediction for: [838, 50, 9]\n",
        "xTemp[(xTemp.MovieId == 838) & (xTemp.Age == 50)]"
      ],
      "execution_count": null,
      "outputs": [
        {
          "output_type": "execute_result",
          "data": {
            "text/html": [
              "<div>\n",
              "<style scoped>\n",
              "    .dataframe tbody tr th:only-of-type {\n",
              "        vertical-align: middle;\n",
              "    }\n",
              "\n",
              "    .dataframe tbody tr th {\n",
              "        vertical-align: top;\n",
              "    }\n",
              "\n",
              "    .dataframe thead th {\n",
              "        text-align: right;\n",
              "    }\n",
              "</style>\n",
              "<table border=\"1\" class=\"dataframe\">\n",
              "  <thead>\n",
              "    <tr style=\"text-align: right;\">\n",
              "      <th></th>\n",
              "      <th>UserId</th>\n",
              "      <th>Gender</th>\n",
              "      <th>Age</th>\n",
              "      <th>Occupation</th>\n",
              "      <th>Zip-Code</th>\n",
              "      <th>MovieId</th>\n",
              "      <th>Rating</th>\n",
              "      <th>Timestamp</th>\n",
              "    </tr>\n",
              "  </thead>\n",
              "  <tbody>\n",
              "    <tr>\n",
              "      <th>496</th>\n",
              "      <td>6</td>\n",
              "      <td>F</td>\n",
              "      <td>50</td>\n",
              "      <td>9</td>\n",
              "      <td>55117</td>\n",
              "      <td>838</td>\n",
              "      <td>4</td>\n",
              "      <td>978237444</td>\n",
              "    </tr>\n",
              "  </tbody>\n",
              "</table>\n",
              "</div>"
            ],
            "text/plain": [
              "     UserId Gender  Age  Occupation Zip-Code  MovieId  Rating  Timestamp\n",
              "496       6      F   50           9    55117      838       4  978237444"
            ]
          },
          "metadata": {
            "tags": []
          },
          "execution_count": 181
        }
      ]
    },
    {
      "cell_type": "code",
      "metadata": {
        "id": "tFbhP8Orshv5",
        "outputId": "49dc4b9a-b79b-418a-a65e-901da55fbc43"
      },
      "source": [
        "#Create a Histogram for Movie,Age and Occupation\n",
        "xTemp.hist(column = ['MovieId','Age','Occupation']);"
      ],
      "execution_count": null,
      "outputs": [
        {
          "output_type": "display_data",
          "data": {
            "image/png": "[encoded data removed]",
            "text/plain": [
              "<Figure size 576x396 with 4 Axes>"
            ]
          },
          "metadata": {
            "tags": []
          }
        }
      ]
    },
    {
      "cell_type": "code",
      "metadata": {
        "id": "_U-pOCvkshv-"
      },
      "source": [
        ""
      ],
      "execution_count": null,
      "outputs": []
    }
  ]
}