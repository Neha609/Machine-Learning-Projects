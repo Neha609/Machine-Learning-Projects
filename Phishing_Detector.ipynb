{
  "nbformat": 4,
  "nbformat_minor": 0,
  "metadata": {
    "kernelspec": {
      "display_name": "Python 3",
      "language": "python",
      "name": "python3"
    },
    "language_info": {
      "codemirror_mode": {
        "name": "ipython",
        "version": 3
      },
      "file_extension": ".py",
      "mimetype": "text/x-python",
      "name": "python",
      "nbconvert_exporter": "python",
      "pygments_lexer": "ipython3",
      "version": "3.7.0"
    },
    "colab": {
      "name": "Phishing Detector.ipynb",
      "provenance": [],
      "collapsed_sections": [],
      "include_colab_link": true
    }
  },
  "cells": [
    {
      "cell_type": "markdown",
      "metadata": {
        "id": "view-in-github",
        "colab_type": "text"
      },
      "source": [
        "<a href=\"https://colab.research.google.com/github/Neha609/Machine-Learning-Projects/blob/gh-pages/Phishing_Detector.ipynb\" target=\"_parent\"><img src=\"https://colab.research.google.com/assets/colab-badge.svg\" alt=\"Open In Colab\"/></a>"
      ]
    },
    {
      "cell_type": "markdown",
      "metadata": {
        "id": "1bFJ4cBUseRQ"
      },
      "source": [
        "\n",
        "\n",
        "# Phishing Detector using LR\n",
        "\n",
        "You don't need to limit yourself to the number of rows/cells provided. You can add additional rows in each section to add more lines of code.\n",
        "\n",
        "**Happy coding!**"
      ]
    },
    {
      "cell_type": "markdown",
      "metadata": {
        "id": "9PERsDNlseRR"
      },
      "source": [
        "# Initiation"
      ]
    },
    {
      "cell_type": "code",
      "metadata": {
        "id": "Ww8wMatZseRS"
      },
      "source": [
        "#Import Modules\n",
        "from sklearn import datasets\n",
        "import numpy as np\n",
        "from sklearn.model_selection import train_test_split\n",
        "from sklearn.preprocessing import StandardScaler\n",
        "from sklearn.linear_model import LogisticRegression\n",
        "from sklearn.metrics import accuracy_score\n",
        "from matplotlib.colors import ListedColormap\n",
        "import matplotlib.pyplot as plt"
      ],
      "execution_count": null,
      "outputs": []
    },
    {
      "cell_type": "code",
      "metadata": {
        "id": "x-3pkA9fseRX"
      },
      "source": [
        "#Load Dataset\n",
        "Df_Phishing = np.loadtxt('phishing.txt', delimiter=',')\n"
      ],
      "execution_count": null,
      "outputs": []
    },
    {
      "cell_type": "code",
      "metadata": {
        "id": "7Gzrc3KwseRb"
      },
      "source": [
        "#Create X and Y data \n",
        "X = Df_Phishing[:,0:30]\n",
        "y = Df_Phishing[:,30:31]"
      ],
      "execution_count": null,
      "outputs": []
    },
    {
      "cell_type": "code",
      "metadata": {
        "id": "XfyHKgNFseRg",
        "outputId": "329ce3be-ffeb-43d1-c7db-afc88a8d28af"
      },
      "source": [
        "#Printing the response\n",
        "print('Reponse is :',np.unique(y))"
      ],
      "execution_count": null,
      "outputs": [
        {
          "output_type": "stream",
          "text": [
            "Reponse is : [-1.  1.]\n"
          ],
          "name": "stdout"
        }
      ]
    },
    {
      "cell_type": "markdown",
      "metadata": {
        "id": "Y7B1wSI2seRl"
      },
      "source": [
        "# Excercise 1"
      ]
    },
    {
      "cell_type": "code",
      "metadata": {
        "id": "A6R3Hyh7seRm"
      },
      "source": [
        "#Spliting data into Test and Train Part\n",
        "#Using 70% of data as training data and remaining 30% as test data.\n",
        "X_train ,X_test , y_train , y_test = train_test_split(X,y,test_size = 0.3, random_state = 1 ,stratify = y)\n",
        "\n",
        "y_train = np.array(y_train.ravel())\n",
        "y_test = np.array(y_test.ravel())"
      ],
      "execution_count": null,
      "outputs": []
    },
    {
      "cell_type": "code",
      "metadata": {
        "id": "HpsBwf6pseRq"
      },
      "source": [
        "#Train and Evaluate data\n",
        "log_reg = LogisticRegression(C = 100.0,random_state=1)\n",
        "log_reg.fit(X_train,y_train)\n",
        "y_pred = log_reg.predict(X_test)\n"
      ],
      "execution_count": null,
      "outputs": []
    },
    {
      "cell_type": "code",
      "metadata": {
        "id": "EiLEhSdbseRu",
        "outputId": "99e56881-a12a-461b-cb34-da1a394408c5"
      },
      "source": [
        "#Print the Coefficient\n",
        "print(log_reg.coef_)"
      ],
      "execution_count": null,
      "outputs": [
        {
          "output_type": "stream",
          "text": [
            "[[ 6.86563360e-01 -1.82569714e-01 -6.99979031e-01  2.49842660e-01\n",
            "  -2.89201648e-03  4.55396221e+00  5.87940187e-01  1.60874635e+00\n",
            "  -4.54647801e-03 -2.18059714e-01  7.15642607e-01 -5.36021611e-01\n",
            "   1.89714929e-01  3.31306284e+00  7.94614524e-01  9.34960776e-01\n",
            "  -4.33294392e-01 -3.20995408e-02 -1.12795206e+00  1.62700516e-01\n",
            "   2.64792842e-01 -1.45938104e-01 -4.48434933e-01  4.11982061e-02\n",
            "   5.73954898e-01  8.03646174e-01  1.31947122e-01  6.19041802e-01\n",
            "   9.89063126e-01  2.36881642e-01]]\n"
          ],
          "name": "stdout"
        }
      ]
    },
    {
      "cell_type": "code",
      "metadata": {
        "id": "iSjpKvwoseR2",
        "outputId": "aff63bbe-959d-4b41-cb7a-868b33d1f8f5"
      },
      "source": [
        "#Print the Misclassified Samples\n",
        "print('Misclassified samples: %d' % (y_test != y_pred).sum())"
      ],
      "execution_count": null,
      "outputs": [
        {
          "output_type": "stream",
          "text": [
            "Misclassified samples: 249\n"
          ],
          "name": "stdout"
        }
      ]
    },
    {
      "cell_type": "code",
      "metadata": {
        "id": "whKh-9_0seR6",
        "outputId": "33844d64-92f1-4b60-e794-340629d2b427"
      },
      "source": [
        "#Print the Accuracy Score\n",
        "print('Accuracy : %.2f'%accuracy_score(y_test,y_pred))"
      ],
      "execution_count": null,
      "outputs": [
        {
          "output_type": "stream",
          "text": [
            "Accuracy : 0.92\n"
          ],
          "name": "stdout"
        }
      ]
    },
    {
      "cell_type": "code",
      "metadata": {
        "id": "Toblmpb9seR-",
        "outputId": "d4959679-bee7-4cda-c2cc-49bcc2a2e59e"
      },
      "source": [
        "#Print the Score of  Model\n",
        "print('Accuracy :%.2f'%log_reg.score(X_test,y_test))"
      ],
      "execution_count": null,
      "outputs": [
        {
          "output_type": "stream",
          "text": [
            "Accuracy :0.92\n"
          ],
          "name": "stdout"
        }
      ]
    },
    {
      "cell_type": "markdown",
      "metadata": {
        "collapsed": true,
        "id": "vQriRgtnseSD"
      },
      "source": [
        "# Excercise 2"
      ]
    },
    {
      "cell_type": "code",
      "metadata": {
        "id": "cW8wltErseSE"
      },
      "source": [
        "#Train and Evaluate data with only two input parameters\n",
        "log_Reg1 = LogisticRegression(C= 100.0,random_state=1)\n",
        "log_Reg1.fit(X_train[:,[5,13]],y_train)\n",
        "y_pred = log_Reg1.predict(X_test[:,[5,13]])"
      ],
      "execution_count": null,
      "outputs": []
    },
    {
      "cell_type": "code",
      "metadata": {
        "id": "rrs5W4j3seSI",
        "outputId": "1488a3fd-cf2e-4fc5-ce79-fd1f3b9e981c"
      },
      "source": [
        "#Print the Misclassified Samples\n",
        "print('Misclassified samples: %d' % (y_test != y_pred).sum())"
      ],
      "execution_count": null,
      "outputs": [
        {
          "output_type": "stream",
          "text": [
            "Misclassified samples: 543\n"
          ],
          "name": "stdout"
        }
      ]
    },
    {
      "cell_type": "code",
      "metadata": {
        "id": "vjZmAq9ZseSL",
        "outputId": "c5a7ff7f-0541-42b9-c4e8-a13dca20ff36"
      },
      "source": [
        "#Print the Accuracy Score\n",
        "print('Accuracy : %.2f'%accuracy_score(y_test,y_pred))"
      ],
      "execution_count": null,
      "outputs": [
        {
          "output_type": "stream",
          "text": [
            "Accuracy : 0.84\n"
          ],
          "name": "stdout"
        }
      ]
    },
    {
      "cell_type": "code",
      "metadata": {
        "id": "XHEVufztseSS",
        "outputId": "d131adb3-e45e-4aff-e929-c3c20d5ba95c"
      },
      "source": [
        "#Print the Score of  Model\n",
        "print('Accuracy :%.2f'%log_Reg1.score(X_test[:,[5,13]],y_test))"
      ],
      "execution_count": null,
      "outputs": [
        {
          "output_type": "stream",
          "text": [
            "Accuracy :0.84\n"
          ],
          "name": "stdout"
        }
      ]
    },
    {
      "cell_type": "markdown",
      "metadata": {
        "collapsed": true,
        "id": "RhpV8xAbseSW"
      },
      "source": [
        "# Ploting the samples"
      ]
    },
    {
      "cell_type": "code",
      "metadata": {
        "id": "CkzTtuDKseSX"
      },
      "source": [
        "#Defining a ploting function \n",
        "def Ploting_decision(X,y,classifier,test_idx=None,resolution=0.02):\n",
        "    \n",
        "    #Setup marker generators and color map\n",
        "    marker = ('s','x','o','^','v')\n",
        "    colors = ('red','pink','lightgreen','gray','cyan')\n",
        "    cmap = ListedColormap(colors[:len(np.unique(y))])\n",
        "    \n",
        "    #plot the decision surface\n",
        "    x1_min, x1_max = X[:,0].min()-1,X[:, 0].max()+1\n",
        "    x2_min, x2_max = X[:,1].min()-1,X[:, 1].max()+1\n",
        "    xx1,xx2 = np.meshgrid(np.arange(x1_min, x1_max, resolution),np.arange(x2_min, x2_max,resolution))\n",
        "    \n",
        "    Z = classifier.predict(np.array([xx1.ravel(),xx2.ravel()]).T)\n",
        "    Z = Z.reshape(xx1.shape)\n",
        "    plt.contourf(xx1,xx2,Z,alpha = 0.3 , cmap = cmap)\n",
        "    plt.xlim(xx1.min(),xx1.max())\n",
        "    plt.ylim(xx2.min(),xx2.max())\n",
        "    \n",
        "    #plot all samples\n",
        "    for idx,cl in enumerate(np.unique(y)):\n",
        "        plt.scatter(x=X[y==cl,0],y=X[y==cl,1],alpha=0.8,\n",
        "                   c=colors[idx],marker=marker[idx],label=cl,edgecolor = 'black')\n",
        "        \n",
        "    if test_idx:\n",
        "        X_test , y_test = X[test_idx,:],y[test_idx]\n",
        "        plt.scatter(X_test[:,0],X_test[:,1],c='',edgecolor = 'black', alpha=1.0,linewidth = 1,\n",
        "                   marker= 'o',s = 100, label = 'test set')"
      ],
      "execution_count": null,
      "outputs": []
    },
    {
      "cell_type": "code",
      "metadata": {
        "id": "3q2_wnRKseSc",
        "outputId": "a9f86a09-6e7a-4ea3-fe70-51dd4793bcf4"
      },
      "source": [
        "#Plot the decision Boundary\n",
        "Ploting_decision(X_test[:,[5,13]],y_test, classifier=log_Reg1)\n",
        "\n",
        "plt.xlabel('prefix Suffix')\n",
        "plt.ylabel('URL of Anchor')\n",
        "plt.legend(loc = 'upper left')\n",
        "plt.title('Phishing Logistic Regression')\n",
        "plt.show()\n"
      ],
      "execution_count": null,
      "outputs": [
        {
          "output_type": "display_data",
          "data": {
            "image/png": "[encoded data removed]",
            "text/plain": [
              "<Figure size 432x288 with 1 Axes>"
            ]
          },
          "metadata": {
            "tags": [],
            "needs_background": "light"
          }
        }
      ]
    },
    {
      "cell_type": "code",
      "metadata": {
        "id": "1QwxnNrGseSf"
      },
      "source": [
        ""
      ],
      "execution_count": null,
      "outputs": []
    },
    {
      "cell_type": "code",
      "metadata": {
        "id": "ke68s1B0seSj"
      },
      "source": [
        ""
      ],
      "execution_count": null,
      "outputs": []
    }
  ]
}