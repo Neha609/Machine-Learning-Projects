{
  "nbformat": 4,
  "nbformat_minor": 0,
  "metadata": {
    "kernelspec": {
      "display_name": "Python 3",
      "language": "python",
      "name": "python3"
    },
    "language_info": {
      "codemirror_mode": {
        "name": "ipython",
        "version": 3
      },
      "file_extension": ".py",
      "mimetype": "text/x-python",
      "name": "python",
      "nbconvert_exporter": "python",
      "pygments_lexer": "ipython3",
      "version": "3.7.0"
    },
    "colab": {
      "name": "Project 1.ipynb",
      "provenance": [],
      "include_colab_link": true
    }
  },
  "cells": [
    {
      "cell_type": "markdown",
      "metadata": {
        "id": "view-in-github",
        "colab_type": "text"
      },
      "source": [
        "<a href=\"https://colab.research.google.com/github/Neha609/Machine-Learning-Projects/blob/gh-pages/Housing%20Price%20Prediction.ipynb\" target=\"_parent\"><img src=\"https://colab.research.google.com/assets/colab-badge.svg\" alt=\"Open In Colab\"/></a>"
      ]
    },
    {
      "cell_type": "markdown",
      "metadata": {
        "id": "IAR6CLI3scEm"
      },
      "source": [
        "\n",
        "\n",
        "## **Project 01: California Housing Price Prediction**\n",
        "\n",
        "You don't need to limit yourself to the number of rows/cells provided. You can add additional rows in each section to add more lines of code.\n",
        "\n",
        "**Happy coding!**"
      ]
    },
    {
      "cell_type": "markdown",
      "metadata": {
        "id": "Zb4ydSrwscEp"
      },
      "source": [
        "# Import Libraries"
      ]
    },
    {
      "cell_type": "code",
      "metadata": {
        "id": "837CsY2oscEq"
      },
      "source": [
        "#Import the required libraries\n",
        "import numpy as np\n",
        "import pandas as pd\n",
        "from sklearn import datasets\n",
        "from sklearn.preprocessing import StandardScaler\n",
        "from sklearn.preprocessing import LabelEncoder\n",
        "\n",
        "#For Ploting Graph\n",
        "import matplotlib.pyplot as plt"
      ],
      "execution_count": null,
      "outputs": []
    },
    {
      "cell_type": "markdown",
      "metadata": {
        "id": "DwQgzm0JscEv"
      },
      "source": [
        "# Load The Data"
      ]
    },
    {
      "cell_type": "code",
      "metadata": {
        "id": "hMkiIJQHscEw"
      },
      "source": [
        "#Read the Housing Data\n",
        "Dt_Housing = pd.read_csv('housing.csv')"
      ],
      "execution_count": null,
      "outputs": []
    },
    {
      "cell_type": "code",
      "metadata": {
        "id": "erYN1AyUscE1",
        "outputId": "cafb7726-abb9-4c31-bf5e-e44d6752157e"
      },
      "source": [
        "#View first Few Records\n",
        "Dt_Housing.head()"
      ],
      "execution_count": null,
      "outputs": [
        {
          "output_type": "execute_result",
          "data": {
            "text/html": [
              "<div>\n",
              "<style scoped>\n",
              "    .dataframe tbody tr th:only-of-type {\n",
              "        vertical-align: middle;\n",
              "    }\n",
              "\n",
              "    .dataframe tbody tr th {\n",
              "        vertical-align: top;\n",
              "    }\n",
              "\n",
              "    .dataframe thead th {\n",
              "        text-align: right;\n",
              "    }\n",
              "</style>\n",
              "<table border=\"1\" class=\"dataframe\">\n",
              "  <thead>\n",
              "    <tr style=\"text-align: right;\">\n",
              "      <th></th>\n",
              "      <th>longitude</th>\n",
              "      <th>latitude</th>\n",
              "      <th>housing_median_age</th>\n",
              "      <th>total_rooms</th>\n",
              "      <th>total_bedrooms</th>\n",
              "      <th>population</th>\n",
              "      <th>households</th>\n",
              "      <th>median_income</th>\n",
              "      <th>ocean_proximity</th>\n",
              "      <th>median_house_value</th>\n",
              "    </tr>\n",
              "  </thead>\n",
              "  <tbody>\n",
              "    <tr>\n",
              "      <th>0</th>\n",
              "      <td>-122.23</td>\n",
              "      <td>37.88</td>\n",
              "      <td>41</td>\n",
              "      <td>880</td>\n",
              "      <td>129.0</td>\n",
              "      <td>322</td>\n",
              "      <td>126</td>\n",
              "      <td>8.3252</td>\n",
              "      <td>NEAR BAY</td>\n",
              "      <td>452600</td>\n",
              "    </tr>\n",
              "    <tr>\n",
              "      <th>1</th>\n",
              "      <td>-122.22</td>\n",
              "      <td>37.86</td>\n",
              "      <td>21</td>\n",
              "      <td>7099</td>\n",
              "      <td>1106.0</td>\n",
              "      <td>2401</td>\n",
              "      <td>1138</td>\n",
              "      <td>8.3014</td>\n",
              "      <td>NEAR BAY</td>\n",
              "      <td>358500</td>\n",
              "    </tr>\n",
              "    <tr>\n",
              "      <th>2</th>\n",
              "      <td>-122.24</td>\n",
              "      <td>37.85</td>\n",
              "      <td>52</td>\n",
              "      <td>1467</td>\n",
              "      <td>190.0</td>\n",
              "      <td>496</td>\n",
              "      <td>177</td>\n",
              "      <td>7.2574</td>\n",
              "      <td>NEAR BAY</td>\n",
              "      <td>352100</td>\n",
              "    </tr>\n",
              "    <tr>\n",
              "      <th>3</th>\n",
              "      <td>-122.25</td>\n",
              "      <td>37.85</td>\n",
              "      <td>52</td>\n",
              "      <td>1274</td>\n",
              "      <td>235.0</td>\n",
              "      <td>558</td>\n",
              "      <td>219</td>\n",
              "      <td>5.6431</td>\n",
              "      <td>NEAR BAY</td>\n",
              "      <td>341300</td>\n",
              "    </tr>\n",
              "    <tr>\n",
              "      <th>4</th>\n",
              "      <td>-122.25</td>\n",
              "      <td>37.85</td>\n",
              "      <td>52</td>\n",
              "      <td>1627</td>\n",
              "      <td>280.0</td>\n",
              "      <td>565</td>\n",
              "      <td>259</td>\n",
              "      <td>3.8462</td>\n",
              "      <td>NEAR BAY</td>\n",
              "      <td>342200</td>\n",
              "    </tr>\n",
              "  </tbody>\n",
              "</table>\n",
              "</div>"
            ],
            "text/plain": [
              "   longitude  latitude  housing_median_age  total_rooms  total_bedrooms  \\\n",
              "0    -122.23     37.88                  41          880           129.0   \n",
              "1    -122.22     37.86                  21         7099          1106.0   \n",
              "2    -122.24     37.85                  52         1467           190.0   \n",
              "3    -122.25     37.85                  52         1274           235.0   \n",
              "4    -122.25     37.85                  52         1627           280.0   \n",
              "\n",
              "   population  households  median_income ocean_proximity  median_house_value  \n",
              "0         322         126         8.3252        NEAR BAY              452600  \n",
              "1        2401        1138         8.3014        NEAR BAY              358500  \n",
              "2         496         177         7.2574        NEAR BAY              352100  \n",
              "3         558         219         5.6431        NEAR BAY              341300  \n",
              "4         565         259         3.8462        NEAR BAY              342200  "
            ]
          },
          "metadata": {
            "tags": []
          },
          "execution_count": 179
        }
      ]
    },
    {
      "cell_type": "code",
      "metadata": {
        "id": "6smNi7UoscE9"
      },
      "source": [
        "#Extract input(X) and output (Y) data from the dataset\n",
        "Feature_cols = ['longitude','latitude','housing_median_age','total_rooms','total_bedrooms','population',\n",
        "                'households','median_income','ocean_proximity']\n",
        "X = Dt_Housing[Feature_cols]\n",
        "Y = Dt_Housing.median_house_value"
      ],
      "execution_count": null,
      "outputs": []
    },
    {
      "cell_type": "code",
      "metadata": {
        "id": "Nr2RmHQlscFD",
        "outputId": "44ce21f4-fadb-4dd4-88d7-447009d583ba"
      },
      "source": [
        "#View first five Featured Data\n",
        "X.head()"
      ],
      "execution_count": null,
      "outputs": [
        {
          "output_type": "execute_result",
          "data": {
            "text/html": [
              "<div>\n",
              "<style scoped>\n",
              "    .dataframe tbody tr th:only-of-type {\n",
              "        vertical-align: middle;\n",
              "    }\n",
              "\n",
              "    .dataframe tbody tr th {\n",
              "        vertical-align: top;\n",
              "    }\n",
              "\n",
              "    .dataframe thead th {\n",
              "        text-align: right;\n",
              "    }\n",
              "</style>\n",
              "<table border=\"1\" class=\"dataframe\">\n",
              "  <thead>\n",
              "    <tr style=\"text-align: right;\">\n",
              "      <th></th>\n",
              "      <th>longitude</th>\n",
              "      <th>latitude</th>\n",
              "      <th>housing_median_age</th>\n",
              "      <th>total_rooms</th>\n",
              "      <th>total_bedrooms</th>\n",
              "      <th>population</th>\n",
              "      <th>households</th>\n",
              "      <th>median_income</th>\n",
              "      <th>ocean_proximity</th>\n",
              "    </tr>\n",
              "  </thead>\n",
              "  <tbody>\n",
              "    <tr>\n",
              "      <th>0</th>\n",
              "      <td>-122.23</td>\n",
              "      <td>37.88</td>\n",
              "      <td>41</td>\n",
              "      <td>880</td>\n",
              "      <td>129.0</td>\n",
              "      <td>322</td>\n",
              "      <td>126</td>\n",
              "      <td>8.3252</td>\n",
              "      <td>NEAR BAY</td>\n",
              "    </tr>\n",
              "    <tr>\n",
              "      <th>1</th>\n",
              "      <td>-122.22</td>\n",
              "      <td>37.86</td>\n",
              "      <td>21</td>\n",
              "      <td>7099</td>\n",
              "      <td>1106.0</td>\n",
              "      <td>2401</td>\n",
              "      <td>1138</td>\n",
              "      <td>8.3014</td>\n",
              "      <td>NEAR BAY</td>\n",
              "    </tr>\n",
              "    <tr>\n",
              "      <th>2</th>\n",
              "      <td>-122.24</td>\n",
              "      <td>37.85</td>\n",
              "      <td>52</td>\n",
              "      <td>1467</td>\n",
              "      <td>190.0</td>\n",
              "      <td>496</td>\n",
              "      <td>177</td>\n",
              "      <td>7.2574</td>\n",
              "      <td>NEAR BAY</td>\n",
              "    </tr>\n",
              "    <tr>\n",
              "      <th>3</th>\n",
              "      <td>-122.25</td>\n",
              "      <td>37.85</td>\n",
              "      <td>52</td>\n",
              "      <td>1274</td>\n",
              "      <td>235.0</td>\n",
              "      <td>558</td>\n",
              "      <td>219</td>\n",
              "      <td>5.6431</td>\n",
              "      <td>NEAR BAY</td>\n",
              "    </tr>\n",
              "    <tr>\n",
              "      <th>4</th>\n",
              "      <td>-122.25</td>\n",
              "      <td>37.85</td>\n",
              "      <td>52</td>\n",
              "      <td>1627</td>\n",
              "      <td>280.0</td>\n",
              "      <td>565</td>\n",
              "      <td>259</td>\n",
              "      <td>3.8462</td>\n",
              "      <td>NEAR BAY</td>\n",
              "    </tr>\n",
              "  </tbody>\n",
              "</table>\n",
              "</div>"
            ],
            "text/plain": [
              "   longitude  latitude  housing_median_age  total_rooms  total_bedrooms  \\\n",
              "0    -122.23     37.88                  41          880           129.0   \n",
              "1    -122.22     37.86                  21         7099          1106.0   \n",
              "2    -122.24     37.85                  52         1467           190.0   \n",
              "3    -122.25     37.85                  52         1274           235.0   \n",
              "4    -122.25     37.85                  52         1627           280.0   \n",
              "\n",
              "   population  households  median_income ocean_proximity  \n",
              "0         322         126         8.3252        NEAR BAY  \n",
              "1        2401        1138         8.3014        NEAR BAY  \n",
              "2         496         177         7.2574        NEAR BAY  \n",
              "3         558         219         5.6431        NEAR BAY  \n",
              "4         565         259         3.8462        NEAR BAY  "
            ]
          },
          "metadata": {
            "tags": []
          },
          "execution_count": 181
        }
      ]
    },
    {
      "cell_type": "code",
      "metadata": {
        "id": "i8Ovhx_ZscFJ",
        "outputId": "720b989a-04aa-4872-e059-25ee5eb7fcee"
      },
      "source": [
        "#View first five  Response\n",
        "Y.head()"
      ],
      "execution_count": null,
      "outputs": [
        {
          "output_type": "execute_result",
          "data": {
            "text/plain": [
              "0    452600\n",
              "1    358500\n",
              "2    352100\n",
              "3    341300\n",
              "4    342200\n",
              "Name: median_house_value, dtype: int64"
            ]
          },
          "metadata": {
            "tags": []
          },
          "execution_count": 182
        }
      ]
    },
    {
      "cell_type": "code",
      "metadata": {
        "id": "xW3x5T-xscFR",
        "outputId": "e23c2188-170b-4b06-d967-a562c6c24902"
      },
      "source": [
        "#View the Featured Data\n",
        "X.head()"
      ],
      "execution_count": null,
      "outputs": [
        {
          "output_type": "execute_result",
          "data": {
            "text/html": [
              "<div>\n",
              "<style scoped>\n",
              "    .dataframe tbody tr th:only-of-type {\n",
              "        vertical-align: middle;\n",
              "    }\n",
              "\n",
              "    .dataframe tbody tr th {\n",
              "        vertical-align: top;\n",
              "    }\n",
              "\n",
              "    .dataframe thead th {\n",
              "        text-align: right;\n",
              "    }\n",
              "</style>\n",
              "<table border=\"1\" class=\"dataframe\">\n",
              "  <thead>\n",
              "    <tr style=\"text-align: right;\">\n",
              "      <th></th>\n",
              "      <th>longitude</th>\n",
              "      <th>latitude</th>\n",
              "      <th>housing_median_age</th>\n",
              "      <th>total_rooms</th>\n",
              "      <th>total_bedrooms</th>\n",
              "      <th>population</th>\n",
              "      <th>households</th>\n",
              "      <th>median_income</th>\n",
              "      <th>ocean_proximity</th>\n",
              "    </tr>\n",
              "  </thead>\n",
              "  <tbody>\n",
              "    <tr>\n",
              "      <th>0</th>\n",
              "      <td>-122.23</td>\n",
              "      <td>37.88</td>\n",
              "      <td>41</td>\n",
              "      <td>880</td>\n",
              "      <td>129.0</td>\n",
              "      <td>322</td>\n",
              "      <td>126</td>\n",
              "      <td>8.3252</td>\n",
              "      <td>NEAR BAY</td>\n",
              "    </tr>\n",
              "    <tr>\n",
              "      <th>1</th>\n",
              "      <td>-122.22</td>\n",
              "      <td>37.86</td>\n",
              "      <td>21</td>\n",
              "      <td>7099</td>\n",
              "      <td>1106.0</td>\n",
              "      <td>2401</td>\n",
              "      <td>1138</td>\n",
              "      <td>8.3014</td>\n",
              "      <td>NEAR BAY</td>\n",
              "    </tr>\n",
              "    <tr>\n",
              "      <th>2</th>\n",
              "      <td>-122.24</td>\n",
              "      <td>37.85</td>\n",
              "      <td>52</td>\n",
              "      <td>1467</td>\n",
              "      <td>190.0</td>\n",
              "      <td>496</td>\n",
              "      <td>177</td>\n",
              "      <td>7.2574</td>\n",
              "      <td>NEAR BAY</td>\n",
              "    </tr>\n",
              "    <tr>\n",
              "      <th>3</th>\n",
              "      <td>-122.25</td>\n",
              "      <td>37.85</td>\n",
              "      <td>52</td>\n",
              "      <td>1274</td>\n",
              "      <td>235.0</td>\n",
              "      <td>558</td>\n",
              "      <td>219</td>\n",
              "      <td>5.6431</td>\n",
              "      <td>NEAR BAY</td>\n",
              "    </tr>\n",
              "    <tr>\n",
              "      <th>4</th>\n",
              "      <td>-122.25</td>\n",
              "      <td>37.85</td>\n",
              "      <td>52</td>\n",
              "      <td>1627</td>\n",
              "      <td>280.0</td>\n",
              "      <td>565</td>\n",
              "      <td>259</td>\n",
              "      <td>3.8462</td>\n",
              "      <td>NEAR BAY</td>\n",
              "    </tr>\n",
              "  </tbody>\n",
              "</table>\n",
              "</div>"
            ],
            "text/plain": [
              "   longitude  latitude  housing_median_age  total_rooms  total_bedrooms  \\\n",
              "0    -122.23     37.88                  41          880           129.0   \n",
              "1    -122.22     37.86                  21         7099          1106.0   \n",
              "2    -122.24     37.85                  52         1467           190.0   \n",
              "3    -122.25     37.85                  52         1274           235.0   \n",
              "4    -122.25     37.85                  52         1627           280.0   \n",
              "\n",
              "   population  households  median_income ocean_proximity  \n",
              "0         322         126         8.3252        NEAR BAY  \n",
              "1        2401        1138         8.3014        NEAR BAY  \n",
              "2         496         177         7.2574        NEAR BAY  \n",
              "3         558         219         5.6431        NEAR BAY  \n",
              "4         565         259         3.8462        NEAR BAY  "
            ]
          },
          "metadata": {
            "tags": []
          },
          "execution_count": 183
        }
      ]
    },
    {
      "cell_type": "code",
      "metadata": {
        "id": "BAdHhs7_scFZ",
        "outputId": "e15fb261-56e0-4f61-ec6d-19a56cd8d6fa"
      },
      "source": [
        "#View the shape of Featured Data\n",
        "X.shape"
      ],
      "execution_count": null,
      "outputs": [
        {
          "output_type": "execute_result",
          "data": {
            "text/plain": [
              "(20640, 9)"
            ]
          },
          "metadata": {
            "tags": []
          },
          "execution_count": 184
        }
      ]
    },
    {
      "cell_type": "markdown",
      "metadata": {
        "id": "eC3h_S8kscFe"
      },
      "source": [
        "# Handle missing values"
      ]
    },
    {
      "cell_type": "code",
      "metadata": {
        "id": "KC_eFWgCscFf",
        "outputId": "80ac18f9-97a5-4cf0-e5c2-02b08707945c"
      },
      "source": [
        "#Finding the mean of the Housing Data\n",
        "Dt_Housing.mean()"
      ],
      "execution_count": null,
      "outputs": [
        {
          "output_type": "execute_result",
          "data": {
            "text/plain": [
              "longitude               -119.569704\n",
              "latitude                  35.631861\n",
              "housing_median_age        28.639486\n",
              "total_rooms             2635.763081\n",
              "total_bedrooms           537.870553\n",
              "population              1425.476744\n",
              "households               499.539680\n",
              "median_income              3.870671\n",
              "median_house_value    206855.816909\n",
              "dtype: float64"
            ]
          },
          "metadata": {
            "tags": []
          },
          "execution_count": 185
        }
      ]
    },
    {
      "cell_type": "code",
      "metadata": {
        "id": "ZOfeC59WscFi",
        "outputId": "7451428a-2c3e-483a-fd84-2deb806f995d"
      },
      "source": [
        "#Fill the missing values with \"mean\" of the respective columns\n",
        "Dt_Housing.fillna(Dt_Housing.mean())"
      ],
      "execution_count": null,
      "outputs": [
        {
          "output_type": "execute_result",
          "data": {
            "text/html": [
              "<div>\n",
              "<style scoped>\n",
              "    .dataframe tbody tr th:only-of-type {\n",
              "        vertical-align: middle;\n",
              "    }\n",
              "\n",
              "    .dataframe tbody tr th {\n",
              "        vertical-align: top;\n",
              "    }\n",
              "\n",
              "    .dataframe thead th {\n",
              "        text-align: right;\n",
              "    }\n",
              "</style>\n",
              "<table border=\"1\" class=\"dataframe\">\n",
              "  <thead>\n",
              "    <tr style=\"text-align: right;\">\n",
              "      <th></th>\n",
              "      <th>longitude</th>\n",
              "      <th>latitude</th>\n",
              "      <th>housing_median_age</th>\n",
              "      <th>total_rooms</th>\n",
              "      <th>total_bedrooms</th>\n",
              "      <th>population</th>\n",
              "      <th>households</th>\n",
              "      <th>median_income</th>\n",
              "      <th>ocean_proximity</th>\n",
              "      <th>median_house_value</th>\n",
              "    </tr>\n",
              "  </thead>\n",
              "  <tbody>\n",
              "    <tr>\n",
              "      <th>0</th>\n",
              "      <td>-122.23</td>\n",
              "      <td>37.88</td>\n",
              "      <td>41</td>\n",
              "      <td>880</td>\n",
              "      <td>129.0</td>\n",
              "      <td>322</td>\n",
              "      <td>126</td>\n",
              "      <td>8.3252</td>\n",
              "      <td>NEAR BAY</td>\n",
              "      <td>452600</td>\n",
              "    </tr>\n",
              "    <tr>\n",
              "      <th>1</th>\n",
              "      <td>-122.22</td>\n",
              "      <td>37.86</td>\n",
              "      <td>21</td>\n",
              "      <td>7099</td>\n",
              "      <td>1106.0</td>\n",
              "      <td>2401</td>\n",
              "      <td>1138</td>\n",
              "      <td>8.3014</td>\n",
              "      <td>NEAR BAY</td>\n",
              "      <td>358500</td>\n",
              "    </tr>\n",
              "    <tr>\n",
              "      <th>2</th>\n",
              "      <td>-122.24</td>\n",
              "      <td>37.85</td>\n",
              "      <td>52</td>\n",
              "      <td>1467</td>\n",
              "      <td>190.0</td>\n",
              "      <td>496</td>\n",
              "      <td>177</td>\n",
              "      <td>7.2574</td>\n",
              "      <td>NEAR BAY</td>\n",
              "      <td>352100</td>\n",
              "    </tr>\n",
              "    <tr>\n",
              "      <th>3</th>\n",
              "      <td>-122.25</td>\n",
              "      <td>37.85</td>\n",
              "      <td>52</td>\n",
              "      <td>1274</td>\n",
              "      <td>235.0</td>\n",
              "      <td>558</td>\n",
              "      <td>219</td>\n",
              "      <td>5.6431</td>\n",
              "      <td>NEAR BAY</td>\n",
              "      <td>341300</td>\n",
              "    </tr>\n",
              "    <tr>\n",
              "      <th>4</th>\n",
              "      <td>-122.25</td>\n",
              "      <td>37.85</td>\n",
              "      <td>52</td>\n",
              "      <td>1627</td>\n",
              "      <td>280.0</td>\n",
              "      <td>565</td>\n",
              "      <td>259</td>\n",
              "      <td>3.8462</td>\n",
              "      <td>NEAR BAY</td>\n",
              "      <td>342200</td>\n",
              "    </tr>\n",
              "    <tr>\n",
              "      <th>5</th>\n",
              "      <td>-122.25</td>\n",
              "      <td>37.85</td>\n",
              "      <td>52</td>\n",
              "      <td>919</td>\n",
              "      <td>213.0</td>\n",
              "      <td>413</td>\n",
              "      <td>193</td>\n",
              "      <td>4.0368</td>\n",
              "      <td>NEAR BAY</td>\n",
              "      <td>269700</td>\n",
              "    </tr>\n",
              "    <tr>\n",
              "      <th>6</th>\n",
              "      <td>-122.25</td>\n",
              "      <td>37.84</td>\n",
              "      <td>52</td>\n",
              "      <td>2535</td>\n",
              "      <td>489.0</td>\n",
              "      <td>1094</td>\n",
              "      <td>514</td>\n",
              "      <td>3.6591</td>\n",
              "      <td>NEAR BAY</td>\n",
              "      <td>299200</td>\n",
              "    </tr>\n",
              "    <tr>\n",
              "      <th>7</th>\n",
              "      <td>-122.25</td>\n",
              "      <td>37.84</td>\n",
              "      <td>52</td>\n",
              "      <td>3104</td>\n",
              "      <td>687.0</td>\n",
              "      <td>1157</td>\n",
              "      <td>647</td>\n",
              "      <td>3.1200</td>\n",
              "      <td>NEAR BAY</td>\n",
              "      <td>241400</td>\n",
              "    </tr>\n",
              "    <tr>\n",
              "      <th>8</th>\n",
              "      <td>-122.26</td>\n",
              "      <td>37.84</td>\n",
              "      <td>42</td>\n",
              "      <td>2555</td>\n",
              "      <td>665.0</td>\n",
              "      <td>1206</td>\n",
              "      <td>595</td>\n",
              "      <td>2.0804</td>\n",
              "      <td>NEAR BAY</td>\n",
              "      <td>226700</td>\n",
              "    </tr>\n",
              "    <tr>\n",
              "      <th>9</th>\n",
              "      <td>-122.25</td>\n",
              "      <td>37.84</td>\n",
              "      <td>52</td>\n",
              "      <td>3549</td>\n",
              "      <td>707.0</td>\n",
              "      <td>1551</td>\n",
              "      <td>714</td>\n",
              "      <td>3.6912</td>\n",
              "      <td>NEAR BAY</td>\n",
              "      <td>261100</td>\n",
              "    </tr>\n",
              "    <tr>\n",
              "      <th>10</th>\n",
              "      <td>-122.26</td>\n",
              "      <td>37.85</td>\n",
              "      <td>52</td>\n",
              "      <td>2202</td>\n",
              "      <td>434.0</td>\n",
              "      <td>910</td>\n",
              "      <td>402</td>\n",
              "      <td>3.2031</td>\n",
              "      <td>NEAR BAY</td>\n",
              "      <td>281500</td>\n",
              "    </tr>\n",
              "    <tr>\n",
              "      <th>11</th>\n",
              "      <td>-122.26</td>\n",
              "      <td>37.85</td>\n",
              "      <td>52</td>\n",
              "      <td>3503</td>\n",
              "      <td>752.0</td>\n",
              "      <td>1504</td>\n",
              "      <td>734</td>\n",
              "      <td>3.2705</td>\n",
              "      <td>NEAR BAY</td>\n",
              "      <td>241800</td>\n",
              "    </tr>\n",
              "    <tr>\n",
              "      <th>12</th>\n",
              "      <td>-122.26</td>\n",
              "      <td>37.85</td>\n",
              "      <td>52</td>\n",
              "      <td>2491</td>\n",
              "      <td>474.0</td>\n",
              "      <td>1098</td>\n",
              "      <td>468</td>\n",
              "      <td>3.0750</td>\n",
              "      <td>NEAR BAY</td>\n",
              "      <td>213500</td>\n",
              "    </tr>\n",
              "    <tr>\n",
              "      <th>13</th>\n",
              "      <td>-122.26</td>\n",
              "      <td>37.84</td>\n",
              "      <td>52</td>\n",
              "      <td>696</td>\n",
              "      <td>191.0</td>\n",
              "      <td>345</td>\n",
              "      <td>174</td>\n",
              "      <td>2.6736</td>\n",
              "      <td>NEAR BAY</td>\n",
              "      <td>191300</td>\n",
              "    </tr>\n",
              "    <tr>\n",
              "      <th>14</th>\n",
              "      <td>-122.26</td>\n",
              "      <td>37.85</td>\n",
              "      <td>52</td>\n",
              "      <td>2643</td>\n",
              "      <td>626.0</td>\n",
              "      <td>1212</td>\n",
              "      <td>620</td>\n",
              "      <td>1.9167</td>\n",
              "      <td>NEAR BAY</td>\n",
              "      <td>159200</td>\n",
              "    </tr>\n",
              "    <tr>\n",
              "      <th>15</th>\n",
              "      <td>-122.26</td>\n",
              "      <td>37.85</td>\n",
              "      <td>50</td>\n",
              "      <td>1120</td>\n",
              "      <td>283.0</td>\n",
              "      <td>697</td>\n",
              "      <td>264</td>\n",
              "      <td>2.1250</td>\n",
              "      <td>NEAR BAY</td>\n",
              "      <td>140000</td>\n",
              "    </tr>\n",
              "    <tr>\n",
              "      <th>16</th>\n",
              "      <td>-122.27</td>\n",
              "      <td>37.85</td>\n",
              "      <td>52</td>\n",
              "      <td>1966</td>\n",
              "      <td>347.0</td>\n",
              "      <td>793</td>\n",
              "      <td>331</td>\n",
              "      <td>2.7750</td>\n",
              "      <td>NEAR BAY</td>\n",
              "      <td>152500</td>\n",
              "    </tr>\n",
              "    <tr>\n",
              "      <th>17</th>\n",
              "      <td>-122.27</td>\n",
              "      <td>37.85</td>\n",
              "      <td>52</td>\n",
              "      <td>1228</td>\n",
              "      <td>293.0</td>\n",
              "      <td>648</td>\n",
              "      <td>303</td>\n",
              "      <td>2.1202</td>\n",
              "      <td>NEAR BAY</td>\n",
              "      <td>155500</td>\n",
              "    </tr>\n",
              "    <tr>\n",
              "      <th>18</th>\n",
              "      <td>-122.26</td>\n",
              "      <td>37.84</td>\n",
              "      <td>50</td>\n",
              "      <td>2239</td>\n",
              "      <td>455.0</td>\n",
              "      <td>990</td>\n",
              "      <td>419</td>\n",
              "      <td>1.9911</td>\n",
              "      <td>NEAR BAY</td>\n",
              "      <td>158700</td>\n",
              "    </tr>\n",
              "    <tr>\n",
              "      <th>19</th>\n",
              "      <td>-122.27</td>\n",
              "      <td>37.84</td>\n",
              "      <td>52</td>\n",
              "      <td>1503</td>\n",
              "      <td>298.0</td>\n",
              "      <td>690</td>\n",
              "      <td>275</td>\n",
              "      <td>2.6033</td>\n",
              "      <td>NEAR BAY</td>\n",
              "      <td>162900</td>\n",
              "    </tr>\n",
              "    <tr>\n",
              "      <th>20</th>\n",
              "      <td>-122.27</td>\n",
              "      <td>37.85</td>\n",
              "      <td>40</td>\n",
              "      <td>751</td>\n",
              "      <td>184.0</td>\n",
              "      <td>409</td>\n",
              "      <td>166</td>\n",
              "      <td>1.3578</td>\n",
              "      <td>NEAR BAY</td>\n",
              "      <td>147500</td>\n",
              "    </tr>\n",
              "    <tr>\n",
              "      <th>21</th>\n",
              "      <td>-122.27</td>\n",
              "      <td>37.85</td>\n",
              "      <td>42</td>\n",
              "      <td>1639</td>\n",
              "      <td>367.0</td>\n",
              "      <td>929</td>\n",
              "      <td>366</td>\n",
              "      <td>1.7135</td>\n",
              "      <td>NEAR BAY</td>\n",
              "      <td>159800</td>\n",
              "    </tr>\n",
              "    <tr>\n",
              "      <th>22</th>\n",
              "      <td>-122.27</td>\n",
              "      <td>37.84</td>\n",
              "      <td>52</td>\n",
              "      <td>2436</td>\n",
              "      <td>541.0</td>\n",
              "      <td>1015</td>\n",
              "      <td>478</td>\n",
              "      <td>1.7250</td>\n",
              "      <td>NEAR BAY</td>\n",
              "      <td>113900</td>\n",
              "    </tr>\n",
              "    <tr>\n",
              "      <th>23</th>\n",
              "      <td>-122.27</td>\n",
              "      <td>37.84</td>\n",
              "      <td>52</td>\n",
              "      <td>1688</td>\n",
              "      <td>337.0</td>\n",
              "      <td>853</td>\n",
              "      <td>325</td>\n",
              "      <td>2.1806</td>\n",
              "      <td>NEAR BAY</td>\n",
              "      <td>99700</td>\n",
              "    </tr>\n",
              "    <tr>\n",
              "      <th>24</th>\n",
              "      <td>-122.27</td>\n",
              "      <td>37.84</td>\n",
              "      <td>52</td>\n",
              "      <td>2224</td>\n",
              "      <td>437.0</td>\n",
              "      <td>1006</td>\n",
              "      <td>422</td>\n",
              "      <td>2.6000</td>\n",
              "      <td>NEAR BAY</td>\n",
              "      <td>132600</td>\n",
              "    </tr>\n",
              "    <tr>\n",
              "      <th>25</th>\n",
              "      <td>-122.28</td>\n",
              "      <td>37.85</td>\n",
              "      <td>41</td>\n",
              "      <td>535</td>\n",
              "      <td>123.0</td>\n",
              "      <td>317</td>\n",
              "      <td>119</td>\n",
              "      <td>2.4038</td>\n",
              "      <td>NEAR BAY</td>\n",
              "      <td>107500</td>\n",
              "    </tr>\n",
              "    <tr>\n",
              "      <th>26</th>\n",
              "      <td>-122.28</td>\n",
              "      <td>37.85</td>\n",
              "      <td>49</td>\n",
              "      <td>1130</td>\n",
              "      <td>244.0</td>\n",
              "      <td>607</td>\n",
              "      <td>239</td>\n",
              "      <td>2.4597</td>\n",
              "      <td>NEAR BAY</td>\n",
              "      <td>93800</td>\n",
              "    </tr>\n",
              "    <tr>\n",
              "      <th>27</th>\n",
              "      <td>-122.28</td>\n",
              "      <td>37.85</td>\n",
              "      <td>52</td>\n",
              "      <td>1898</td>\n",
              "      <td>421.0</td>\n",
              "      <td>1102</td>\n",
              "      <td>397</td>\n",
              "      <td>1.8080</td>\n",
              "      <td>NEAR BAY</td>\n",
              "      <td>105500</td>\n",
              "    </tr>\n",
              "    <tr>\n",
              "      <th>28</th>\n",
              "      <td>-122.28</td>\n",
              "      <td>37.84</td>\n",
              "      <td>50</td>\n",
              "      <td>2082</td>\n",
              "      <td>492.0</td>\n",
              "      <td>1131</td>\n",
              "      <td>473</td>\n",
              "      <td>1.6424</td>\n",
              "      <td>NEAR BAY</td>\n",
              "      <td>108900</td>\n",
              "    </tr>\n",
              "    <tr>\n",
              "      <th>29</th>\n",
              "      <td>-122.28</td>\n",
              "      <td>37.84</td>\n",
              "      <td>52</td>\n",
              "      <td>729</td>\n",
              "      <td>160.0</td>\n",
              "      <td>395</td>\n",
              "      <td>155</td>\n",
              "      <td>1.6875</td>\n",
              "      <td>NEAR BAY</td>\n",
              "      <td>132000</td>\n",
              "    </tr>\n",
              "    <tr>\n",
              "      <th>...</th>\n",
              "      <td>...</td>\n",
              "      <td>...</td>\n",
              "      <td>...</td>\n",
              "      <td>...</td>\n",
              "      <td>...</td>\n",
              "      <td>...</td>\n",
              "      <td>...</td>\n",
              "      <td>...</td>\n",
              "      <td>...</td>\n",
              "      <td>...</td>\n",
              "    </tr>\n",
              "    <tr>\n",
              "      <th>20610</th>\n",
              "      <td>-121.56</td>\n",
              "      <td>39.10</td>\n",
              "      <td>28</td>\n",
              "      <td>2130</td>\n",
              "      <td>484.0</td>\n",
              "      <td>1195</td>\n",
              "      <td>439</td>\n",
              "      <td>1.3631</td>\n",
              "      <td>INLAND</td>\n",
              "      <td>45500</td>\n",
              "    </tr>\n",
              "    <tr>\n",
              "      <th>20611</th>\n",
              "      <td>-121.55</td>\n",
              "      <td>39.10</td>\n",
              "      <td>27</td>\n",
              "      <td>1783</td>\n",
              "      <td>441.0</td>\n",
              "      <td>1163</td>\n",
              "      <td>409</td>\n",
              "      <td>1.2857</td>\n",
              "      <td>INLAND</td>\n",
              "      <td>47000</td>\n",
              "    </tr>\n",
              "    <tr>\n",
              "      <th>20612</th>\n",
              "      <td>-121.56</td>\n",
              "      <td>39.08</td>\n",
              "      <td>26</td>\n",
              "      <td>1377</td>\n",
              "      <td>289.0</td>\n",
              "      <td>761</td>\n",
              "      <td>267</td>\n",
              "      <td>1.4934</td>\n",
              "      <td>INLAND</td>\n",
              "      <td>48300</td>\n",
              "    </tr>\n",
              "    <tr>\n",
              "      <th>20613</th>\n",
              "      <td>-121.55</td>\n",
              "      <td>39.09</td>\n",
              "      <td>31</td>\n",
              "      <td>1728</td>\n",
              "      <td>365.0</td>\n",
              "      <td>1167</td>\n",
              "      <td>384</td>\n",
              "      <td>1.4958</td>\n",
              "      <td>INLAND</td>\n",
              "      <td>53400</td>\n",
              "    </tr>\n",
              "    <tr>\n",
              "      <th>20614</th>\n",
              "      <td>-121.54</td>\n",
              "      <td>39.08</td>\n",
              "      <td>26</td>\n",
              "      <td>2276</td>\n",
              "      <td>460.0</td>\n",
              "      <td>1455</td>\n",
              "      <td>474</td>\n",
              "      <td>2.4695</td>\n",
              "      <td>INLAND</td>\n",
              "      <td>58000</td>\n",
              "    </tr>\n",
              "    <tr>\n",
              "      <th>20615</th>\n",
              "      <td>-121.54</td>\n",
              "      <td>39.08</td>\n",
              "      <td>23</td>\n",
              "      <td>1076</td>\n",
              "      <td>216.0</td>\n",
              "      <td>724</td>\n",
              "      <td>197</td>\n",
              "      <td>2.3598</td>\n",
              "      <td>INLAND</td>\n",
              "      <td>57500</td>\n",
              "    </tr>\n",
              "    <tr>\n",
              "      <th>20616</th>\n",
              "      <td>-121.53</td>\n",
              "      <td>39.08</td>\n",
              "      <td>15</td>\n",
              "      <td>1810</td>\n",
              "      <td>441.0</td>\n",
              "      <td>1157</td>\n",
              "      <td>375</td>\n",
              "      <td>2.0469</td>\n",
              "      <td>INLAND</td>\n",
              "      <td>55100</td>\n",
              "    </tr>\n",
              "    <tr>\n",
              "      <th>20617</th>\n",
              "      <td>-121.53</td>\n",
              "      <td>39.06</td>\n",
              "      <td>20</td>\n",
              "      <td>561</td>\n",
              "      <td>109.0</td>\n",
              "      <td>308</td>\n",
              "      <td>114</td>\n",
              "      <td>3.3021</td>\n",
              "      <td>INLAND</td>\n",
              "      <td>70800</td>\n",
              "    </tr>\n",
              "    <tr>\n",
              "      <th>20618</th>\n",
              "      <td>-121.55</td>\n",
              "      <td>39.06</td>\n",
              "      <td>25</td>\n",
              "      <td>1332</td>\n",
              "      <td>247.0</td>\n",
              "      <td>726</td>\n",
              "      <td>226</td>\n",
              "      <td>2.2500</td>\n",
              "      <td>INLAND</td>\n",
              "      <td>63400</td>\n",
              "    </tr>\n",
              "    <tr>\n",
              "      <th>20619</th>\n",
              "      <td>-121.56</td>\n",
              "      <td>39.01</td>\n",
              "      <td>22</td>\n",
              "      <td>1891</td>\n",
              "      <td>340.0</td>\n",
              "      <td>1023</td>\n",
              "      <td>296</td>\n",
              "      <td>2.7303</td>\n",
              "      <td>INLAND</td>\n",
              "      <td>99100</td>\n",
              "    </tr>\n",
              "    <tr>\n",
              "      <th>20620</th>\n",
              "      <td>-121.48</td>\n",
              "      <td>39.05</td>\n",
              "      <td>40</td>\n",
              "      <td>198</td>\n",
              "      <td>41.0</td>\n",
              "      <td>151</td>\n",
              "      <td>48</td>\n",
              "      <td>4.5625</td>\n",
              "      <td>INLAND</td>\n",
              "      <td>100000</td>\n",
              "    </tr>\n",
              "    <tr>\n",
              "      <th>20621</th>\n",
              "      <td>-121.47</td>\n",
              "      <td>39.01</td>\n",
              "      <td>37</td>\n",
              "      <td>1244</td>\n",
              "      <td>247.0</td>\n",
              "      <td>484</td>\n",
              "      <td>157</td>\n",
              "      <td>2.3661</td>\n",
              "      <td>INLAND</td>\n",
              "      <td>77500</td>\n",
              "    </tr>\n",
              "    <tr>\n",
              "      <th>20622</th>\n",
              "      <td>-121.44</td>\n",
              "      <td>39.00</td>\n",
              "      <td>20</td>\n",
              "      <td>755</td>\n",
              "      <td>147.0</td>\n",
              "      <td>457</td>\n",
              "      <td>157</td>\n",
              "      <td>2.4167</td>\n",
              "      <td>INLAND</td>\n",
              "      <td>67000</td>\n",
              "    </tr>\n",
              "    <tr>\n",
              "      <th>20623</th>\n",
              "      <td>-121.37</td>\n",
              "      <td>39.03</td>\n",
              "      <td>32</td>\n",
              "      <td>1158</td>\n",
              "      <td>244.0</td>\n",
              "      <td>598</td>\n",
              "      <td>227</td>\n",
              "      <td>2.8235</td>\n",
              "      <td>INLAND</td>\n",
              "      <td>65500</td>\n",
              "    </tr>\n",
              "    <tr>\n",
              "      <th>20624</th>\n",
              "      <td>-121.41</td>\n",
              "      <td>39.04</td>\n",
              "      <td>16</td>\n",
              "      <td>1698</td>\n",
              "      <td>300.0</td>\n",
              "      <td>731</td>\n",
              "      <td>291</td>\n",
              "      <td>3.0739</td>\n",
              "      <td>INLAND</td>\n",
              "      <td>87200</td>\n",
              "    </tr>\n",
              "    <tr>\n",
              "      <th>20625</th>\n",
              "      <td>-121.52</td>\n",
              "      <td>39.12</td>\n",
              "      <td>37</td>\n",
              "      <td>102</td>\n",
              "      <td>17.0</td>\n",
              "      <td>29</td>\n",
              "      <td>14</td>\n",
              "      <td>4.1250</td>\n",
              "      <td>INLAND</td>\n",
              "      <td>72000</td>\n",
              "    </tr>\n",
              "    <tr>\n",
              "      <th>20626</th>\n",
              "      <td>-121.43</td>\n",
              "      <td>39.18</td>\n",
              "      <td>36</td>\n",
              "      <td>1124</td>\n",
              "      <td>184.0</td>\n",
              "      <td>504</td>\n",
              "      <td>171</td>\n",
              "      <td>2.1667</td>\n",
              "      <td>INLAND</td>\n",
              "      <td>93800</td>\n",
              "    </tr>\n",
              "    <tr>\n",
              "      <th>20627</th>\n",
              "      <td>-121.32</td>\n",
              "      <td>39.13</td>\n",
              "      <td>5</td>\n",
              "      <td>358</td>\n",
              "      <td>65.0</td>\n",
              "      <td>169</td>\n",
              "      <td>59</td>\n",
              "      <td>3.0000</td>\n",
              "      <td>INLAND</td>\n",
              "      <td>162500</td>\n",
              "    </tr>\n",
              "    <tr>\n",
              "      <th>20628</th>\n",
              "      <td>-121.48</td>\n",
              "      <td>39.10</td>\n",
              "      <td>19</td>\n",
              "      <td>2043</td>\n",
              "      <td>421.0</td>\n",
              "      <td>1018</td>\n",
              "      <td>390</td>\n",
              "      <td>2.5952</td>\n",
              "      <td>INLAND</td>\n",
              "      <td>92400</td>\n",
              "    </tr>\n",
              "    <tr>\n",
              "      <th>20629</th>\n",
              "      <td>-121.39</td>\n",
              "      <td>39.12</td>\n",
              "      <td>28</td>\n",
              "      <td>10035</td>\n",
              "      <td>1856.0</td>\n",
              "      <td>6912</td>\n",
              "      <td>1818</td>\n",
              "      <td>2.0943</td>\n",
              "      <td>INLAND</td>\n",
              "      <td>108300</td>\n",
              "    </tr>\n",
              "    <tr>\n",
              "      <th>20630</th>\n",
              "      <td>-121.32</td>\n",
              "      <td>39.29</td>\n",
              "      <td>11</td>\n",
              "      <td>2640</td>\n",
              "      <td>505.0</td>\n",
              "      <td>1257</td>\n",
              "      <td>445</td>\n",
              "      <td>3.5673</td>\n",
              "      <td>INLAND</td>\n",
              "      <td>112000</td>\n",
              "    </tr>\n",
              "    <tr>\n",
              "      <th>20631</th>\n",
              "      <td>-121.40</td>\n",
              "      <td>39.33</td>\n",
              "      <td>15</td>\n",
              "      <td>2655</td>\n",
              "      <td>493.0</td>\n",
              "      <td>1200</td>\n",
              "      <td>432</td>\n",
              "      <td>3.5179</td>\n",
              "      <td>INLAND</td>\n",
              "      <td>107200</td>\n",
              "    </tr>\n",
              "    <tr>\n",
              "      <th>20632</th>\n",
              "      <td>-121.45</td>\n",
              "      <td>39.26</td>\n",
              "      <td>15</td>\n",
              "      <td>2319</td>\n",
              "      <td>416.0</td>\n",
              "      <td>1047</td>\n",
              "      <td>385</td>\n",
              "      <td>3.1250</td>\n",
              "      <td>INLAND</td>\n",
              "      <td>115600</td>\n",
              "    </tr>\n",
              "    <tr>\n",
              "      <th>20633</th>\n",
              "      <td>-121.53</td>\n",
              "      <td>39.19</td>\n",
              "      <td>27</td>\n",
              "      <td>2080</td>\n",
              "      <td>412.0</td>\n",
              "      <td>1082</td>\n",
              "      <td>382</td>\n",
              "      <td>2.5495</td>\n",
              "      <td>INLAND</td>\n",
              "      <td>98300</td>\n",
              "    </tr>\n",
              "    <tr>\n",
              "      <th>20634</th>\n",
              "      <td>-121.56</td>\n",
              "      <td>39.27</td>\n",
              "      <td>28</td>\n",
              "      <td>2332</td>\n",
              "      <td>395.0</td>\n",
              "      <td>1041</td>\n",
              "      <td>344</td>\n",
              "      <td>3.7125</td>\n",
              "      <td>INLAND</td>\n",
              "      <td>116800</td>\n",
              "    </tr>\n",
              "    <tr>\n",
              "      <th>20635</th>\n",
              "      <td>-121.09</td>\n",
              "      <td>39.48</td>\n",
              "      <td>25</td>\n",
              "      <td>1665</td>\n",
              "      <td>374.0</td>\n",
              "      <td>845</td>\n",
              "      <td>330</td>\n",
              "      <td>1.5603</td>\n",
              "      <td>INLAND</td>\n",
              "      <td>78100</td>\n",
              "    </tr>\n",
              "    <tr>\n",
              "      <th>20636</th>\n",
              "      <td>-121.21</td>\n",
              "      <td>39.49</td>\n",
              "      <td>18</td>\n",
              "      <td>697</td>\n",
              "      <td>150.0</td>\n",
              "      <td>356</td>\n",
              "      <td>114</td>\n",
              "      <td>2.5568</td>\n",
              "      <td>INLAND</td>\n",
              "      <td>77100</td>\n",
              "    </tr>\n",
              "    <tr>\n",
              "      <th>20637</th>\n",
              "      <td>-121.22</td>\n",
              "      <td>39.43</td>\n",
              "      <td>17</td>\n",
              "      <td>2254</td>\n",
              "      <td>485.0</td>\n",
              "      <td>1007</td>\n",
              "      <td>433</td>\n",
              "      <td>1.7000</td>\n",
              "      <td>INLAND</td>\n",
              "      <td>92300</td>\n",
              "    </tr>\n",
              "    <tr>\n",
              "      <th>20638</th>\n",
              "      <td>-121.32</td>\n",
              "      <td>39.43</td>\n",
              "      <td>18</td>\n",
              "      <td>1860</td>\n",
              "      <td>409.0</td>\n",
              "      <td>741</td>\n",
              "      <td>349</td>\n",
              "      <td>1.8672</td>\n",
              "      <td>INLAND</td>\n",
              "      <td>84700</td>\n",
              "    </tr>\n",
              "    <tr>\n",
              "      <th>20639</th>\n",
              "      <td>-121.24</td>\n",
              "      <td>39.37</td>\n",
              "      <td>16</td>\n",
              "      <td>2785</td>\n",
              "      <td>616.0</td>\n",
              "      <td>1387</td>\n",
              "      <td>530</td>\n",
              "      <td>2.3886</td>\n",
              "      <td>INLAND</td>\n",
              "      <td>89400</td>\n",
              "    </tr>\n",
              "  </tbody>\n",
              "</table>\n",
              "<p>20640 rows × 10 columns</p>\n",
              "</div>"
            ],
            "text/plain": [
              "       longitude  latitude  housing_median_age  total_rooms  total_bedrooms  \\\n",
              "0        -122.23     37.88                  41          880           129.0   \n",
              "1        -122.22     37.86                  21         7099          1106.0   \n",
              "2        -122.24     37.85                  52         1467           190.0   \n",
              "3        -122.25     37.85                  52         1274           235.0   \n",
              "4        -122.25     37.85                  52         1627           280.0   \n",
              "5        -122.25     37.85                  52          919           213.0   \n",
              "6        -122.25     37.84                  52         2535           489.0   \n",
              "7        -122.25     37.84                  52         3104           687.0   \n",
              "8        -122.26     37.84                  42         2555           665.0   \n",
              "9        -122.25     37.84                  52         3549           707.0   \n",
              "10       -122.26     37.85                  52         2202           434.0   \n",
              "11       -122.26     37.85                  52         3503           752.0   \n",
              "12       -122.26     37.85                  52         2491           474.0   \n",
              "13       -122.26     37.84                  52          696           191.0   \n",
              "14       -122.26     37.85                  52         2643           626.0   \n",
              "15       -122.26     37.85                  50         1120           283.0   \n",
              "16       -122.27     37.85                  52         1966           347.0   \n",
              "17       -122.27     37.85                  52         1228           293.0   \n",
              "18       -122.26     37.84                  50         2239           455.0   \n",
              "19       -122.27     37.84                  52         1503           298.0   \n",
              "20       -122.27     37.85                  40          751           184.0   \n",
              "21       -122.27     37.85                  42         1639           367.0   \n",
              "22       -122.27     37.84                  52         2436           541.0   \n",
              "23       -122.27     37.84                  52         1688           337.0   \n",
              "24       -122.27     37.84                  52         2224           437.0   \n",
              "25       -122.28     37.85                  41          535           123.0   \n",
              "26       -122.28     37.85                  49         1130           244.0   \n",
              "27       -122.28     37.85                  52         1898           421.0   \n",
              "28       -122.28     37.84                  50         2082           492.0   \n",
              "29       -122.28     37.84                  52          729           160.0   \n",
              "...          ...       ...                 ...          ...             ...   \n",
              "20610    -121.56     39.10                  28         2130           484.0   \n",
              "20611    -121.55     39.10                  27         1783           441.0   \n",
              "20612    -121.56     39.08                  26         1377           289.0   \n",
              "20613    -121.55     39.09                  31         1728           365.0   \n",
              "20614    -121.54     39.08                  26         2276           460.0   \n",
              "20615    -121.54     39.08                  23         1076           216.0   \n",
              "20616    -121.53     39.08                  15         1810           441.0   \n",
              "20617    -121.53     39.06                  20          561           109.0   \n",
              "20618    -121.55     39.06                  25         1332           247.0   \n",
              "20619    -121.56     39.01                  22         1891           340.0   \n",
              "20620    -121.48     39.05                  40          198            41.0   \n",
              "20621    -121.47     39.01                  37         1244           247.0   \n",
              "20622    -121.44     39.00                  20          755           147.0   \n",
              "20623    -121.37     39.03                  32         1158           244.0   \n",
              "20624    -121.41     39.04                  16         1698           300.0   \n",
              "20625    -121.52     39.12                  37          102            17.0   \n",
              "20626    -121.43     39.18                  36         1124           184.0   \n",
              "20627    -121.32     39.13                   5          358            65.0   \n",
              "20628    -121.48     39.10                  19         2043           421.0   \n",
              "20629    -121.39     39.12                  28        10035          1856.0   \n",
              "20630    -121.32     39.29                  11         2640           505.0   \n",
              "20631    -121.40     39.33                  15         2655           493.0   \n",
              "20632    -121.45     39.26                  15         2319           416.0   \n",
              "20633    -121.53     39.19                  27         2080           412.0   \n",
              "20634    -121.56     39.27                  28         2332           395.0   \n",
              "20635    -121.09     39.48                  25         1665           374.0   \n",
              "20636    -121.21     39.49                  18          697           150.0   \n",
              "20637    -121.22     39.43                  17         2254           485.0   \n",
              "20638    -121.32     39.43                  18         1860           409.0   \n",
              "20639    -121.24     39.37                  16         2785           616.0   \n",
              "\n",
              "       population  households  median_income ocean_proximity  \\\n",
              "0             322         126         8.3252        NEAR BAY   \n",
              "1            2401        1138         8.3014        NEAR BAY   \n",
              "2             496         177         7.2574        NEAR BAY   \n",
              "3             558         219         5.6431        NEAR BAY   \n",
              "4             565         259         3.8462        NEAR BAY   \n",
              "5             413         193         4.0368        NEAR BAY   \n",
              "6            1094         514         3.6591        NEAR BAY   \n",
              "7            1157         647         3.1200        NEAR BAY   \n",
              "8            1206         595         2.0804        NEAR BAY   \n",
              "9            1551         714         3.6912        NEAR BAY   \n",
              "10            910         402         3.2031        NEAR BAY   \n",
              "11           1504         734         3.2705        NEAR BAY   \n",
              "12           1098         468         3.0750        NEAR BAY   \n",
              "13            345         174         2.6736        NEAR BAY   \n",
              "14           1212         620         1.9167        NEAR BAY   \n",
              "15            697         264         2.1250        NEAR BAY   \n",
              "16            793         331         2.7750        NEAR BAY   \n",
              "17            648         303         2.1202        NEAR BAY   \n",
              "18            990         419         1.9911        NEAR BAY   \n",
              "19            690         275         2.6033        NEAR BAY   \n",
              "20            409         166         1.3578        NEAR BAY   \n",
              "21            929         366         1.7135        NEAR BAY   \n",
              "22           1015         478         1.7250        NEAR BAY   \n",
              "23            853         325         2.1806        NEAR BAY   \n",
              "24           1006         422         2.6000        NEAR BAY   \n",
              "25            317         119         2.4038        NEAR BAY   \n",
              "26            607         239         2.4597        NEAR BAY   \n",
              "27           1102         397         1.8080        NEAR BAY   \n",
              "28           1131         473         1.6424        NEAR BAY   \n",
              "29            395         155         1.6875        NEAR BAY   \n",
              "...           ...         ...            ...             ...   \n",
              "20610        1195         439         1.3631          INLAND   \n",
              "20611        1163         409         1.2857          INLAND   \n",
              "20612         761         267         1.4934          INLAND   \n",
              "20613        1167         384         1.4958          INLAND   \n",
              "20614        1455         474         2.4695          INLAND   \n",
              "20615         724         197         2.3598          INLAND   \n",
              "20616        1157         375         2.0469          INLAND   \n",
              "20617         308         114         3.3021          INLAND   \n",
              "20618         726         226         2.2500          INLAND   \n",
              "20619        1023         296         2.7303          INLAND   \n",
              "20620         151          48         4.5625          INLAND   \n",
              "20621         484         157         2.3661          INLAND   \n",
              "20622         457         157         2.4167          INLAND   \n",
              "20623         598         227         2.8235          INLAND   \n",
              "20624         731         291         3.0739          INLAND   \n",
              "20625          29          14         4.1250          INLAND   \n",
              "20626         504         171         2.1667          INLAND   \n",
              "20627         169          59         3.0000          INLAND   \n",
              "20628        1018         390         2.5952          INLAND   \n",
              "20629        6912        1818         2.0943          INLAND   \n",
              "20630        1257         445         3.5673          INLAND   \n",
              "20631        1200         432         3.5179          INLAND   \n",
              "20632        1047         385         3.1250          INLAND   \n",
              "20633        1082         382         2.5495          INLAND   \n",
              "20634        1041         344         3.7125          INLAND   \n",
              "20635         845         330         1.5603          INLAND   \n",
              "20636         356         114         2.5568          INLAND   \n",
              "20637        1007         433         1.7000          INLAND   \n",
              "20638         741         349         1.8672          INLAND   \n",
              "20639        1387         530         2.3886          INLAND   \n",
              "\n",
              "       median_house_value  \n",
              "0                  452600  \n",
              "1                  358500  \n",
              "2                  352100  \n",
              "3                  341300  \n",
              "4                  342200  \n",
              "5                  269700  \n",
              "6                  299200  \n",
              "7                  241400  \n",
              "8                  226700  \n",
              "9                  261100  \n",
              "10                 281500  \n",
              "11                 241800  \n",
              "12                 213500  \n",
              "13                 191300  \n",
              "14                 159200  \n",
              "15                 140000  \n",
              "16                 152500  \n",
              "17                 155500  \n",
              "18                 158700  \n",
              "19                 162900  \n",
              "20                 147500  \n",
              "21                 159800  \n",
              "22                 113900  \n",
              "23                  99700  \n",
              "24                 132600  \n",
              "25                 107500  \n",
              "26                  93800  \n",
              "27                 105500  \n",
              "28                 108900  \n",
              "29                 132000  \n",
              "...                   ...  \n",
              "20610               45500  \n",
              "20611               47000  \n",
              "20612               48300  \n",
              "20613               53400  \n",
              "20614               58000  \n",
              "20615               57500  \n",
              "20616               55100  \n",
              "20617               70800  \n",
              "20618               63400  \n",
              "20619               99100  \n",
              "20620              100000  \n",
              "20621               77500  \n",
              "20622               67000  \n",
              "20623               65500  \n",
              "20624               87200  \n",
              "20625               72000  \n",
              "20626               93800  \n",
              "20627              162500  \n",
              "20628               92400  \n",
              "20629              108300  \n",
              "20630              112000  \n",
              "20631              107200  \n",
              "20632              115600  \n",
              "20633               98300  \n",
              "20634              116800  \n",
              "20635               78100  \n",
              "20636               77100  \n",
              "20637               92300  \n",
              "20638               84700  \n",
              "20639               89400  \n",
              "\n",
              "[20640 rows x 10 columns]"
            ]
          },
          "metadata": {
            "tags": []
          },
          "execution_count": 186
        }
      ]
    },
    {
      "cell_type": "code",
      "metadata": {
        "id": "WVtu01hDscFl",
        "outputId": "e252bd1d-ec41-4847-ecbd-b33e3eef761f"
      },
      "source": [
        "from sklearn.preprocessing import Imputer\n",
        "missingValueImputer = Imputer (missing_values = 'NaN', strategy = 'mean', axis = 0)\n",
        "X.iloc[:,0:8] = missingValueImputer.fit_transform(X.iloc[:,0:8])"
      ],
      "execution_count": null,
      "outputs": [
        {
          "output_type": "stream",
          "text": [
            "C:\\ProgramData\\Anaconda3\\lib\\site-packages\\pandas\\core\\indexing.py:543: SettingWithCopyWarning: \n",
            "A value is trying to be set on a copy of a slice from a DataFrame.\n",
            "Try using .loc[row_indexer,col_indexer] = value instead\n",
            "\n",
            "See the caveats in the documentation: http://pandas.pydata.org/pandas-docs/stable/indexing.html#indexing-view-versus-copy\n",
            "  self.obj[item] = s\n"
          ],
          "name": "stderr"
        }
      ]
    },
    {
      "cell_type": "code",
      "metadata": {
        "id": "AOaehtr4scFo",
        "outputId": "76cf750c-431c-4067-d742-350604eb19a3"
      },
      "source": [
        "#Cateogorical Column Count \n",
        "Dt_Housing.ocean_proximity.value_counts()"
      ],
      "execution_count": null,
      "outputs": [
        {
          "output_type": "execute_result",
          "data": {
            "text/plain": [
              "<1H OCEAN     9136\n",
              "INLAND        6551\n",
              "NEAR OCEAN    2658\n",
              "NEAR BAY      2290\n",
              "ISLAND           5\n",
              "Name: ocean_proximity, dtype: int64"
            ]
          },
          "metadata": {
            "tags": []
          },
          "execution_count": 188
        }
      ]
    },
    {
      "cell_type": "markdown",
      "metadata": {
        "id": "oAb9YhBAscFt"
      },
      "source": [
        "# Encode categorical data"
      ]
    },
    {
      "cell_type": "code",
      "metadata": {
        "id": "0K6pzljwscFu"
      },
      "source": [
        "#from sklearn.preprocessing import LabelEncoder, OneHotEncoder\n",
        "#le = LabelEncoder()\n",
        "#X['ocean_proximity'] = le.fit_transform(X['ocean_proximity'])"
      ],
      "execution_count": null,
      "outputs": []
    },
    {
      "cell_type": "code",
      "metadata": {
        "id": "UVNCy4h0scF0",
        "outputId": "75ae67ca-0d74-45fb-aa14-4cd54e0003a8"
      },
      "source": [
        "#Convert Categorical column in the dataset to numerical data\n",
        "\n",
        "X_labelencoder = LabelEncoder()\n",
        "X.iloc[:,-1] = X_labelencoder.fit_transform(X.iloc[:,-1])\n",
        "X.head()"
      ],
      "execution_count": null,
      "outputs": [
        {
          "output_type": "stream",
          "text": [
            "C:\\ProgramData\\Anaconda3\\lib\\site-packages\\pandas\\core\\indexing.py:543: SettingWithCopyWarning: \n",
            "A value is trying to be set on a copy of a slice from a DataFrame.\n",
            "Try using .loc[row_indexer,col_indexer] = value instead\n",
            "\n",
            "See the caveats in the documentation: http://pandas.pydata.org/pandas-docs/stable/indexing.html#indexing-view-versus-copy\n",
            "  self.obj[item] = s\n"
          ],
          "name": "stderr"
        },
        {
          "output_type": "execute_result",
          "data": {
            "text/html": [
              "<div>\n",
              "<style scoped>\n",
              "    .dataframe tbody tr th:only-of-type {\n",
              "        vertical-align: middle;\n",
              "    }\n",
              "\n",
              "    .dataframe tbody tr th {\n",
              "        vertical-align: top;\n",
              "    }\n",
              "\n",
              "    .dataframe thead th {\n",
              "        text-align: right;\n",
              "    }\n",
              "</style>\n",
              "<table border=\"1\" class=\"dataframe\">\n",
              "  <thead>\n",
              "    <tr style=\"text-align: right;\">\n",
              "      <th></th>\n",
              "      <th>longitude</th>\n",
              "      <th>latitude</th>\n",
              "      <th>housing_median_age</th>\n",
              "      <th>total_rooms</th>\n",
              "      <th>total_bedrooms</th>\n",
              "      <th>population</th>\n",
              "      <th>households</th>\n",
              "      <th>median_income</th>\n",
              "      <th>ocean_proximity</th>\n",
              "    </tr>\n",
              "  </thead>\n",
              "  <tbody>\n",
              "    <tr>\n",
              "      <th>0</th>\n",
              "      <td>-122.23</td>\n",
              "      <td>37.88</td>\n",
              "      <td>41.0</td>\n",
              "      <td>880.0</td>\n",
              "      <td>129.0</td>\n",
              "      <td>322.0</td>\n",
              "      <td>126.0</td>\n",
              "      <td>8.3252</td>\n",
              "      <td>3</td>\n",
              "    </tr>\n",
              "    <tr>\n",
              "      <th>1</th>\n",
              "      <td>-122.22</td>\n",
              "      <td>37.86</td>\n",
              "      <td>21.0</td>\n",
              "      <td>7099.0</td>\n",
              "      <td>1106.0</td>\n",
              "      <td>2401.0</td>\n",
              "      <td>1138.0</td>\n",
              "      <td>8.3014</td>\n",
              "      <td>3</td>\n",
              "    </tr>\n",
              "    <tr>\n",
              "      <th>2</th>\n",
              "      <td>-122.24</td>\n",
              "      <td>37.85</td>\n",
              "      <td>52.0</td>\n",
              "      <td>1467.0</td>\n",
              "      <td>190.0</td>\n",
              "      <td>496.0</td>\n",
              "      <td>177.0</td>\n",
              "      <td>7.2574</td>\n",
              "      <td>3</td>\n",
              "    </tr>\n",
              "    <tr>\n",
              "      <th>3</th>\n",
              "      <td>-122.25</td>\n",
              "      <td>37.85</td>\n",
              "      <td>52.0</td>\n",
              "      <td>1274.0</td>\n",
              "      <td>235.0</td>\n",
              "      <td>558.0</td>\n",
              "      <td>219.0</td>\n",
              "      <td>5.6431</td>\n",
              "      <td>3</td>\n",
              "    </tr>\n",
              "    <tr>\n",
              "      <th>4</th>\n",
              "      <td>-122.25</td>\n",
              "      <td>37.85</td>\n",
              "      <td>52.0</td>\n",
              "      <td>1627.0</td>\n",
              "      <td>280.0</td>\n",
              "      <td>565.0</td>\n",
              "      <td>259.0</td>\n",
              "      <td>3.8462</td>\n",
              "      <td>3</td>\n",
              "    </tr>\n",
              "  </tbody>\n",
              "</table>\n",
              "</div>"
            ],
            "text/plain": [
              "   longitude  latitude  housing_median_age  total_rooms  total_bedrooms  \\\n",
              "0    -122.23     37.88                41.0        880.0           129.0   \n",
              "1    -122.22     37.86                21.0       7099.0          1106.0   \n",
              "2    -122.24     37.85                52.0       1467.0           190.0   \n",
              "3    -122.25     37.85                52.0       1274.0           235.0   \n",
              "4    -122.25     37.85                52.0       1627.0           280.0   \n",
              "\n",
              "   population  households  median_income  ocean_proximity  \n",
              "0       322.0       126.0         8.3252                3  \n",
              "1      2401.0      1138.0         8.3014                3  \n",
              "2       496.0       177.0         7.2574                3  \n",
              "3       558.0       219.0         5.6431                3  \n",
              "4       565.0       259.0         3.8462                3  "
            ]
          },
          "metadata": {
            "tags": []
          },
          "execution_count": 190
        }
      ]
    },
    {
      "cell_type": "code",
      "metadata": {
        "id": "XFR06m-RscF3"
      },
      "source": [
        "from sklearn.preprocessing import OneHotEncoder\n",
        "X_onehotencoder = OneHotEncoder (categorical_features = [8])\n",
        "X = X_onehotencoder.fit_transform(X).toarray()"
      ],
      "execution_count": null,
      "outputs": []
    },
    {
      "cell_type": "markdown",
      "metadata": {
        "id": "k7B5gfrWscF6"
      },
      "source": [
        "# Split the dataset"
      ]
    },
    {
      "cell_type": "code",
      "metadata": {
        "id": "RAXgD3lFscF7",
        "outputId": "de63102f-6c2b-43c9-9bc0-6e5ee40be283"
      },
      "source": [
        "#Split the data into 80% training dataset and 20% test dataset.\n",
        "\n",
        "from sklearn.model_selection import train_test_split\n",
        "X_train, X_test, y_train, y_test = train_test_split(X,Y, test_size=0.2,random_state=1)\n",
        "print(X_train.shape)\n",
        "print(X_test.shape)\n",
        "print(y_train.shape)\n",
        "print(y_test.shape)"
      ],
      "execution_count": null,
      "outputs": [
        {
          "output_type": "stream",
          "text": [
            "(16512, 13)\n",
            "(4128, 13)\n",
            "(16512,)\n",
            "(4128,)\n"
          ],
          "name": "stdout"
        }
      ]
    },
    {
      "cell_type": "markdown",
      "metadata": {
        "id": "MQjhCqntscF_"
      },
      "source": [
        "# Standardize data"
      ]
    },
    {
      "cell_type": "code",
      "metadata": {
        "id": "PteqevYbscGA"
      },
      "source": [
        "#Standardize training and test datasets.\n",
        "\n",
        "from sklearn.preprocessing import StandardScaler\n",
        "independent_scalar = StandardScaler()\n",
        "\n",
        "X_train = independent_scalar.fit_transform (X_train) \n",
        "X_test = independent_scalar.fit_transform (X_test)  "
      ],
      "execution_count": null,
      "outputs": []
    },
    {
      "cell_type": "markdown",
      "metadata": {
        "id": "9gIO0WyRscGG"
      },
      "source": [
        "# Perform Linear Regression"
      ]
    },
    {
      "cell_type": "code",
      "metadata": {
        "id": "lW-Ys-_rscGG",
        "outputId": "521fdf1d-e85a-4141-a582-7579ba9608b8"
      },
      "source": [
        "#Perform Linear Regression on training data.\n",
        "\n",
        "from sklearn.linear_model import LinearRegression\n",
        "LinReg = LinearRegression()\n",
        "LinReg.fit(X_train, y_train)"
      ],
      "execution_count": null,
      "outputs": [
        {
          "output_type": "execute_result",
          "data": {
            "text/plain": [
              "LinearRegression(copy_X=True, fit_intercept=True, n_jobs=1, normalize=False)"
            ]
          },
          "metadata": {
            "tags": []
          },
          "execution_count": 194
        }
      ]
    },
    {
      "cell_type": "code",
      "metadata": {
        "id": "iRZNOIrCscGM"
      },
      "source": [
        "#Predict output for test dataset using the fitted model.\n",
        "y_pred = LinReg.predict(X_test)"
      ],
      "execution_count": null,
      "outputs": []
    },
    {
      "cell_type": "code",
      "metadata": {
        "id": "ze9TrN9ZscGP",
        "outputId": "165fd9ac-2dca-4f99-e8bb-604e331bcf06"
      },
      "source": [
        "#Print root mean squared error (RMSE) from Linear Regression.\n",
        "from sklearn.metrics import mean_squared_error\n",
        "from math import sqrt\n",
        "\n",
        "RMSE = sqrt(mean_squared_error(y_test, y_pred))\n",
        "print(RMSE)"
      ],
      "execution_count": null,
      "outputs": [
        {
          "output_type": "stream",
          "text": [
            "44865690760184.72\n"
          ],
          "name": "stdout"
        }
      ]
    },
    {
      "cell_type": "markdown",
      "metadata": {
        "id": "kMdrNdqTscGV"
      },
      "source": [
        "# Perform Decision Tree Regression"
      ]
    },
    {
      "cell_type": "code",
      "metadata": {
        "id": "WppXToVRscGV",
        "outputId": "2d935047-5683-4a66-883c-79116c3b2aeb"
      },
      "source": [
        "#Perform Decision Tree Regression on training data.\n",
        "\n",
        "from sklearn.tree import DecisionTreeRegressor\n",
        "tree_reg = DecisionTreeRegressor(max_depth=8, random_state=42)\n",
        "tree_reg.fit(X_train, y_train)"
      ],
      "execution_count": null,
      "outputs": [
        {
          "output_type": "execute_result",
          "data": {
            "text/plain": [
              "DecisionTreeRegressor(criterion='mse', max_depth=8, max_features=None,\n",
              "           max_leaf_nodes=None, min_impurity_decrease=0.0,\n",
              "           min_impurity_split=None, min_samples_leaf=1,\n",
              "           min_samples_split=2, min_weight_fraction_leaf=0.0,\n",
              "           presort=False, random_state=42, splitter='best')"
            ]
          },
          "metadata": {
            "tags": []
          },
          "execution_count": 197
        }
      ]
    },
    {
      "cell_type": "code",
      "metadata": {
        "id": "zAP1XNlFscGZ"
      },
      "source": [
        "#Predict output for test dataset using the fitted model.\n",
        "y_pred2 = tree_reg.predict(X_test)"
      ],
      "execution_count": null,
      "outputs": []
    },
    {
      "cell_type": "code",
      "metadata": {
        "id": "roVeqL_VscGd",
        "outputId": "87e0f577-0b03-4fdd-cdb3-3108b9266bf7"
      },
      "source": [
        "##Print root mean squared error (RMSE).\n",
        "from sklearn.metrics import mean_squared_error\n",
        "from math import sqrt\n",
        "\n",
        "RMSE2 = sqrt(mean_squared_error(y_test, y_pred2))\n",
        "print(RMSE2)"
      ],
      "execution_count": null,
      "outputs": [
        {
          "output_type": "stream",
          "text": [
            "62760.75106386041\n"
          ],
          "name": "stdout"
        }
      ]
    },
    {
      "cell_type": "markdown",
      "metadata": {
        "id": "Y8qGeKWWscGj"
      },
      "source": [
        "# Perform Random Forest Regression"
      ]
    },
    {
      "cell_type": "code",
      "metadata": {
        "id": "tbiNGAiUscGl",
        "outputId": "d6cef59a-5339-445e-a265-55a8b41957ed"
      },
      "source": [
        "#Perform Random Forest Regression on training data.\n",
        "\n",
        "from sklearn.ensemble import RandomForestRegressor\n",
        "RFregressor = RandomForestRegressor(n_estimators = 10, random_state = 0)\n",
        "RFregressor.fit(X_train, y_train)"
      ],
      "execution_count": null,
      "outputs": [
        {
          "output_type": "execute_result",
          "data": {
            "text/plain": [
              "RandomForestRegressor(bootstrap=True, criterion='mse', max_depth=None,\n",
              "           max_features='auto', max_leaf_nodes=None,\n",
              "           min_impurity_decrease=0.0, min_impurity_split=None,\n",
              "           min_samples_leaf=1, min_samples_split=2,\n",
              "           min_weight_fraction_leaf=0.0, n_estimators=10, n_jobs=1,\n",
              "           oob_score=False, random_state=0, verbose=0, warm_start=False)"
            ]
          },
          "metadata": {
            "tags": []
          },
          "execution_count": 200
        }
      ]
    },
    {
      "cell_type": "code",
      "metadata": {
        "id": "P7_0YV2EscGp"
      },
      "source": [
        "#Predict output for test dataset using the fitted model.\n",
        "y_pred3 = RFregressor.predict(X_test)"
      ],
      "execution_count": null,
      "outputs": []
    },
    {
      "cell_type": "code",
      "metadata": {
        "id": "Jb9tQGHjscGu",
        "outputId": "0d095a5e-43ab-4240-c01d-e4d343794343"
      },
      "source": [
        "#Print RMSE (root mean squared error) from Random Forest Regression..\n",
        "from sklearn.metrics import mean_squared_error\n",
        "from math import sqrt\n",
        "\n",
        "RMSE3 = sqrt(mean_squared_error(y_test, y_pred3))\n",
        "print(RMSE3)"
      ],
      "execution_count": null,
      "outputs": [
        {
          "output_type": "stream",
          "text": [
            "53018.24453489866\n"
          ],
          "name": "stdout"
        }
      ]
    },
    {
      "cell_type": "markdown",
      "metadata": {
        "id": "XgJfpxk3scGx"
      },
      "source": [
        "# Perform Linear Regression with one independent variable"
      ]
    },
    {
      "cell_type": "code",
      "metadata": {
        "id": "e9xzteLgscGx",
        "outputId": "2ccb8140-2ae1-41d6-b9f7-43ce79c2f97b"
      },
      "source": [
        "#Extract just the median_income column from the independent variables (from X_train).\n",
        "X_train\n",
        "MI_train = X_train[:,7].reshape(-1,1)\n",
        "MI_train"
      ],
      "execution_count": null,
      "outputs": [
        {
          "output_type": "execute_result",
          "data": {
            "text/plain": [
              "array([[ 1.85890297],\n",
              "       [ 1.06434823],\n",
              "       [-1.0014941 ],\n",
              "       ...,\n",
              "       [ 1.06434823],\n",
              "       [-1.47822694],\n",
              "       [ 0.50815991]])"
            ]
          },
          "metadata": {
            "tags": []
          },
          "execution_count": 203
        }
      ]
    },
    {
      "cell_type": "code",
      "metadata": {
        "id": "Io3WVSkzscG0",
        "outputId": "c7093b4f-7802-409c-d7ca-a8032551aed6"
      },
      "source": [
        "#Extract just the median_income column from the independent variables (from X_test).\n",
        "X_test\n",
        "MI_test = X_test[:,7].reshape(-1,1)\n",
        "MI_test"
      ],
      "execution_count": null,
      "outputs": [
        {
          "output_type": "execute_result",
          "data": {
            "text/plain": [
              "array([[ 0.81226638],\n",
              "       [ 0.65331708],\n",
              "       [ 1.36858896],\n",
              "       ...,\n",
              "       [-0.22090411],\n",
              "       [ 1.05069034],\n",
              "       [ 1.84543688]])"
            ]
          },
          "metadata": {
            "tags": []
          },
          "execution_count": 204
        }
      ]
    },
    {
      "cell_type": "code",
      "metadata": {
        "id": "W2hC3s0escG3",
        "outputId": "20d86784-8714-45d2-a9f5-4fd14f9e512d"
      },
      "source": [
        "#Instantiate ,fit and print the intercept and coeff for Train data\n",
        "from sklearn.linear_model import LinearRegression\n",
        "lm = LinearRegression()\n",
        "lm.fit(MI_train, y_train)\n",
        "\n",
        "print(lm.intercept_)\n",
        "print(lm.coef_)"
      ],
      "execution_count": null,
      "outputs": [
        {
          "output_type": "stream",
          "text": [
            "207735.06419573643\n",
            "[12224.67924719]\n"
          ],
          "name": "stdout"
        }
      ]
    },
    {
      "cell_type": "code",
      "metadata": {
        "id": "rHZ6OwoBscHA"
      },
      "source": [
        "#Predict the output for train dataset using the fitted model\n",
        "y_pred0 = lm.predict(MI_train)"
      ],
      "execution_count": null,
      "outputs": []
    },
    {
      "cell_type": "code",
      "metadata": {
        "id": "vDPC8cdxscHD",
        "outputId": "51908da0-d2d1-4ca8-8bfb-8d6b71a3ae52"
      },
      "source": [
        "#Instantiate ,fit and print the intercept and coeff for Test data\n",
        "lm1 = LinearRegression()\n",
        "lm1.fit(MI_test, y_test)\n",
        "\n",
        "print(lm1.intercept_)\n",
        "print(lm1.coef_)"
      ],
      "execution_count": null,
      "outputs": [
        {
          "output_type": "stream",
          "text": [
            "203338.8277616279\n",
            "[12092.04737839]\n"
          ],
          "name": "stdout"
        }
      ]
    },
    {
      "cell_type": "code",
      "metadata": {
        "id": "6QeGwJVZscHF"
      },
      "source": [
        "#Predict the output for test dataset using the fitted model\n",
        "y_pred1 = lm1.predict(MI_test)"
      ],
      "execution_count": null,
      "outputs": []
    },
    {
      "cell_type": "markdown",
      "metadata": {
        "id": "7-OGgGkrscHI"
      },
      "source": [
        "# Plot the fitted model"
      ]
    },
    {
      "cell_type": "code",
      "metadata": {
        "id": "hqI5ZXU_scHI",
        "outputId": "731bd4c4-8f90-4233-a663-39b02d823167"
      },
      "source": [
        "# first, plot the observed data\n",
        "Dt_Housing.plot(kind='scatter', x='median_income', y='median_house_value')\n",
        "\n",
        "# then, plot the least squares line\n",
        "plt.plot(MI_train, y_pred0, c='red', linewidth=2)"
      ],
      "execution_count": null,
      "outputs": [
        {
          "output_type": "execute_result",
          "data": {
            "text/plain": [
              "[<matplotlib.lines.Line2D at 0xf21a080>]"
            ]
          },
          "metadata": {
            "tags": []
          },
          "execution_count": 211
        },
        {
          "output_type": "display_data",
          "data": {
            "image/png": "[encoded data removed]",
            "text/plain": [
              "<Figure size 432x288 with 1 Axes>"
            ]
          },
          "metadata": {
            "tags": [],
            "needs_background": "light"
          }
        }
      ]
    },
    {
      "cell_type": "code",
      "metadata": {
        "id": "P0S2ze-MscHN",
        "outputId": "36788d1c-24cd-4259-f94f-a3afc4c17bef"
      },
      "source": [
        "# first, plot the observed data\n",
        "Dt_Housing.plot(kind='scatter', x='median_income', y='median_house_value')\n",
        "\n",
        "# then, plot the least squares line\n",
        "plt.plot(MI_test, y_pred1, c='red', linewidth=2)"
      ],
      "execution_count": null,
      "outputs": [
        {
          "output_type": "execute_result",
          "data": {
            "text/plain": [
              "[<matplotlib.lines.Line2D at 0xe017780>]"
            ]
          },
          "metadata": {
            "tags": []
          },
          "execution_count": 212
        },
        {
          "output_type": "display_data",
          "data": {
            "image/png": "[encoded data removed]",
            "text/plain": [
              "<Figure size 432x288 with 1 Axes>"
            ]
          },
          "metadata": {
            "tags": [],
            "needs_background": "light"
          }
        }
      ]
    },
    {
      "cell_type": "code",
      "metadata": {
        "id": "I0CGNNblscHS"
      },
      "source": [
        ""
      ],
      "execution_count": null,
      "outputs": []
    }
  ]
}