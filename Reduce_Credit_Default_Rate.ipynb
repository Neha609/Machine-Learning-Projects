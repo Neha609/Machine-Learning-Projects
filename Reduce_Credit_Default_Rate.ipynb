{
  "nbformat": 4,
  "nbformat_minor": 0,
  "metadata": {
    "colab": {
      "name": "Reduce Credit Default Rate.ipynb",
      "provenance": [],
      "collapsed_sections": [],
      "mount_file_id": "1b-Y3sqTUCVr6BYYg9zZGFNspBZYHOlqt",
      "authorship_tag": "ABX9TyM7nPnwUASpshEJC9HRzLUT",
      "include_colab_link": true
    },
    "kernelspec": {
      "name": "python3",
      "display_name": "Python 3"
    }
  },
  "cells": [
    {
      "cell_type": "markdown",
      "metadata": {
        "id": "view-in-github",
        "colab_type": "text"
      },
      "source": [
        "<a href=\"https://colab.research.google.com/github/Neha609/Machine-Learning-Projects/blob/gh-pages/Reduce_Credit_Default_Rate.ipynb\" target=\"_parent\"><img src=\"https://colab.research.google.com/assets/colab-badge.svg\" alt=\"Open In Colab\"/></a>"
      ]
    },
    {
      "cell_type": "markdown",
      "metadata": {
        "id": "KNAJWKXhO3T-"
      },
      "source": [
        "# **Problem Statement**"
      ]
    },
    {
      "cell_type": "markdown",
      "metadata": {
        "id": "NOOJwfG1PRlu"
      },
      "source": [
        "ABC bank is facing the challenge of high credit default rates. One of the strategies which the bank has come up with is to identify the risky \r\n",
        "customers (those who are likely to default) and take proactive measures to perform actions for these risky customers before they actually default. \r\n",
        "\r\n",
        "As a data scientist, you are assigned this task of finding out the risky customers using data, identify the characteristics and recommend suitable\r\n",
        " actions which will help the bank reduce overall default rate."
      ]
    },
    {
      "cell_type": "markdown",
      "metadata": {
        "id": "52SheduVPkmc"
      },
      "source": [
        "\r\n",
        "The provided data set has information about 1000 customers with an indicator of if the customer defaulted the loan "
      ]
    },
    {
      "cell_type": "markdown",
      "metadata": {
        "id": "Pt3KrSgBQJcr"
      },
      "source": [
        "## **1. Data Collection**"
      ]
    },
    {
      "cell_type": "code",
      "metadata": {
        "id": "N1vZJ793Olir"
      },
      "source": [
        "# importing requied libraries\r\n",
        "import os\r\n",
        "import pandas as pd"
      ],
      "execution_count": null,
      "outputs": []
    },
    {
      "cell_type": "code",
      "metadata": {
        "id": "LoF67_HXQfRG"
      },
      "source": [
        "# creating folder DataSource to keep the data \r\n",
        "if os.path.exists(os.path.join(os.getcwd(),'DataSource')):\r\n",
        "  pass\r\n",
        "else:\r\n",
        "  os.makedirs(os.path.join(os.getcwd(),'DataSource'))"
      ],
      "execution_count": null,
      "outputs": []
    },
    {
      "cell_type": "code",
      "metadata": {
        "id": "lxFeIGTYQjn-"
      },
      "source": [
        "# copying the raw data file from google drive to DataSource folder\r\n",
        "!cp \"/content/drive/MyDrive/Case study_M.zip (Unzipped Files)/case_study_data.xlsx\" /content/DataSource/\r\n",
        "\r\n"
      ],
      "execution_count": null,
      "outputs": []
    },
    {
      "cell_type": "code",
      "metadata": {
        "id": "B0e2rGKWRuIv"
      },
      "source": [
        "#loading data fom csv file to variable dataset\r\n",
        "dataset = pd.read_excel('/content/drive/MyDrive/Case study_M.zip (Unzipped Files)/case_study_data.xlsx')"
      ],
      "execution_count": null,
      "outputs": []
    },
    {
      "cell_type": "markdown",
      "metadata": {
        "id": "hoIUfcYvRgY7"
      },
      "source": [
        "## **2. Data Visualization**"
      ]
    },
    {
      "cell_type": "code",
      "metadata": {
        "id": "OaDaUP9SRnin"
      },
      "source": [
        "# importing the required libraries\r\n",
        "import numpy as np\r\n",
        "import seaborn as sns\r\n",
        "import matplotlib.pyplot as plt\r\n",
        "%matplotlib inline\r\n",
        "pd.pandas.set_option('display.max_columns',None)"
      ],
      "execution_count": null,
      "outputs": []
    },
    {
      "cell_type": "code",
      "metadata": {
        "colab": {
          "base_uri": "https://localhost:8080/",
          "height": 224
        },
        "id": "2BFNqd6AR_Lw",
        "outputId": "66a7cbf6-1f7c-4bee-e43a-b62f23a35b53"
      },
      "source": [
        "#printing top 5 record\r\n",
        "dataset.head()"
      ],
      "execution_count": null,
      "outputs": [
        {
          "output_type": "execute_result",
          "data": {
            "text/html": [
              "<div>\n",
              "<style scoped>\n",
              "    .dataframe tbody tr th:only-of-type {\n",
              "        vertical-align: middle;\n",
              "    }\n",
              "\n",
              "    .dataframe tbody tr th {\n",
              "        vertical-align: top;\n",
              "    }\n",
              "\n",
              "    .dataframe thead th {\n",
              "        text-align: right;\n",
              "    }\n",
              "</style>\n",
              "<table border=\"1\" class=\"dataframe\">\n",
              "  <thead>\n",
              "    <tr style=\"text-align: right;\">\n",
              "      <th></th>\n",
              "      <th>checkin_acc</th>\n",
              "      <th>duration</th>\n",
              "      <th>credit_history</th>\n",
              "      <th>purpose</th>\n",
              "      <th>amount</th>\n",
              "      <th>svaing_acc</th>\n",
              "      <th>present_emp_since</th>\n",
              "      <th>inst_rate</th>\n",
              "      <th>personal_status</th>\n",
              "      <th>other_debtors</th>\n",
              "      <th>residing_since</th>\n",
              "      <th>property</th>\n",
              "      <th>age</th>\n",
              "      <th>inst_plans</th>\n",
              "      <th>housing</th>\n",
              "      <th>num_credits</th>\n",
              "      <th>job</th>\n",
              "      <th>dependents</th>\n",
              "      <th>telephone</th>\n",
              "      <th>foreign_worker</th>\n",
              "      <th>status</th>\n",
              "    </tr>\n",
              "  </thead>\n",
              "  <tbody>\n",
              "    <tr>\n",
              "      <th>0</th>\n",
              "      <td>A11</td>\n",
              "      <td>9</td>\n",
              "      <td>A34</td>\n",
              "      <td>A43</td>\n",
              "      <td>1754</td>\n",
              "      <td>A65</td>\n",
              "      <td>A75</td>\n",
              "      <td>6</td>\n",
              "      <td>A93</td>\n",
              "      <td>A101</td>\n",
              "      <td>6</td>\n",
              "      <td>A121</td>\n",
              "      <td>101</td>\n",
              "      <td>A143</td>\n",
              "      <td>A152</td>\n",
              "      <td>3</td>\n",
              "      <td>A173</td>\n",
              "      <td>2</td>\n",
              "      <td>A192</td>\n",
              "      <td>A201</td>\n",
              "      <td>1</td>\n",
              "    </tr>\n",
              "    <tr>\n",
              "      <th>1</th>\n",
              "      <td>A12</td>\n",
              "      <td>72</td>\n",
              "      <td>A32</td>\n",
              "      <td>A43</td>\n",
              "      <td>8927</td>\n",
              "      <td>A61</td>\n",
              "      <td>A73</td>\n",
              "      <td>3</td>\n",
              "      <td>A92</td>\n",
              "      <td>A101</td>\n",
              "      <td>3</td>\n",
              "      <td>A121</td>\n",
              "      <td>33</td>\n",
              "      <td>A143</td>\n",
              "      <td>A152</td>\n",
              "      <td>2</td>\n",
              "      <td>A173</td>\n",
              "      <td>2</td>\n",
              "      <td>A191</td>\n",
              "      <td>A201</td>\n",
              "      <td>2</td>\n",
              "    </tr>\n",
              "    <tr>\n",
              "      <th>2</th>\n",
              "      <td>A14</td>\n",
              "      <td>18</td>\n",
              "      <td>A34</td>\n",
              "      <td>A46</td>\n",
              "      <td>3144</td>\n",
              "      <td>A61</td>\n",
              "      <td>A74</td>\n",
              "      <td>3</td>\n",
              "      <td>A93</td>\n",
              "      <td>A101</td>\n",
              "      <td>5</td>\n",
              "      <td>A121</td>\n",
              "      <td>74</td>\n",
              "      <td>A143</td>\n",
              "      <td>A152</td>\n",
              "      <td>2</td>\n",
              "      <td>A172</td>\n",
              "      <td>3</td>\n",
              "      <td>A191</td>\n",
              "      <td>A201</td>\n",
              "      <td>1</td>\n",
              "    </tr>\n",
              "    <tr>\n",
              "      <th>3</th>\n",
              "      <td>A11</td>\n",
              "      <td>63</td>\n",
              "      <td>A32</td>\n",
              "      <td>A42</td>\n",
              "      <td>11823</td>\n",
              "      <td>A61</td>\n",
              "      <td>A74</td>\n",
              "      <td>3</td>\n",
              "      <td>A93</td>\n",
              "      <td>A103</td>\n",
              "      <td>6</td>\n",
              "      <td>A122</td>\n",
              "      <td>68</td>\n",
              "      <td>A143</td>\n",
              "      <td>A153</td>\n",
              "      <td>2</td>\n",
              "      <td>A173</td>\n",
              "      <td>3</td>\n",
              "      <td>A191</td>\n",
              "      <td>A201</td>\n",
              "      <td>1</td>\n",
              "    </tr>\n",
              "    <tr>\n",
              "      <th>4</th>\n",
              "      <td>A11</td>\n",
              "      <td>36</td>\n",
              "      <td>A33</td>\n",
              "      <td>A40</td>\n",
              "      <td>7305</td>\n",
              "      <td>A61</td>\n",
              "      <td>A73</td>\n",
              "      <td>5</td>\n",
              "      <td>A93</td>\n",
              "      <td>A101</td>\n",
              "      <td>6</td>\n",
              "      <td>A124</td>\n",
              "      <td>80</td>\n",
              "      <td>A143</td>\n",
              "      <td>A153</td>\n",
              "      <td>3</td>\n",
              "      <td>A173</td>\n",
              "      <td>3</td>\n",
              "      <td>A191</td>\n",
              "      <td>A201</td>\n",
              "      <td>2</td>\n",
              "    </tr>\n",
              "  </tbody>\n",
              "</table>\n",
              "</div>"
            ],
            "text/plain": [
              "  checkin_acc  duration credit_history purpose  amount svaing_acc  \\\n",
              "0         A11         9            A34     A43    1754        A65   \n",
              "1         A12        72            A32     A43    8927        A61   \n",
              "2         A14        18            A34     A46    3144        A61   \n",
              "3         A11        63            A32     A42   11823        A61   \n",
              "4         A11        36            A33     A40    7305        A61   \n",
              "\n",
              "  present_emp_since  inst_rate personal_status other_debtors  residing_since  \\\n",
              "0               A75          6             A93          A101               6   \n",
              "1               A73          3             A92          A101               3   \n",
              "2               A74          3             A93          A101               5   \n",
              "3               A74          3             A93          A103               6   \n",
              "4               A73          5             A93          A101               6   \n",
              "\n",
              "  property  age inst_plans housing  num_credits   job  dependents telephone  \\\n",
              "0     A121  101       A143    A152            3  A173           2      A192   \n",
              "1     A121   33       A143    A152            2  A173           2      A191   \n",
              "2     A121   74       A143    A152            2  A172           3      A191   \n",
              "3     A122   68       A143    A153            2  A173           3      A191   \n",
              "4     A124   80       A143    A153            3  A173           3      A191   \n",
              "\n",
              "  foreign_worker  status  \n",
              "0           A201       1  \n",
              "1           A201       2  \n",
              "2           A201       1  \n",
              "3           A201       1  \n",
              "4           A201       2  "
            ]
          },
          "metadata": {
            "tags": []
          },
          "execution_count": 166
        }
      ]
    },
    {
      "cell_type": "code",
      "metadata": {
        "colab": {
          "base_uri": "https://localhost:8080/"
        },
        "id": "dHlA714YTvUz",
        "outputId": "4c90c56f-6210-44e7-9d4b-60e2d4f7ec8b"
      },
      "source": [
        "# checking shape of dataset\r\n",
        "dataset.shape"
      ],
      "execution_count": null,
      "outputs": [
        {
          "output_type": "execute_result",
          "data": {
            "text/plain": [
              "(1000, 21)"
            ]
          },
          "metadata": {
            "tags": []
          },
          "execution_count": 167
        }
      ]
    },
    {
      "cell_type": "code",
      "metadata": {
        "colab": {
          "base_uri": "https://localhost:8080/"
        },
        "id": "3ALm4DYFmqnU",
        "outputId": "39d70326-1127-4b7a-a8e1-b6b0e57f646c"
      },
      "source": [
        "dataset.dtypes"
      ],
      "execution_count": null,
      "outputs": [
        {
          "output_type": "execute_result",
          "data": {
            "text/plain": [
              "checkin_acc          object\n",
              "duration              int64\n",
              "credit_history       object\n",
              "purpose              object\n",
              "amount                int64\n",
              "svaing_acc           object\n",
              "present_emp_since    object\n",
              "inst_rate             int64\n",
              "personal_status      object\n",
              "other_debtors        object\n",
              "residing_since        int64\n",
              "property             object\n",
              "age                   int64\n",
              "inst_plans           object\n",
              "housing              object\n",
              "num_credits           int64\n",
              "job                  object\n",
              "dependents            int64\n",
              "telephone            object\n",
              "foreign_worker       object\n",
              "status                int64\n",
              "dtype: object"
            ]
          },
          "metadata": {
            "tags": []
          },
          "execution_count": 168
        }
      ]
    },
    {
      "cell_type": "code",
      "metadata": {
        "colab": {
          "base_uri": "https://localhost:8080/",
          "height": 297
        },
        "id": "FuPeYtTAptI3",
        "outputId": "c162aef0-cec8-40f8-e55d-ef128d823f1f"
      },
      "source": [
        "dataset.describe()"
      ],
      "execution_count": null,
      "outputs": [
        {
          "output_type": "execute_result",
          "data": {
            "text/html": [
              "<div>\n",
              "<style scoped>\n",
              "    .dataframe tbody tr th:only-of-type {\n",
              "        vertical-align: middle;\n",
              "    }\n",
              "\n",
              "    .dataframe tbody tr th {\n",
              "        vertical-align: top;\n",
              "    }\n",
              "\n",
              "    .dataframe thead th {\n",
              "        text-align: right;\n",
              "    }\n",
              "</style>\n",
              "<table border=\"1\" class=\"dataframe\">\n",
              "  <thead>\n",
              "    <tr style=\"text-align: right;\">\n",
              "      <th></th>\n",
              "      <th>duration</th>\n",
              "      <th>amount</th>\n",
              "      <th>inst_rate</th>\n",
              "      <th>residing_since</th>\n",
              "      <th>age</th>\n",
              "      <th>num_credits</th>\n",
              "      <th>dependents</th>\n",
              "      <th>status</th>\n",
              "    </tr>\n",
              "  </thead>\n",
              "  <tbody>\n",
              "    <tr>\n",
              "      <th>count</th>\n",
              "      <td>1000.000000</td>\n",
              "      <td>1000.000000</td>\n",
              "      <td>1000.000000</td>\n",
              "      <td>1000.000000</td>\n",
              "      <td>1000.000000</td>\n",
              "      <td>1000.000000</td>\n",
              "      <td>1000.000000</td>\n",
              "      <td>1000.000000</td>\n",
              "    </tr>\n",
              "    <tr>\n",
              "      <th>mean</th>\n",
              "      <td>31.449000</td>\n",
              "      <td>4907.134000</td>\n",
              "      <td>4.606000</td>\n",
              "      <td>4.407000</td>\n",
              "      <td>53.566000</td>\n",
              "      <td>2.441000</td>\n",
              "      <td>2.155000</td>\n",
              "      <td>1.300000</td>\n",
              "    </tr>\n",
              "    <tr>\n",
              "      <th>std</th>\n",
              "      <td>18.055564</td>\n",
              "      <td>4234.100176</td>\n",
              "      <td>1.572016</td>\n",
              "      <td>1.570292</td>\n",
              "      <td>17.065664</td>\n",
              "      <td>0.697858</td>\n",
              "      <td>0.362086</td>\n",
              "      <td>0.458487</td>\n",
              "    </tr>\n",
              "    <tr>\n",
              "      <th>min</th>\n",
              "      <td>6.000000</td>\n",
              "      <td>375.000000</td>\n",
              "      <td>2.000000</td>\n",
              "      <td>2.000000</td>\n",
              "      <td>29.000000</td>\n",
              "      <td>2.000000</td>\n",
              "      <td>2.000000</td>\n",
              "      <td>1.000000</td>\n",
              "    </tr>\n",
              "    <tr>\n",
              "      <th>25%</th>\n",
              "      <td>18.000000</td>\n",
              "      <td>2048.250000</td>\n",
              "      <td>3.000000</td>\n",
              "      <td>3.000000</td>\n",
              "      <td>41.000000</td>\n",
              "      <td>2.000000</td>\n",
              "      <td>2.000000</td>\n",
              "      <td>1.000000</td>\n",
              "    </tr>\n",
              "    <tr>\n",
              "      <th>50%</th>\n",
              "      <td>27.000000</td>\n",
              "      <td>3479.500000</td>\n",
              "      <td>5.000000</td>\n",
              "      <td>5.000000</td>\n",
              "      <td>50.000000</td>\n",
              "      <td>2.000000</td>\n",
              "      <td>2.000000</td>\n",
              "      <td>1.000000</td>\n",
              "    </tr>\n",
              "    <tr>\n",
              "      <th>75%</th>\n",
              "      <td>36.000000</td>\n",
              "      <td>5958.500000</td>\n",
              "      <td>6.000000</td>\n",
              "      <td>6.000000</td>\n",
              "      <td>63.000000</td>\n",
              "      <td>3.000000</td>\n",
              "      <td>2.000000</td>\n",
              "      <td>2.000000</td>\n",
              "    </tr>\n",
              "    <tr>\n",
              "      <th>max</th>\n",
              "      <td>108.000000</td>\n",
              "      <td>27636.000000</td>\n",
              "      <td>6.000000</td>\n",
              "      <td>6.000000</td>\n",
              "      <td>113.000000</td>\n",
              "      <td>6.000000</td>\n",
              "      <td>3.000000</td>\n",
              "      <td>2.000000</td>\n",
              "    </tr>\n",
              "  </tbody>\n",
              "</table>\n",
              "</div>"
            ],
            "text/plain": [
              "          duration        amount    inst_rate  residing_since          age  \\\n",
              "count  1000.000000   1000.000000  1000.000000     1000.000000  1000.000000   \n",
              "mean     31.449000   4907.134000     4.606000        4.407000    53.566000   \n",
              "std      18.055564   4234.100176     1.572016        1.570292    17.065664   \n",
              "min       6.000000    375.000000     2.000000        2.000000    29.000000   \n",
              "25%      18.000000   2048.250000     3.000000        3.000000    41.000000   \n",
              "50%      27.000000   3479.500000     5.000000        5.000000    50.000000   \n",
              "75%      36.000000   5958.500000     6.000000        6.000000    63.000000   \n",
              "max     108.000000  27636.000000     6.000000        6.000000   113.000000   \n",
              "\n",
              "       num_credits   dependents       status  \n",
              "count  1000.000000  1000.000000  1000.000000  \n",
              "mean      2.441000     2.155000     1.300000  \n",
              "std       0.697858     0.362086     0.458487  \n",
              "min       2.000000     2.000000     1.000000  \n",
              "25%       2.000000     2.000000     1.000000  \n",
              "50%       2.000000     2.000000     1.000000  \n",
              "75%       3.000000     2.000000     2.000000  \n",
              "max       6.000000     3.000000     2.000000  "
            ]
          },
          "metadata": {
            "tags": []
          },
          "execution_count": 169
        }
      ]
    },
    {
      "cell_type": "code",
      "metadata": {
        "colab": {
          "base_uri": "https://localhost:8080/"
        },
        "id": "hmrzY5w0TwzY",
        "outputId": "de61d5f0-db01-47be-c2bc-fd8ffb356705"
      },
      "source": [
        "#Checking the list of columns present in dataset\r\n",
        "ColList = dataset.columns\r\n",
        "ColList"
      ],
      "execution_count": null,
      "outputs": [
        {
          "output_type": "execute_result",
          "data": {
            "text/plain": [
              "Index(['checkin_acc', 'duration', 'credit_history', 'purpose', 'amount',\n",
              "       'svaing_acc', 'present_emp_since', 'inst_rate', 'personal_status',\n",
              "       'other_debtors', 'residing_since', 'property', 'age', 'inst_plans',\n",
              "       'housing', 'num_credits', 'job', 'dependents', 'telephone',\n",
              "       'foreign_worker', 'status'],\n",
              "      dtype='object')"
            ]
          },
          "metadata": {
            "tags": []
          },
          "execution_count": 170
        }
      ]
    },
    {
      "cell_type": "code",
      "metadata": {
        "colab": {
          "base_uri": "https://localhost:8080/"
        },
        "id": "qgZv7flsbl_1",
        "outputId": "70e3b316-4cb3-40e0-d4a4-d3d3fc1042ac"
      },
      "source": [
        "#Now listing all numerical features\r\n",
        "numerical_features = [feature for feature in dataset.columns if dataset[feature].dtypes != 'O' and feature not in ['status']]\r\n",
        "numerical_features"
      ],
      "execution_count": null,
      "outputs": [
        {
          "output_type": "execute_result",
          "data": {
            "text/plain": [
              "['duration',\n",
              " 'amount',\n",
              " 'inst_rate',\n",
              " 'residing_since',\n",
              " 'age',\n",
              " 'num_credits',\n",
              " 'dependents']"
            ]
          },
          "metadata": {
            "tags": []
          },
          "execution_count": 171
        }
      ]
    },
    {
      "cell_type": "code",
      "metadata": {
        "colab": {
          "base_uri": "https://localhost:8080/"
        },
        "id": "WN6KpPlEbmfO",
        "outputId": "07440630-72d3-422b-c65a-5d0079e901b2"
      },
      "source": [
        "#Making the list of categorical features\r\n",
        "categorical_features=[feature for feature in dataset.columns if dataset[feature].dtype=='O']\r\n",
        "categorical_features"
      ],
      "execution_count": null,
      "outputs": [
        {
          "output_type": "execute_result",
          "data": {
            "text/plain": [
              "['checkin_acc',\n",
              " 'credit_history',\n",
              " 'purpose',\n",
              " 'svaing_acc',\n",
              " 'present_emp_since',\n",
              " 'personal_status',\n",
              " 'other_debtors',\n",
              " 'property',\n",
              " 'inst_plans',\n",
              " 'housing',\n",
              " 'job',\n",
              " 'telephone',\n",
              " 'foreign_worker']"
            ]
          },
          "metadata": {
            "tags": []
          },
          "execution_count": 172
        }
      ]
    },
    {
      "cell_type": "code",
      "metadata": {
        "colab": {
          "base_uri": "https://localhost:8080/"
        },
        "id": "Py2sImpsgsOJ",
        "outputId": "3c605df5-0962-4b45-a2ec-5a39d52eac13"
      },
      "source": [
        "# view class disrtibution\r\n",
        "dataset.groupby('status').size()"
      ],
      "execution_count": null,
      "outputs": [
        {
          "output_type": "execute_result",
          "data": {
            "text/plain": [
              "status\n",
              "1    700\n",
              "2    300\n",
              "dtype: int64"
            ]
          },
          "metadata": {
            "tags": []
          },
          "execution_count": 173
        }
      ]
    },
    {
      "cell_type": "code",
      "metadata": {
        "colab": {
          "base_uri": "https://localhost:8080/",
          "height": 276
        },
        "id": "SPy6Qhi-Ucbd",
        "outputId": "56d0f002-1133-4514-9f06-d275be696ced"
      },
      "source": [
        "#Let's just check data is balanced or imbalanced\r\n",
        "dataset.groupby('status')['status'].count().plot.bar()\r\n",
        "plt.show()"
      ],
      "execution_count": null,
      "outputs": [
        {
          "output_type": "display_data",
          "data": {
            "image/png": "[encoded data removed]",
            "text/plain": [
              "<Figure size 432x288 with 1 Axes>"
            ]
          },
          "metadata": {
            "tags": [],
            "needs_background": "light"
          }
        }
      ]
    },
    {
      "cell_type": "markdown",
      "metadata": {
        "id": "lmXt0s2hZg-S"
      },
      "source": [
        "## **3. Data Cleaning**"
      ]
    },
    {
      "cell_type": "code",
      "metadata": {
        "id": "BwublppbVJ7g"
      },
      "source": [
        "#Importing required libraries\r\n",
        "import scipy.stats as stat\r\n",
        "import pylab\r\n",
        "from sklearn.preprocessing import OrdinalEncoder"
      ],
      "execution_count": null,
      "outputs": []
    },
    {
      "cell_type": "code",
      "metadata": {
        "id": "1qUGBD3Rh-z1"
      },
      "source": [
        "#Encode categorical features\r\n",
        "OrEncod = OrdinalEncoder()\r\n",
        "dataset[categorical_features] = OrEncod.fit_transform(dataset[categorical_features])"
      ],
      "execution_count": null,
      "outputs": []
    },
    {
      "cell_type": "code",
      "metadata": {
        "colab": {
          "base_uri": "https://localhost:8080/",
          "height": 224
        },
        "id": "Y_eCuzlJh-n3",
        "outputId": "f79927c4-d064-4d72-9f93-2c5b0cef7863"
      },
      "source": [
        "# viw to 5 row\r\n",
        "dataset.head()"
      ],
      "execution_count": null,
      "outputs": [
        {
          "output_type": "execute_result",
          "data": {
            "text/html": [
              "<div>\n",
              "<style scoped>\n",
              "    .dataframe tbody tr th:only-of-type {\n",
              "        vertical-align: middle;\n",
              "    }\n",
              "\n",
              "    .dataframe tbody tr th {\n",
              "        vertical-align: top;\n",
              "    }\n",
              "\n",
              "    .dataframe thead th {\n",
              "        text-align: right;\n",
              "    }\n",
              "</style>\n",
              "<table border=\"1\" class=\"dataframe\">\n",
              "  <thead>\n",
              "    <tr style=\"text-align: right;\">\n",
              "      <th></th>\n",
              "      <th>checkin_acc</th>\n",
              "      <th>duration</th>\n",
              "      <th>credit_history</th>\n",
              "      <th>purpose</th>\n",
              "      <th>amount</th>\n",
              "      <th>svaing_acc</th>\n",
              "      <th>present_emp_since</th>\n",
              "      <th>inst_rate</th>\n",
              "      <th>personal_status</th>\n",
              "      <th>other_debtors</th>\n",
              "      <th>residing_since</th>\n",
              "      <th>property</th>\n",
              "      <th>age</th>\n",
              "      <th>inst_plans</th>\n",
              "      <th>housing</th>\n",
              "      <th>num_credits</th>\n",
              "      <th>job</th>\n",
              "      <th>dependents</th>\n",
              "      <th>telephone</th>\n",
              "      <th>foreign_worker</th>\n",
              "      <th>status</th>\n",
              "    </tr>\n",
              "  </thead>\n",
              "  <tbody>\n",
              "    <tr>\n",
              "      <th>0</th>\n",
              "      <td>0.0</td>\n",
              "      <td>9</td>\n",
              "      <td>4.0</td>\n",
              "      <td>4.0</td>\n",
              "      <td>1754</td>\n",
              "      <td>4.0</td>\n",
              "      <td>4.0</td>\n",
              "      <td>6</td>\n",
              "      <td>2.0</td>\n",
              "      <td>0.0</td>\n",
              "      <td>6</td>\n",
              "      <td>0.0</td>\n",
              "      <td>101</td>\n",
              "      <td>2.0</td>\n",
              "      <td>1.0</td>\n",
              "      <td>3</td>\n",
              "      <td>2.0</td>\n",
              "      <td>2</td>\n",
              "      <td>1.0</td>\n",
              "      <td>0.0</td>\n",
              "      <td>1</td>\n",
              "    </tr>\n",
              "    <tr>\n",
              "      <th>1</th>\n",
              "      <td>1.0</td>\n",
              "      <td>72</td>\n",
              "      <td>2.0</td>\n",
              "      <td>4.0</td>\n",
              "      <td>8927</td>\n",
              "      <td>0.0</td>\n",
              "      <td>2.0</td>\n",
              "      <td>3</td>\n",
              "      <td>1.0</td>\n",
              "      <td>0.0</td>\n",
              "      <td>3</td>\n",
              "      <td>0.0</td>\n",
              "      <td>33</td>\n",
              "      <td>2.0</td>\n",
              "      <td>1.0</td>\n",
              "      <td>2</td>\n",
              "      <td>2.0</td>\n",
              "      <td>2</td>\n",
              "      <td>0.0</td>\n",
              "      <td>0.0</td>\n",
              "      <td>2</td>\n",
              "    </tr>\n",
              "    <tr>\n",
              "      <th>2</th>\n",
              "      <td>3.0</td>\n",
              "      <td>18</td>\n",
              "      <td>4.0</td>\n",
              "      <td>7.0</td>\n",
              "      <td>3144</td>\n",
              "      <td>0.0</td>\n",
              "      <td>3.0</td>\n",
              "      <td>3</td>\n",
              "      <td>2.0</td>\n",
              "      <td>0.0</td>\n",
              "      <td>5</td>\n",
              "      <td>0.0</td>\n",
              "      <td>74</td>\n",
              "      <td>2.0</td>\n",
              "      <td>1.0</td>\n",
              "      <td>2</td>\n",
              "      <td>1.0</td>\n",
              "      <td>3</td>\n",
              "      <td>0.0</td>\n",
              "      <td>0.0</td>\n",
              "      <td>1</td>\n",
              "    </tr>\n",
              "    <tr>\n",
              "      <th>3</th>\n",
              "      <td>0.0</td>\n",
              "      <td>63</td>\n",
              "      <td>2.0</td>\n",
              "      <td>3.0</td>\n",
              "      <td>11823</td>\n",
              "      <td>0.0</td>\n",
              "      <td>3.0</td>\n",
              "      <td>3</td>\n",
              "      <td>2.0</td>\n",
              "      <td>2.0</td>\n",
              "      <td>6</td>\n",
              "      <td>1.0</td>\n",
              "      <td>68</td>\n",
              "      <td>2.0</td>\n",
              "      <td>2.0</td>\n",
              "      <td>2</td>\n",
              "      <td>2.0</td>\n",
              "      <td>3</td>\n",
              "      <td>0.0</td>\n",
              "      <td>0.0</td>\n",
              "      <td>1</td>\n",
              "    </tr>\n",
              "    <tr>\n",
              "      <th>4</th>\n",
              "      <td>0.0</td>\n",
              "      <td>36</td>\n",
              "      <td>3.0</td>\n",
              "      <td>0.0</td>\n",
              "      <td>7305</td>\n",
              "      <td>0.0</td>\n",
              "      <td>2.0</td>\n",
              "      <td>5</td>\n",
              "      <td>2.0</td>\n",
              "      <td>0.0</td>\n",
              "      <td>6</td>\n",
              "      <td>3.0</td>\n",
              "      <td>80</td>\n",
              "      <td>2.0</td>\n",
              "      <td>2.0</td>\n",
              "      <td>3</td>\n",
              "      <td>2.0</td>\n",
              "      <td>3</td>\n",
              "      <td>0.0</td>\n",
              "      <td>0.0</td>\n",
              "      <td>2</td>\n",
              "    </tr>\n",
              "  </tbody>\n",
              "</table>\n",
              "</div>"
            ],
            "text/plain": [
              "   checkin_acc  duration  credit_history  purpose  amount  svaing_acc  \\\n",
              "0          0.0         9             4.0      4.0    1754         4.0   \n",
              "1          1.0        72             2.0      4.0    8927         0.0   \n",
              "2          3.0        18             4.0      7.0    3144         0.0   \n",
              "3          0.0        63             2.0      3.0   11823         0.0   \n",
              "4          0.0        36             3.0      0.0    7305         0.0   \n",
              "\n",
              "   present_emp_since  inst_rate  personal_status  other_debtors  \\\n",
              "0                4.0          6              2.0            0.0   \n",
              "1                2.0          3              1.0            0.0   \n",
              "2                3.0          3              2.0            0.0   \n",
              "3                3.0          3              2.0            2.0   \n",
              "4                2.0          5              2.0            0.0   \n",
              "\n",
              "   residing_since  property  age  inst_plans  housing  num_credits  job  \\\n",
              "0               6       0.0  101         2.0      1.0            3  2.0   \n",
              "1               3       0.0   33         2.0      1.0            2  2.0   \n",
              "2               5       0.0   74         2.0      1.0            2  1.0   \n",
              "3               6       1.0   68         2.0      2.0            2  2.0   \n",
              "4               6       3.0   80         2.0      2.0            3  2.0   \n",
              "\n",
              "   dependents  telephone  foreign_worker  status  \n",
              "0           2        1.0             0.0       1  \n",
              "1           2        0.0             0.0       2  \n",
              "2           3        0.0             0.0       1  \n",
              "3           3        0.0             0.0       1  \n",
              "4           3        0.0             0.0       2  "
            ]
          },
          "metadata": {
            "tags": []
          },
          "execution_count": 177
        }
      ]
    },
    {
      "cell_type": "markdown",
      "metadata": {
        "id": "51L7T1OepXTA"
      },
      "source": [
        "**Missing Values**"
      ]
    },
    {
      "cell_type": "code",
      "metadata": {
        "id": "YCGiT8IxZpLw"
      },
      "source": [
        "#Checking the percentage of NaN values present in each feature\r\n",
        "#Also making list of features which has missing values\r\n",
        "features_with_na=[features for features in dataset.columns if dataset[features].isnull().sum()>1]"
      ],
      "execution_count": null,
      "outputs": []
    },
    {
      "cell_type": "code",
      "metadata": {
        "id": "H2CZH-cBZx_G"
      },
      "source": [
        "## print the feature name and the percentage of missing values\r\n",
        "for feature in features_with_na:\r\n",
        "    print(feature, np.round(dataset[feature].isnull().mean(), 4),  '% missing values')\r\n",
        "#No null values found then it will not print anything"
      ],
      "execution_count": null,
      "outputs": []
    },
    {
      "cell_type": "markdown",
      "metadata": {
        "id": "ZLW24tTua2G1"
      },
      "source": [
        "As we can see there's no null value present in dataset so this section ended here."
      ]
    },
    {
      "cell_type": "code",
      "metadata": {
        "colab": {
          "base_uri": "https://localhost:8080/"
        },
        "id": "KxBbXbsgmWD9",
        "outputId": "f10d72ec-b36e-4bbe-d4e6-32f528636827"
      },
      "source": [
        "# summarize the number of unique value for each fetaure\r\n",
        "dataset.nunique()"
      ],
      "execution_count": null,
      "outputs": [
        {
          "output_type": "execute_result",
          "data": {
            "text/plain": [
              "checkin_acc            4\n",
              "duration              33\n",
              "credit_history         5\n",
              "purpose               10\n",
              "amount               921\n",
              "svaing_acc             5\n",
              "present_emp_since      5\n",
              "inst_rate              4\n",
              "personal_status        4\n",
              "other_debtors          3\n",
              "residing_since         4\n",
              "property               4\n",
              "age                   53\n",
              "inst_plans             3\n",
              "housing                3\n",
              "num_credits            4\n",
              "job                    4\n",
              "dependents             2\n",
              "telephone              2\n",
              "foreign_worker         2\n",
              "status                 2\n",
              "dtype: int64"
            ]
          },
          "metadata": {
            "tags": []
          },
          "execution_count": 180
        }
      ]
    },
    {
      "cell_type": "code",
      "metadata": {
        "colab": {
          "base_uri": "https://localhost:8080/"
        },
        "id": "JvAwrnBPmV9y",
        "outputId": "f977e3d7-0b8f-4c37-f146-b11f9404d299"
      },
      "source": [
        "# list of feature which contain only one unique value\r\n",
        "to_del = [i for i,v in enumerate(dataset.nunique()) if v == 1]\r\n",
        "to_del"
      ],
      "execution_count": null,
      "outputs": [
        {
          "output_type": "execute_result",
          "data": {
            "text/plain": [
              "[]"
            ]
          },
          "metadata": {
            "tags": []
          },
          "execution_count": 181
        }
      ]
    },
    {
      "cell_type": "code",
      "metadata": {
        "colab": {
          "base_uri": "https://localhost:8080/"
        },
        "id": "1CCJ6NIWmV02",
        "outputId": "91f3f201-d998-41fe-e40a-5dd5d0ccb5a4"
      },
      "source": [
        "# drop useless fetaure which contain only one unique value\r\n",
        "#dataset.drop(to_del, axis=1, inplace=True)\r\n",
        "print(dataset.shape)"
      ],
      "execution_count": null,
      "outputs": [
        {
          "output_type": "stream",
          "text": [
            "(1000, 21)\n"
          ],
          "name": "stdout"
        }
      ]
    },
    {
      "cell_type": "code",
      "metadata": {
        "colab": {
          "base_uri": "https://localhost:8080/"
        },
        "id": "7blC5kZ1mqNk",
        "outputId": "7a7b00af-390f-4e1b-9568-24635e9cde30"
      },
      "source": [
        "# summarize the percentage of unique values for each feature\r\n",
        "for i,v in (dataset[numerical_features].nunique()).iteritems():\r\n",
        "  print('%s, %d, %.1f%%' %(i, v, float(v)/dataset[numerical_features].shape[0]*100))"
      ],
      "execution_count": null,
      "outputs": [
        {
          "output_type": "stream",
          "text": [
            "duration, 33, 3.3%\n",
            "amount, 921, 92.1%\n",
            "inst_rate, 4, 0.4%\n",
            "residing_since, 4, 0.4%\n",
            "age, 53, 5.3%\n",
            "num_credits, 4, 0.4%\n",
            "dependents, 2, 0.2%\n"
          ],
          "name": "stdout"
        }
      ]
    },
    {
      "cell_type": "code",
      "metadata": {
        "colab": {
          "base_uri": "https://localhost:8080/"
        },
        "id": "T4JdWhtDmqDH",
        "outputId": "b2574f35-dc42-4b54-c6d4-cfdf32367ba9"
      },
      "source": [
        "# delete columns where number of unique values is less than 1% of the rows\r\n",
        "to_del = [i for i,v in (dataset[numerical_features].nunique()).iteritems() if (float(v)/dataset[numerical_features].shape[0]*100) < 1]\r\n",
        "print(to_del)\r\n",
        "# drop useless columns\r\n",
        "#dataset.drop(to_del, axis=1, inplace=True)\r\n",
        "print(dataset.shape)"
      ],
      "execution_count": null,
      "outputs": [
        {
          "output_type": "stream",
          "text": [
            "['inst_rate', 'residing_since', 'num_credits', 'dependents']\n",
            "(1000, 21)\n"
          ],
          "name": "stdout"
        }
      ]
    },
    {
      "cell_type": "code",
      "metadata": {
        "id": "FIyNETQpmx_J"
      },
      "source": [
        "# define thresholds to check\r\n",
        "thresholds = np.arange(0.0, 0.55, 0.05)"
      ],
      "execution_count": null,
      "outputs": []
    },
    {
      "cell_type": "code",
      "metadata": {
        "colab": {
          "base_uri": "https://localhost:8080/",
          "height": 452
        },
        "id": "ZNMy-fLXmxzA",
        "outputId": "7bfc0ff1-8f9d-4bc0-bbdf-355b0fde0c0c"
      },
      "source": [
        "# summarize the feature which have low varince\r\n",
        "from sklearn.feature_selection import VarianceThreshold\r\n",
        "# define thresholds to check\r\n",
        "thresholds = np.arange(0.0, 0.55, 0.05)\r\n",
        "# apply transform with each threshold\r\n",
        "results = list()\r\n",
        "for t in thresholds:\r\n",
        "  # define the transform\r\n",
        "  transform = VarianceThreshold(threshold=t)\r\n",
        "  # transform the input data\r\n",
        "  X_sel = transform.fit_transform(dataset[numerical_features].iloc[:,:-1])\r\n",
        "  # determine the number of input features\r\n",
        "  n_features = X_sel.shape[1]\r\n",
        "  print('Threshold=%.2f, Features=%d' % (t, n_features))\r\n",
        "  # store the result\r\n",
        "  results.append(n_features)\r\n",
        "# plot the threshold vs the number of selected features\r\n",
        "plt.plot(thresholds, results)\r\n",
        "plt.show()"
      ],
      "execution_count": null,
      "outputs": [
        {
          "output_type": "stream",
          "text": [
            "Threshold=0.00, Features=6\n",
            "Threshold=0.05, Features=6\n",
            "Threshold=0.10, Features=6\n",
            "Threshold=0.15, Features=6\n",
            "Threshold=0.20, Features=6\n",
            "Threshold=0.25, Features=6\n",
            "Threshold=0.30, Features=6\n",
            "Threshold=0.35, Features=6\n",
            "Threshold=0.40, Features=6\n",
            "Threshold=0.45, Features=6\n",
            "Threshold=0.50, Features=5\n"
          ],
          "name": "stdout"
        },
        {
          "output_type": "display_data",
          "data": {
            "image/png": "[encoded data removed]",
            "text/plain": [
              "<Figure size 432x288 with 1 Axes>"
            ]
          },
          "metadata": {
            "tags": [],
            "needs_background": "light"
          }
        }
      ]
    },
    {
      "cell_type": "code",
      "metadata": {
        "colab": {
          "base_uri": "https://localhost:8080/"
        },
        "id": "cQSN-MpDm5Ky",
        "outputId": "6250ab8f-0e8f-43d3-b809-e3c02632dff9"
      },
      "source": [
        "# summarize the duplicate row\r\n",
        "dups = dataset.duplicated()\r\n",
        "# report if there are any duplicates\r\n",
        "print(dups.any())\r\n",
        "# list all duplicate rows\r\n",
        "print(dataset[dups])\r\n"
      ],
      "execution_count": null,
      "outputs": [
        {
          "output_type": "stream",
          "text": [
            "False\n",
            "Empty DataFrame\n",
            "Columns: [checkin_acc, duration, credit_history, purpose, amount, svaing_acc, present_emp_since, inst_rate, personal_status, other_debtors, residing_since, property, age, inst_plans, housing, num_credits, job, dependents, telephone, foreign_worker, status]\n",
            "Index: []\n"
          ],
          "name": "stdout"
        }
      ]
    },
    {
      "cell_type": "code",
      "metadata": {
        "colab": {
          "base_uri": "https://localhost:8080/"
        },
        "id": "W6-BCWQ9m8Te",
        "outputId": "1f49be71-6ef0-4344-aecb-1fe5aaa97194"
      },
      "source": [
        "# delete duplicate rows\r\n",
        "dataset.drop_duplicates(inplace=True)\r\n",
        "print(dataset.shape)"
      ],
      "execution_count": null,
      "outputs": [
        {
          "output_type": "stream",
          "text": [
            "(1000, 21)\n"
          ],
          "name": "stdout"
        }
      ]
    },
    {
      "cell_type": "markdown",
      "metadata": {
        "id": "u7sKPxVtbPJY"
      },
      "source": [
        "**Outlier Handling**"
      ]
    },
    {
      "cell_type": "code",
      "metadata": {
        "id": "0RESLVq4rwkH"
      },
      "source": [
        "#Importing required libraries\r\n",
        "import scipy.stats as stat\r\n",
        "import pylab"
      ],
      "execution_count": null,
      "outputs": []
    },
    {
      "cell_type": "code",
      "metadata": {
        "id": "orNvpaq2r5cx"
      },
      "source": [
        "#Creating a function to draw plots which contains two subplots to check distribution of data and outliers as well\r\n",
        "def plot_data(df,feature):\r\n",
        "    plt.figure(figsize=(10,6))\r\n",
        "    plt.subplot(1,2,1)\r\n",
        "    df[feature].hist()\r\n",
        "    plt.title(feature)\r\n",
        "    plt.subplot(1,2,2)\r\n",
        "    stat.probplot(df[feature],dist='norm',plot=pylab)\r\n",
        "    plt.show()"
      ],
      "execution_count": null,
      "outputs": []
    },
    {
      "cell_type": "code",
      "metadata": {
        "colab": {
          "base_uri": "https://localhost:8080/",
          "height": 761
        },
        "id": "MCcTgfsQji4j",
        "outputId": "c925a5e8-6861-4e55-fc53-c03ef473723d"
      },
      "source": [
        "# identify outliers with interquartile range\r\n",
        "# view the outlier by ploting boxlot\r\n",
        "for feature,count in (dataset[numerical_features].nunique()).iteritems():\r\n",
        "  if count>4:\r\n",
        "    figure=dataset.boxplot(column=feature)\r\n",
        "    plt.show()"
      ],
      "execution_count": null,
      "outputs": [
        {
          "output_type": "display_data",
          "data": {
            "image/png": "[encoded data removed]",
            "text/plain": [
              "<Figure size 432x288 with 1 Axes>"
            ]
          },
          "metadata": {
            "tags": [],
            "needs_background": "light"
          }
        },
        {
          "output_type": "display_data",
          "data": {
            "image/png": "[encoded data removed]",
            "text/plain": [
              "<Figure size 432x288 with 1 Axes>"
            ]
          },
          "metadata": {
            "tags": [],
            "needs_background": "light"
          }
        },
        {
          "output_type": "display_data",
          "data": {
            "image/png": "[encoded data removed]",
            "text/plain": [
              "<Figure size 432x288 with 1 Axes>"
            ]
          },
          "metadata": {
            "tags": [],
            "needs_background": "light"
          }
        }
      ]
    },
    {
      "cell_type": "code",
      "metadata": {
        "colab": {
          "base_uri": "https://localhost:8080/"
        },
        "id": "yWpmA1CBqC6b",
        "outputId": "7d6cecdf-247d-4643-fd46-6fa124ef0b2b"
      },
      "source": [
        "# calulating upper and lowe bridge\r\n",
        "for feature,count in (dataset[numerical_features].nunique()).iteritems():\r\n",
        "  if count>4:\r\n",
        "    # calculate interquartile range\r\n",
        "    IQR=dataset[feature].quantile(0.75)-dataset[feature].quantile(0.25)\r\n",
        "    # colculating lower bridge\r\n",
        "    lower_bridge=dataset[feature].quantile(0.25)-(IQR*3)\r\n",
        "    #calculating upper bride\r\n",
        "    upper_bridge=dataset[feature].quantile(0.75)+(IQR*3)\r\n",
        "    # updating upper outlier with upper bridge\r\n",
        "    dataset.loc[dataset[feature]>=upper_bridge,feature]=upper_bridge\r\n",
        "    # upading lower outlier with lower bridge\r\n",
        "    dataset.loc[dataset[feature]<=lower_bridge,feature]=lower_bridge\r\n",
        "    print(feature)\r\n",
        "    print(upper_bridge)\r\n",
        "    print(lower_bridge)"
      ],
      "execution_count": null,
      "outputs": [
        {
          "output_type": "stream",
          "text": [
            "duration\n",
            "90.0\n",
            "-36.0\n",
            "amount\n",
            "17689.25\n",
            "-9682.5\n",
            "age\n",
            "129.0\n",
            "-25.0\n"
          ],
          "name": "stdout"
        }
      ]
    },
    {
      "cell_type": "code",
      "metadata": {
        "colab": {
          "base_uri": "https://localhost:8080/",
          "height": 761
        },
        "id": "0nd1lImPqf43",
        "outputId": "c3ddedf2-fc64-40a0-8744-e3deda8ad8ea"
      },
      "source": [
        "# view outlier after update using box plot\r\n",
        "for feature,count in (dataset[numerical_features].nunique()).iteritems():\r\n",
        "  if count>4:\r\n",
        "    figure=dataset.boxplot(column=feature)\r\n",
        "    plt.show()"
      ],
      "execution_count": null,
      "outputs": [
        {
          "output_type": "display_data",
          "data": {
            "image/png": "[encoded data removed]",
            "text/plain": [
              "<Figure size 432x288 with 1 Axes>"
            ]
          },
          "metadata": {
            "tags": [],
            "needs_background": "light"
          }
        },
        {
          "output_type": "display_data",
          "data": {
            "image/png": "[encoded data removed]",
            "text/plain": [
              "<Figure size 432x288 with 1 Axes>"
            ]
          },
          "metadata": {
            "tags": [],
            "needs_background": "light"
          }
        },
        {
          "output_type": "display_data",
          "data": {
            "image/png": "[encoded data removed]",
            "text/plain": [
              "<Figure size 432x288 with 1 Axes>"
            ]
          },
          "metadata": {
            "tags": [],
            "needs_background": "light"
          }
        }
      ]
    },
    {
      "cell_type": "markdown",
      "metadata": {
        "id": "NyAlrUozstuw"
      },
      "source": [
        "## **4. Feature Selection**"
      ]
    },
    {
      "cell_type": "markdown",
      "metadata": {
        "id": "eZ55tC65tAPm"
      },
      "source": [
        "**Numerical Features**"
      ]
    },
    {
      "cell_type": "code",
      "metadata": {
        "id": "Rhk9NHDQs01Z"
      },
      "source": [
        "#Importing required libraries\r\n",
        "from sklearn.feature_selection import SelectKBest\r\n",
        "from sklearn.feature_selection import f_classif\r\n",
        "from sklearn.feature_selection import mutual_info_classif"
      ],
      "execution_count": null,
      "outputs": []
    },
    {
      "cell_type": "code",
      "metadata": {
        "id": "Aqvy0ii1s0zg"
      },
      "source": [
        "# feature selection using ANOVA f-statistics for numerical features\r\n",
        "fs = SelectKBest(score_func=f_classif, k='all')"
      ],
      "execution_count": null,
      "outputs": []
    },
    {
      "cell_type": "code",
      "metadata": {
        "colab": {
          "base_uri": "https://localhost:8080/"
        },
        "id": "aTGTrwsGs0tv",
        "outputId": "ecdfa1e3-9e27-4bfa-d751-b9b16c268dd9"
      },
      "source": [
        "fs.fit_transform(dataset[numerical_features],dataset.iloc[:,-1])"
      ],
      "execution_count": null,
      "outputs": [
        {
          "output_type": "execute_result",
          "data": {
            "text/plain": [
              "array([[9.000e+00, 1.754e+03, 6.000e+00, ..., 1.010e+02, 3.000e+00,\n",
              "        2.000e+00],\n",
              "       [7.200e+01, 8.927e+03, 3.000e+00, ..., 3.300e+01, 2.000e+00,\n",
              "        2.000e+00],\n",
              "       [1.800e+01, 3.144e+03, 3.000e+00, ..., 7.400e+01, 2.000e+00,\n",
              "        3.000e+00],\n",
              "       ...,\n",
              "       [1.800e+01, 1.206e+03, 6.000e+00, ..., 5.700e+01, 2.000e+00,\n",
              "        2.000e+00],\n",
              "       [6.800e+01, 2.768e+03, 6.000e+00, ..., 3.500e+01, 2.000e+00,\n",
              "        2.000e+00],\n",
              "       [6.800e+01, 6.864e+03, 5.000e+00, ..., 4.100e+01, 2.000e+00,\n",
              "        2.000e+00]])"
            ]
          },
          "metadata": {
            "tags": []
          },
          "execution_count": 196
        }
      ]
    },
    {
      "cell_type": "code",
      "metadata": {
        "colab": {
          "base_uri": "https://localhost:8080/",
          "height": 442
        },
        "id": "5r8uonIOs0sI",
        "outputId": "14f4ca4b-ba28-41ae-d3f1-84379543862b"
      },
      "source": [
        "# what are scores for the features\r\n",
        "for i,feature in enumerate(numerical_features):\r\n",
        "  print('%s: %f' % (feature, fs.scores_[i]))\r\n",
        "# plot the scores\r\n",
        "fig = plt.figure(figsize = (10, 5)) \r\n",
        "plt.bar(numerical_features, fs.scores_, width=0.5)\r\n",
        "plt.show()"
      ],
      "execution_count": null,
      "outputs": [
        {
          "output_type": "stream",
          "text": [
            "duration: 47.872271\n",
            "amount: 22.512894\n",
            "inst_rate: 5.071929\n",
            "residing_since: 0.000019\n",
            "age: 8.297885\n",
            "num_credits: 2.001491\n",
            "dependents: 0.009071\n"
          ],
          "name": "stdout"
        },
        {
          "output_type": "display_data",
          "data": {
            "image/png": "[encoded data removed]",
            "text/plain": [
              "<Figure size 720x360 with 1 Axes>"
            ]
          },
          "metadata": {
            "tags": [],
            "needs_background": "light"
          }
        }
      ]
    },
    {
      "cell_type": "code",
      "metadata": {
        "colab": {
          "base_uri": "https://localhost:8080/"
        },
        "id": "1GZi3pUds0hL",
        "outputId": "485127fd-8032-4073-f618-b327e910d1a6"
      },
      "source": [
        "# Selecting features having highest scores\r\n",
        "numerical_features_sel = [feature for i,feature in enumerate(numerical_features) if fs.scores_[i]!=0 or fs.scores_[i]>0]\r\n",
        "numerical_features_sel"
      ],
      "execution_count": null,
      "outputs": [
        {
          "output_type": "execute_result",
          "data": {
            "text/plain": [
              "['duration',\n",
              " 'amount',\n",
              " 'inst_rate',\n",
              " 'residing_since',\n",
              " 'age',\n",
              " 'num_credits',\n",
              " 'dependents']"
            ]
          },
          "metadata": {
            "tags": []
          },
          "execution_count": 198
        }
      ]
    },
    {
      "cell_type": "markdown",
      "metadata": {
        "id": "O8VvN-VvuAIH"
      },
      "source": [
        "**Categorical features**"
      ]
    },
    {
      "cell_type": "code",
      "metadata": {
        "id": "A1Xnr6MquElV"
      },
      "source": [
        "# fetaure selection using mutual information fetaure selection for categorical feature\r\n",
        "fs = SelectKBest(score_func=mutual_info_classif, k='all')"
      ],
      "execution_count": null,
      "outputs": []
    },
    {
      "cell_type": "code",
      "metadata": {
        "colab": {
          "base_uri": "https://localhost:8080/"
        },
        "id": "LtraFb8nuExC",
        "outputId": "36f7dd8f-2186-46b2-bca8-3f71477403b8"
      },
      "source": [
        "fs.fit_transform(dataset[categorical_features],dataset.iloc[:,-1])"
      ],
      "execution_count": null,
      "outputs": [
        {
          "output_type": "execute_result",
          "data": {
            "text/plain": [
              "array([[0., 4., 4., ..., 2., 1., 0.],\n",
              "       [1., 2., 4., ..., 2., 0., 0.],\n",
              "       [3., 4., 7., ..., 1., 0., 0.],\n",
              "       ...,\n",
              "       [3., 2., 4., ..., 2., 0., 0.],\n",
              "       [0., 2., 4., ..., 2., 1., 0.],\n",
              "       [1., 4., 1., ..., 2., 0., 0.]])"
            ]
          },
          "metadata": {
            "tags": []
          },
          "execution_count": 200
        }
      ]
    },
    {
      "cell_type": "code",
      "metadata": {
        "colab": {
          "base_uri": "https://localhost:8080/",
          "height": 536
        },
        "id": "vnIZqqdsuONI",
        "outputId": "5d2461a0-95c5-4b5f-fe1b-2f16840f801f"
      },
      "source": [
        "# what are scores for the features\r\n",
        "for i,feature in enumerate(categorical_features):\r\n",
        "  print('%s: %f' % (feature, fs.scores_[i]))\r\n",
        "# plot the scores\r\n",
        "fig = plt.figure(figsize = (22, 5)) \r\n",
        "plt.bar(categorical_features, fs.scores_, width=0.5)\r\n",
        "plt.show()"
      ],
      "execution_count": null,
      "outputs": [
        {
          "output_type": "stream",
          "text": [
            "checkin_acc: 0.080852\n",
            "credit_history: 0.034904\n",
            "purpose: 0.022457\n",
            "svaing_acc: 0.008907\n",
            "present_emp_since: 0.023284\n",
            "personal_status: 0.000000\n",
            "other_debtors: 0.023928\n",
            "property: 0.013993\n",
            "inst_plans: 0.016831\n",
            "housing: 0.010386\n",
            "job: 0.000000\n",
            "telephone: 0.000000\n",
            "foreign_worker: 0.002860\n"
          ],
          "name": "stdout"
        },
        {
          "output_type": "display_data",
          "data": {
            "image/png": "[encoded data removed]",
            "text/plain": [
              "<Figure size 1584x360 with 1 Axes>"
            ]
          },
          "metadata": {
            "tags": [],
            "needs_background": "light"
          }
        }
      ]
    },
    {
      "cell_type": "code",
      "metadata": {
        "colab": {
          "base_uri": "https://localhost:8080/"
        },
        "id": "XA44loluuR9q",
        "outputId": "f5fb8935-9b40-476b-bfe8-f6744263b888"
      },
      "source": [
        "# Selecting final categorical features having highest score\r\n",
        "categorical_features_sel = [feature for i,feature in enumerate(categorical_features) if fs.scores_[i]!=0 or fs.scores_[i]>0]\r\n",
        "categorical_features_sel"
      ],
      "execution_count": null,
      "outputs": [
        {
          "output_type": "execute_result",
          "data": {
            "text/plain": [
              "['checkin_acc',\n",
              " 'credit_history',\n",
              " 'purpose',\n",
              " 'svaing_acc',\n",
              " 'present_emp_since',\n",
              " 'other_debtors',\n",
              " 'property',\n",
              " 'inst_plans',\n",
              " 'housing',\n",
              " 'foreign_worker']"
            ]
          },
          "metadata": {
            "tags": []
          },
          "execution_count": 202
        }
      ]
    },
    {
      "cell_type": "markdown",
      "metadata": {
        "id": "h7PFeCh3_yoz"
      },
      "source": [
        "## **5. Data Transformation**"
      ]
    },
    {
      "cell_type": "markdown",
      "metadata": {
        "id": "XMzIKgyYA8Uj"
      },
      "source": [
        "**Numerical Features**"
      ]
    },
    {
      "cell_type": "code",
      "metadata": {
        "id": "t3CSxcjMAKQD"
      },
      "source": [
        "# Selecting numerical features which are having more than 4 unique classes and also highest scores\r\n",
        "continuous_feature = [feature for feature, count in (dataset[numerical_features_sel].nunique()).iteritems() if count>4]"
      ],
      "execution_count": null,
      "outputs": []
    },
    {
      "cell_type": "code",
      "metadata": {
        "id": "LmFKRIQIAKJq"
      },
      "source": [
        "# Creating a function to plot graph\r\n",
        "def plot_data(df,feature):\r\n",
        "    plt.figure(figsize=(10,6))\r\n",
        "    plt.subplot(1,2,1)\r\n",
        "    df[feature].hist()\r\n",
        "    plt.title(feature)\r\n",
        "    plt.subplot(1,2,2)\r\n",
        "    stat.probplot(df[feature],dist='norm',plot=pylab)\r\n",
        "    plt.show()"
      ],
      "execution_count": null,
      "outputs": []
    },
    {
      "cell_type": "code",
      "metadata": {
        "colab": {
          "base_uri": "https://localhost:8080/",
          "height": 1000
        },
        "id": "LndthGBrAKDZ",
        "outputId": "b4d96afb-fb8b-4a9f-fb51-a51fd3f0ca0d"
      },
      "source": [
        "# Ploting selected numerical features to check the distribution of data\r\n",
        "for feature in continuous_feature:\r\n",
        "  plot_data(dataset,feature)"
      ],
      "execution_count": null,
      "outputs": [
        {
          "output_type": "display_data",
          "data": {
            "image/png": "[encoded data removed]",
            "text/plain": [
              "<Figure size 720x432 with 2 Axes>"
            ]
          },
          "metadata": {
            "tags": [],
            "needs_background": "light"
          }
        },
        {
          "output_type": "display_data",
          "data": {
            "image/png": "[encoded data removed]",
            "text/plain": [
              "<Figure size 720x432 with 2 Axes>"
            ]
          },
          "metadata": {
            "tags": [],
            "needs_background": "light"
          }
        },
        {
          "output_type": "display_data",
          "data": {
            "image/png": "[encoded data removed]",
            "text/plain": [
              "<Figure size 720x432 with 2 Axes>"
            ]
          },
          "metadata": {
            "tags": [],
            "needs_background": "light"
          }
        }
      ]
    },
    {
      "cell_type": "code",
      "metadata": {
        "colab": {
          "base_uri": "https://localhost:8080/"
        },
        "id": "r9PdoslFAJ5s",
        "outputId": "375ddebc-4ec6-4021-cb71-9910e8cb654e"
      },
      "source": [
        "#Checking skewness of distribution\r\n",
        "dataset[continuous_feature].skew()"
      ],
      "execution_count": null,
      "outputs": [
        {
          "output_type": "execute_result",
          "data": {
            "text/plain": [
              "duration    1.067077\n",
              "amount      1.586175\n",
              "age         1.020162\n",
              "dtype: float64"
            ]
          },
          "metadata": {
            "tags": []
          },
          "execution_count": 206
        }
      ]
    },
    {
      "cell_type": "code",
      "metadata": {
        "colab": {
          "base_uri": "https://localhost:8080/",
          "height": 1000
        },
        "id": "G7D7Vq0vBnrE",
        "outputId": "1adf35ea-0e00-4459-b8b2-cd5a6aff61e2"
      },
      "source": [
        "#Applying Boxcox transformation to make our data Normally Distributed and then plotting again\r\n",
        "for feature in continuous_feature:\r\n",
        "  dataset[feature + '_Boxcox'], parameters = stat.boxcox(dataset[feature]+1)\r\n",
        "  plot_data(dataset,feature + '_Boxcox')"
      ],
      "execution_count": null,
      "outputs": [
        {
          "output_type": "display_data",
          "data": {
            "image/png": "[encoded data removed]",
            "text/plain": [
              "<Figure size 720x432 with 2 Axes>"
            ]
          },
          "metadata": {
            "tags": [],
            "needs_background": "light"
          }
        },
        {
          "output_type": "display_data",
          "data": {
            "image/png": "[encoded data removed]",
            "text/plain": [
              "<Figure size 720x432 with 2 Axes>"
            ]
          },
          "metadata": {
            "tags": [],
            "needs_background": "light"
          }
        },
        {
          "output_type": "display_data",
          "data": {
            "image/png": "[encoded data removed]",
            "text/plain": [
              "<Figure size 720x432 with 2 Axes>"
            ]
          },
          "metadata": {
            "tags": [],
            "needs_background": "light"
          }
        }
      ]
    },
    {
      "cell_type": "code",
      "metadata": {
        "colab": {
          "base_uri": "https://localhost:8080/"
        },
        "id": "S3LZo7rvBnkb",
        "outputId": "eb10eb0a-0ea6-42e0-f38e-5ff574fdc10e"
      },
      "source": [
        "dataset.skew()[21:]"
      ],
      "execution_count": null,
      "outputs": [
        {
          "output_type": "execute_result",
          "data": {
            "text/plain": [
              "duration_Boxcox   -0.006891\n",
              "amount_Boxcox      0.004286\n",
              "age_Boxcox         0.055385\n",
              "dtype: float64"
            ]
          },
          "metadata": {
            "tags": []
          },
          "execution_count": 208
        }
      ]
    },
    {
      "cell_type": "code",
      "metadata": {
        "colab": {
          "base_uri": "https://localhost:8080/",
          "height": 224
        },
        "id": "ATCTqUJ-BniW",
        "outputId": "588d39fc-fa3b-4de3-cb32-af80abf14eca"
      },
      "source": [
        "dataset.head()"
      ],
      "execution_count": null,
      "outputs": [
        {
          "output_type": "execute_result",
          "data": {
            "text/html": [
              "<div>\n",
              "<style scoped>\n",
              "    .dataframe tbody tr th:only-of-type {\n",
              "        vertical-align: middle;\n",
              "    }\n",
              "\n",
              "    .dataframe tbody tr th {\n",
              "        vertical-align: top;\n",
              "    }\n",
              "\n",
              "    .dataframe thead th {\n",
              "        text-align: right;\n",
              "    }\n",
              "</style>\n",
              "<table border=\"1\" class=\"dataframe\">\n",
              "  <thead>\n",
              "    <tr style=\"text-align: right;\">\n",
              "      <th></th>\n",
              "      <th>checkin_acc</th>\n",
              "      <th>duration</th>\n",
              "      <th>credit_history</th>\n",
              "      <th>purpose</th>\n",
              "      <th>amount</th>\n",
              "      <th>svaing_acc</th>\n",
              "      <th>present_emp_since</th>\n",
              "      <th>inst_rate</th>\n",
              "      <th>personal_status</th>\n",
              "      <th>other_debtors</th>\n",
              "      <th>residing_since</th>\n",
              "      <th>property</th>\n",
              "      <th>age</th>\n",
              "      <th>inst_plans</th>\n",
              "      <th>housing</th>\n",
              "      <th>num_credits</th>\n",
              "      <th>job</th>\n",
              "      <th>dependents</th>\n",
              "      <th>telephone</th>\n",
              "      <th>foreign_worker</th>\n",
              "      <th>status</th>\n",
              "      <th>duration_Boxcox</th>\n",
              "      <th>amount_Boxcox</th>\n",
              "      <th>age_Boxcox</th>\n",
              "    </tr>\n",
              "  </thead>\n",
              "  <tbody>\n",
              "    <tr>\n",
              "      <th>0</th>\n",
              "      <td>0.0</td>\n",
              "      <td>9.0</td>\n",
              "      <td>4.0</td>\n",
              "      <td>4.0</td>\n",
              "      <td>1754.0</td>\n",
              "      <td>4.0</td>\n",
              "      <td>4.0</td>\n",
              "      <td>6</td>\n",
              "      <td>2.0</td>\n",
              "      <td>0.0</td>\n",
              "      <td>6</td>\n",
              "      <td>0.0</td>\n",
              "      <td>101.0</td>\n",
              "      <td>2.0</td>\n",
              "      <td>1.0</td>\n",
              "      <td>3</td>\n",
              "      <td>2.0</td>\n",
              "      <td>2</td>\n",
              "      <td>1.0</td>\n",
              "      <td>0.0</td>\n",
              "      <td>1</td>\n",
              "      <td>2.484065</td>\n",
              "      <td>6.455923</td>\n",
              "      <td>1.387732</td>\n",
              "    </tr>\n",
              "    <tr>\n",
              "      <th>1</th>\n",
              "      <td>1.0</td>\n",
              "      <td>72.0</td>\n",
              "      <td>2.0</td>\n",
              "      <td>4.0</td>\n",
              "      <td>8927.0</td>\n",
              "      <td>0.0</td>\n",
              "      <td>2.0</td>\n",
              "      <td>3</td>\n",
              "      <td>1.0</td>\n",
              "      <td>0.0</td>\n",
              "      <td>3</td>\n",
              "      <td>0.0</td>\n",
              "      <td>33.0</td>\n",
              "      <td>2.0</td>\n",
              "      <td>1.0</td>\n",
              "      <td>2</td>\n",
              "      <td>2.0</td>\n",
              "      <td>2</td>\n",
              "      <td>0.0</td>\n",
              "      <td>0.0</td>\n",
              "      <td>2</td>\n",
              "      <td>4.949350</td>\n",
              "      <td>7.623395</td>\n",
              "      <td>1.320448</td>\n",
              "    </tr>\n",
              "    <tr>\n",
              "      <th>2</th>\n",
              "      <td>3.0</td>\n",
              "      <td>18.0</td>\n",
              "      <td>4.0</td>\n",
              "      <td>7.0</td>\n",
              "      <td>3144.0</td>\n",
              "      <td>0.0</td>\n",
              "      <td>3.0</td>\n",
              "      <td>3</td>\n",
              "      <td>2.0</td>\n",
              "      <td>0.0</td>\n",
              "      <td>5</td>\n",
              "      <td>0.0</td>\n",
              "      <td>74.0</td>\n",
              "      <td>2.0</td>\n",
              "      <td>1.0</td>\n",
              "      <td>2</td>\n",
              "      <td>1.0</td>\n",
              "      <td>3</td>\n",
              "      <td>0.0</td>\n",
              "      <td>0.0</td>\n",
              "      <td>1</td>\n",
              "      <td>3.245479</td>\n",
              "      <td>6.883357</td>\n",
              "      <td>1.373717</td>\n",
              "    </tr>\n",
              "    <tr>\n",
              "      <th>3</th>\n",
              "      <td>0.0</td>\n",
              "      <td>63.0</td>\n",
              "      <td>2.0</td>\n",
              "      <td>3.0</td>\n",
              "      <td>11823.0</td>\n",
              "      <td>0.0</td>\n",
              "      <td>3.0</td>\n",
              "      <td>3</td>\n",
              "      <td>2.0</td>\n",
              "      <td>2.0</td>\n",
              "      <td>6</td>\n",
              "      <td>1.0</td>\n",
              "      <td>68.0</td>\n",
              "      <td>2.0</td>\n",
              "      <td>2.0</td>\n",
              "      <td>2</td>\n",
              "      <td>2.0</td>\n",
              "      <td>3</td>\n",
              "      <td>0.0</td>\n",
              "      <td>0.0</td>\n",
              "      <td>1</td>\n",
              "      <td>4.776134</td>\n",
              "      <td>7.817427</td>\n",
              "      <td>1.369374</td>\n",
              "    </tr>\n",
              "    <tr>\n",
              "      <th>4</th>\n",
              "      <td>0.0</td>\n",
              "      <td>36.0</td>\n",
              "      <td>3.0</td>\n",
              "      <td>0.0</td>\n",
              "      <td>7305.0</td>\n",
              "      <td>0.0</td>\n",
              "      <td>2.0</td>\n",
              "      <td>5</td>\n",
              "      <td>2.0</td>\n",
              "      <td>0.0</td>\n",
              "      <td>6</td>\n",
              "      <td>3.0</td>\n",
              "      <td>80.0</td>\n",
              "      <td>2.0</td>\n",
              "      <td>2.0</td>\n",
              "      <td>3</td>\n",
              "      <td>2.0</td>\n",
              "      <td>3</td>\n",
              "      <td>0.0</td>\n",
              "      <td>0.0</td>\n",
              "      <td>2</td>\n",
              "      <td>4.070496</td>\n",
              "      <td>7.483580</td>\n",
              "      <td>1.377509</td>\n",
              "    </tr>\n",
              "  </tbody>\n",
              "</table>\n",
              "</div>"
            ],
            "text/plain": [
              "   checkin_acc  duration  credit_history  purpose   amount  svaing_acc  \\\n",
              "0          0.0       9.0             4.0      4.0   1754.0         4.0   \n",
              "1          1.0      72.0             2.0      4.0   8927.0         0.0   \n",
              "2          3.0      18.0             4.0      7.0   3144.0         0.0   \n",
              "3          0.0      63.0             2.0      3.0  11823.0         0.0   \n",
              "4          0.0      36.0             3.0      0.0   7305.0         0.0   \n",
              "\n",
              "   present_emp_since  inst_rate  personal_status  other_debtors  \\\n",
              "0                4.0          6              2.0            0.0   \n",
              "1                2.0          3              1.0            0.0   \n",
              "2                3.0          3              2.0            0.0   \n",
              "3                3.0          3              2.0            2.0   \n",
              "4                2.0          5              2.0            0.0   \n",
              "\n",
              "   residing_since  property    age  inst_plans  housing  num_credits  job  \\\n",
              "0               6       0.0  101.0         2.0      1.0            3  2.0   \n",
              "1               3       0.0   33.0         2.0      1.0            2  2.0   \n",
              "2               5       0.0   74.0         2.0      1.0            2  1.0   \n",
              "3               6       1.0   68.0         2.0      2.0            2  2.0   \n",
              "4               6       3.0   80.0         2.0      2.0            3  2.0   \n",
              "\n",
              "   dependents  telephone  foreign_worker  status  duration_Boxcox  \\\n",
              "0           2        1.0             0.0       1         2.484065   \n",
              "1           2        0.0             0.0       2         4.949350   \n",
              "2           3        0.0             0.0       1         3.245479   \n",
              "3           3        0.0             0.0       1         4.776134   \n",
              "4           3        0.0             0.0       2         4.070496   \n",
              "\n",
              "   amount_Boxcox  age_Boxcox  \n",
              "0       6.455923    1.387732  \n",
              "1       7.623395    1.320448  \n",
              "2       6.883357    1.373717  \n",
              "3       7.817427    1.369374  \n",
              "4       7.483580    1.377509  "
            ]
          },
          "metadata": {
            "tags": []
          },
          "execution_count": 209
        }
      ]
    },
    {
      "cell_type": "markdown",
      "metadata": {
        "id": "xnu0k2JWGD3n"
      },
      "source": [
        "**Categorical Features**"
      ]
    },
    {
      "cell_type": "code",
      "metadata": {
        "id": "HQ5uwfzVBndJ"
      },
      "source": [
        "# Selecting Categorical features \r\n",
        "categorical_features_Sel2 =[feature for feature in categorical_features_sel+numerical_features_sel if feature not in continuous_feature]"
      ],
      "execution_count": null,
      "outputs": []
    },
    {
      "cell_type": "code",
      "metadata": {
        "colab": {
          "base_uri": "https://localhost:8080/",
          "height": 1000
        },
        "id": "vl-ETZWkBnbi",
        "outputId": "6e458fc7-3d72-47ec-cbe0-33b0ddc0b1c6"
      },
      "source": [
        "# Visualizing categorical data having each unique features count of final outcome\r\n",
        "for feature in categorical_features_Sel2:\r\n",
        "  data = dataset.copy()\r\n",
        "  pd.crosstab(data[feature],data.status).plot.bar()\r\n",
        "  plt.show()"
      ],
      "execution_count": null,
      "outputs": [
        {
          "output_type": "display_data",
          "data": {
            "image/png": "[encoded data removed]",
            "text/plain": [
              "<Figure size 432x288 with 1 Axes>"
            ]
          },
          "metadata": {
            "tags": [],
            "needs_background": "light"
          }
        },
        {
          "output_type": "display_data",
          "data": {
            "image/png": "[encoded data removed]",
            "text/plain": [
              "<Figure size 432x288 with 1 Axes>"
            ]
          },
          "metadata": {
            "tags": [],
            "needs_background": "light"
          }
        },
        {
          "output_type": "display_data",
          "data": {
            "image/png": "[encoded data removed]",
            "text/plain": [
              "<Figure size 432x288 with 1 Axes>"
            ]
          },
          "metadata": {
            "tags": [],
            "needs_background": "light"
          }
        },
        {
          "output_type": "display_data",
          "data": {
            "image/png": "[encoded data removed]",
            "text/plain": [
              "<Figure size 432x288 with 1 Axes>"
            ]
          },
          "metadata": {
            "tags": [],
            "needs_background": "light"
          }
        },
        {
          "output_type": "display_data",
          "data": {
            "image/png": "[encoded data removed]",
            "text/plain": [
              "<Figure size 432x288 with 1 Axes>"
            ]
          },
          "metadata": {
            "tags": [],
            "needs_background": "light"
          }
        },
        {
          "output_type": "display_data",
          "data": {
            "image/png": "[encoded data removed]",
            "text/plain": [
              "<Figure size 432x288 with 1 Axes>"
            ]
          },
          "metadata": {
            "tags": [],
            "needs_background": "light"
          }
        },
        {
          "output_type": "display_data",
          "data": {
            "image/png": "[encoded data removed]",
            "text/plain": [
              "<Figure size 432x288 with 1 Axes>"
            ]
          },
          "metadata": {
            "tags": [],
            "needs_background": "light"
          }
        },
        {
          "output_type": "display_data",
          "data": {
            "image/png": "[encoded data removed]",
            "text/plain": [
              "<Figure size 432x288 with 1 Axes>"
            ]
          },
          "metadata": {
            "tags": [],
            "needs_background": "light"
          }
        },
        {
          "output_type": "display_data",
          "data": {
            "image/png": "[encoded data removed]",
            "text/plain": [
              "<Figure size 432x288 with 1 Axes>"
            ]
          },
          "metadata": {
            "tags": [],
            "needs_background": "light"
          }
        },
        {
          "output_type": "display_data",
          "data": {
            "image/png": "[encoded data removed]",
            "text/plain": [
              "<Figure size 432x288 with 1 Axes>"
            ]
          },
          "metadata": {
            "tags": [],
            "needs_background": "light"
          }
        },
        {
          "output_type": "display_data",
          "data": {
            "image/png": "[encoded data removed]",
            "text/plain": [
              "<Figure size 432x288 with 1 Axes>"
            ]
          },
          "metadata": {
            "tags": [],
            "needs_background": "light"
          }
        },
        {
          "output_type": "display_data",
          "data": {
            "image/png": "[encoded data removed]",
            "text/plain": [
              "<Figure size 432x288 with 1 Axes>"
            ]
          },
          "metadata": {
            "tags": [],
            "needs_background": "light"
          }
        },
        {
          "output_type": "display_data",
          "data": {
            "image/png": "[encoded data removed]",
            "text/plain": [
              "<Figure size 432x288 with 1 Axes>"
            ]
          },
          "metadata": {
            "tags": [],
            "needs_background": "light"
          }
        },
        {
          "output_type": "display_data",
          "data": {
            "image/png": "[encoded data removed]",
            "text/plain": [
              "<Figure size 432x288 with 1 Axes>"
            ]
          },
          "metadata": {
            "tags": [],
            "needs_background": "light"
          }
        }
      ]
    },
    {
      "cell_type": "code",
      "metadata": {
        "id": "3hZZPCAZJs4k"
      },
      "source": [
        "#Performing Binary Encoding with categorical data\r\n",
        "for feature in categorical_features_Sel2:\r\n",
        "  ccategoryData = dataset[feature].value_counts()\r\n",
        "  for categories in ccategoryData.index:\r\n",
        "    if ccategoryData[categories]>10:\r\n",
        "      dataset[feature+'-'+ str(categories)]=np.where(dataset[feature]==categories,1,0)"
      ],
      "execution_count": null,
      "outputs": []
    },
    {
      "cell_type": "code",
      "metadata": {
        "colab": {
          "base_uri": "https://localhost:8080/",
          "height": 241
        },
        "id": "TSNSm3rLInHo",
        "outputId": "82ed52fe-e6a8-4fe1-9c9d-a9fd1c192dfc"
      },
      "source": [
        "#visualizing top data after Binary Encoding\r\n",
        "dataset.head()"
      ],
      "execution_count": null,
      "outputs": [
        {
          "output_type": "execute_result",
          "data": {
            "text/html": [
              "<div>\n",
              "<style scoped>\n",
              "    .dataframe tbody tr th:only-of-type {\n",
              "        vertical-align: middle;\n",
              "    }\n",
              "\n",
              "    .dataframe tbody tr th {\n",
              "        vertical-align: top;\n",
              "    }\n",
              "\n",
              "    .dataframe thead th {\n",
              "        text-align: right;\n",
              "    }\n",
              "</style>\n",
              "<table border=\"1\" class=\"dataframe\">\n",
              "  <thead>\n",
              "    <tr style=\"text-align: right;\">\n",
              "      <th></th>\n",
              "      <th>checkin_acc</th>\n",
              "      <th>duration</th>\n",
              "      <th>credit_history</th>\n",
              "      <th>purpose</th>\n",
              "      <th>amount</th>\n",
              "      <th>svaing_acc</th>\n",
              "      <th>present_emp_since</th>\n",
              "      <th>inst_rate</th>\n",
              "      <th>personal_status</th>\n",
              "      <th>other_debtors</th>\n",
              "      <th>residing_since</th>\n",
              "      <th>property</th>\n",
              "      <th>age</th>\n",
              "      <th>inst_plans</th>\n",
              "      <th>housing</th>\n",
              "      <th>num_credits</th>\n",
              "      <th>job</th>\n",
              "      <th>dependents</th>\n",
              "      <th>telephone</th>\n",
              "      <th>foreign_worker</th>\n",
              "      <th>status</th>\n",
              "      <th>duration_Boxcox</th>\n",
              "      <th>amount_Boxcox</th>\n",
              "      <th>age_Boxcox</th>\n",
              "      <th>checkin_acc-3.0</th>\n",
              "      <th>checkin_acc-0.0</th>\n",
              "      <th>checkin_acc-1.0</th>\n",
              "      <th>checkin_acc-2.0</th>\n",
              "      <th>credit_history-2.0</th>\n",
              "      <th>credit_history-4.0</th>\n",
              "      <th>credit_history-3.0</th>\n",
              "      <th>credit_history-1.0</th>\n",
              "      <th>credit_history-0.0</th>\n",
              "      <th>purpose-4.0</th>\n",
              "      <th>purpose-0.0</th>\n",
              "      <th>purpose-3.0</th>\n",
              "      <th>purpose-1.0</th>\n",
              "      <th>purpose-9.0</th>\n",
              "      <th>purpose-7.0</th>\n",
              "      <th>purpose-6.0</th>\n",
              "      <th>purpose-2.0</th>\n",
              "      <th>purpose-5.0</th>\n",
              "      <th>svaing_acc-0.0</th>\n",
              "      <th>svaing_acc-4.0</th>\n",
              "      <th>svaing_acc-1.0</th>\n",
              "      <th>svaing_acc-2.0</th>\n",
              "      <th>svaing_acc-3.0</th>\n",
              "      <th>present_emp_since-2.0</th>\n",
              "      <th>present_emp_since-4.0</th>\n",
              "      <th>present_emp_since-3.0</th>\n",
              "      <th>present_emp_since-1.0</th>\n",
              "      <th>present_emp_since-0.0</th>\n",
              "      <th>other_debtors-0.0</th>\n",
              "      <th>other_debtors-2.0</th>\n",
              "      <th>other_debtors-1.0</th>\n",
              "      <th>property-2.0</th>\n",
              "      <th>property-0.0</th>\n",
              "      <th>property-1.0</th>\n",
              "      <th>property-3.0</th>\n",
              "      <th>inst_plans-2.0</th>\n",
              "      <th>inst_plans-0.0</th>\n",
              "      <th>inst_plans-1.0</th>\n",
              "      <th>housing-1.0</th>\n",
              "      <th>housing-0.0</th>\n",
              "      <th>housing-2.0</th>\n",
              "      <th>foreign_worker-0.0</th>\n",
              "      <th>foreign_worker-1.0</th>\n",
              "      <th>inst_rate-6</th>\n",
              "      <th>inst_rate-3</th>\n",
              "      <th>inst_rate-5</th>\n",
              "      <th>inst_rate-2</th>\n",
              "      <th>residing_since-6</th>\n",
              "      <th>residing_since-3</th>\n",
              "      <th>residing_since-5</th>\n",
              "      <th>residing_since-2</th>\n",
              "      <th>num_credits-2</th>\n",
              "      <th>num_credits-3</th>\n",
              "      <th>num_credits-5</th>\n",
              "      <th>dependents-2</th>\n",
              "      <th>dependents-3</th>\n",
              "    </tr>\n",
              "  </thead>\n",
              "  <tbody>\n",
              "    <tr>\n",
              "      <th>0</th>\n",
              "      <td>0.0</td>\n",
              "      <td>9.0</td>\n",
              "      <td>4.0</td>\n",
              "      <td>4.0</td>\n",
              "      <td>1754.0</td>\n",
              "      <td>4.0</td>\n",
              "      <td>4.0</td>\n",
              "      <td>6</td>\n",
              "      <td>2.0</td>\n",
              "      <td>0.0</td>\n",
              "      <td>6</td>\n",
              "      <td>0.0</td>\n",
              "      <td>101.0</td>\n",
              "      <td>2.0</td>\n",
              "      <td>1.0</td>\n",
              "      <td>3</td>\n",
              "      <td>2.0</td>\n",
              "      <td>2</td>\n",
              "      <td>1.0</td>\n",
              "      <td>0.0</td>\n",
              "      <td>1</td>\n",
              "      <td>2.484065</td>\n",
              "      <td>6.455923</td>\n",
              "      <td>1.387732</td>\n",
              "      <td>0</td>\n",
              "      <td>1</td>\n",
              "      <td>0</td>\n",
              "      <td>0</td>\n",
              "      <td>0</td>\n",
              "      <td>1</td>\n",
              "      <td>0</td>\n",
              "      <td>0</td>\n",
              "      <td>0</td>\n",
              "      <td>1</td>\n",
              "      <td>0</td>\n",
              "      <td>0</td>\n",
              "      <td>0</td>\n",
              "      <td>0</td>\n",
              "      <td>0</td>\n",
              "      <td>0</td>\n",
              "      <td>0</td>\n",
              "      <td>0</td>\n",
              "      <td>0</td>\n",
              "      <td>1</td>\n",
              "      <td>0</td>\n",
              "      <td>0</td>\n",
              "      <td>0</td>\n",
              "      <td>0</td>\n",
              "      <td>1</td>\n",
              "      <td>0</td>\n",
              "      <td>0</td>\n",
              "      <td>0</td>\n",
              "      <td>1</td>\n",
              "      <td>0</td>\n",
              "      <td>0</td>\n",
              "      <td>0</td>\n",
              "      <td>1</td>\n",
              "      <td>0</td>\n",
              "      <td>0</td>\n",
              "      <td>1</td>\n",
              "      <td>0</td>\n",
              "      <td>0</td>\n",
              "      <td>1</td>\n",
              "      <td>0</td>\n",
              "      <td>0</td>\n",
              "      <td>1</td>\n",
              "      <td>0</td>\n",
              "      <td>1</td>\n",
              "      <td>0</td>\n",
              "      <td>0</td>\n",
              "      <td>0</td>\n",
              "      <td>1</td>\n",
              "      <td>0</td>\n",
              "      <td>0</td>\n",
              "      <td>0</td>\n",
              "      <td>0</td>\n",
              "      <td>1</td>\n",
              "      <td>0</td>\n",
              "      <td>1</td>\n",
              "      <td>0</td>\n",
              "    </tr>\n",
              "    <tr>\n",
              "      <th>1</th>\n",
              "      <td>1.0</td>\n",
              "      <td>72.0</td>\n",
              "      <td>2.0</td>\n",
              "      <td>4.0</td>\n",
              "      <td>8927.0</td>\n",
              "      <td>0.0</td>\n",
              "      <td>2.0</td>\n",
              "      <td>3</td>\n",
              "      <td>1.0</td>\n",
              "      <td>0.0</td>\n",
              "      <td>3</td>\n",
              "      <td>0.0</td>\n",
              "      <td>33.0</td>\n",
              "      <td>2.0</td>\n",
              "      <td>1.0</td>\n",
              "      <td>2</td>\n",
              "      <td>2.0</td>\n",
              "      <td>2</td>\n",
              "      <td>0.0</td>\n",
              "      <td>0.0</td>\n",
              "      <td>2</td>\n",
              "      <td>4.949350</td>\n",
              "      <td>7.623395</td>\n",
              "      <td>1.320448</td>\n",
              "      <td>0</td>\n",
              "      <td>0</td>\n",
              "      <td>1</td>\n",
              "      <td>0</td>\n",
              "      <td>1</td>\n",
              "      <td>0</td>\n",
              "      <td>0</td>\n",
              "      <td>0</td>\n",
              "      <td>0</td>\n",
              "      <td>1</td>\n",
              "      <td>0</td>\n",
              "      <td>0</td>\n",
              "      <td>0</td>\n",
              "      <td>0</td>\n",
              "      <td>0</td>\n",
              "      <td>0</td>\n",
              "      <td>0</td>\n",
              "      <td>0</td>\n",
              "      <td>1</td>\n",
              "      <td>0</td>\n",
              "      <td>0</td>\n",
              "      <td>0</td>\n",
              "      <td>0</td>\n",
              "      <td>1</td>\n",
              "      <td>0</td>\n",
              "      <td>0</td>\n",
              "      <td>0</td>\n",
              "      <td>0</td>\n",
              "      <td>1</td>\n",
              "      <td>0</td>\n",
              "      <td>0</td>\n",
              "      <td>0</td>\n",
              "      <td>1</td>\n",
              "      <td>0</td>\n",
              "      <td>0</td>\n",
              "      <td>1</td>\n",
              "      <td>0</td>\n",
              "      <td>0</td>\n",
              "      <td>1</td>\n",
              "      <td>0</td>\n",
              "      <td>0</td>\n",
              "      <td>1</td>\n",
              "      <td>0</td>\n",
              "      <td>0</td>\n",
              "      <td>1</td>\n",
              "      <td>0</td>\n",
              "      <td>0</td>\n",
              "      <td>0</td>\n",
              "      <td>1</td>\n",
              "      <td>0</td>\n",
              "      <td>0</td>\n",
              "      <td>1</td>\n",
              "      <td>0</td>\n",
              "      <td>0</td>\n",
              "      <td>1</td>\n",
              "      <td>0</td>\n",
              "    </tr>\n",
              "    <tr>\n",
              "      <th>2</th>\n",
              "      <td>3.0</td>\n",
              "      <td>18.0</td>\n",
              "      <td>4.0</td>\n",
              "      <td>7.0</td>\n",
              "      <td>3144.0</td>\n",
              "      <td>0.0</td>\n",
              "      <td>3.0</td>\n",
              "      <td>3</td>\n",
              "      <td>2.0</td>\n",
              "      <td>0.0</td>\n",
              "      <td>5</td>\n",
              "      <td>0.0</td>\n",
              "      <td>74.0</td>\n",
              "      <td>2.0</td>\n",
              "      <td>1.0</td>\n",
              "      <td>2</td>\n",
              "      <td>1.0</td>\n",
              "      <td>3</td>\n",
              "      <td>0.0</td>\n",
              "      <td>0.0</td>\n",
              "      <td>1</td>\n",
              "      <td>3.245479</td>\n",
              "      <td>6.883357</td>\n",
              "      <td>1.373717</td>\n",
              "      <td>1</td>\n",
              "      <td>0</td>\n",
              "      <td>0</td>\n",
              "      <td>0</td>\n",
              "      <td>0</td>\n",
              "      <td>1</td>\n",
              "      <td>0</td>\n",
              "      <td>0</td>\n",
              "      <td>0</td>\n",
              "      <td>0</td>\n",
              "      <td>0</td>\n",
              "      <td>0</td>\n",
              "      <td>0</td>\n",
              "      <td>0</td>\n",
              "      <td>1</td>\n",
              "      <td>0</td>\n",
              "      <td>0</td>\n",
              "      <td>0</td>\n",
              "      <td>1</td>\n",
              "      <td>0</td>\n",
              "      <td>0</td>\n",
              "      <td>0</td>\n",
              "      <td>0</td>\n",
              "      <td>0</td>\n",
              "      <td>0</td>\n",
              "      <td>1</td>\n",
              "      <td>0</td>\n",
              "      <td>0</td>\n",
              "      <td>1</td>\n",
              "      <td>0</td>\n",
              "      <td>0</td>\n",
              "      <td>0</td>\n",
              "      <td>1</td>\n",
              "      <td>0</td>\n",
              "      <td>0</td>\n",
              "      <td>1</td>\n",
              "      <td>0</td>\n",
              "      <td>0</td>\n",
              "      <td>1</td>\n",
              "      <td>0</td>\n",
              "      <td>0</td>\n",
              "      <td>1</td>\n",
              "      <td>0</td>\n",
              "      <td>0</td>\n",
              "      <td>1</td>\n",
              "      <td>0</td>\n",
              "      <td>0</td>\n",
              "      <td>0</td>\n",
              "      <td>0</td>\n",
              "      <td>1</td>\n",
              "      <td>0</td>\n",
              "      <td>1</td>\n",
              "      <td>0</td>\n",
              "      <td>0</td>\n",
              "      <td>0</td>\n",
              "      <td>1</td>\n",
              "    </tr>\n",
              "    <tr>\n",
              "      <th>3</th>\n",
              "      <td>0.0</td>\n",
              "      <td>63.0</td>\n",
              "      <td>2.0</td>\n",
              "      <td>3.0</td>\n",
              "      <td>11823.0</td>\n",
              "      <td>0.0</td>\n",
              "      <td>3.0</td>\n",
              "      <td>3</td>\n",
              "      <td>2.0</td>\n",
              "      <td>2.0</td>\n",
              "      <td>6</td>\n",
              "      <td>1.0</td>\n",
              "      <td>68.0</td>\n",
              "      <td>2.0</td>\n",
              "      <td>2.0</td>\n",
              "      <td>2</td>\n",
              "      <td>2.0</td>\n",
              "      <td>3</td>\n",
              "      <td>0.0</td>\n",
              "      <td>0.0</td>\n",
              "      <td>1</td>\n",
              "      <td>4.776134</td>\n",
              "      <td>7.817427</td>\n",
              "      <td>1.369374</td>\n",
              "      <td>0</td>\n",
              "      <td>1</td>\n",
              "      <td>0</td>\n",
              "      <td>0</td>\n",
              "      <td>1</td>\n",
              "      <td>0</td>\n",
              "      <td>0</td>\n",
              "      <td>0</td>\n",
              "      <td>0</td>\n",
              "      <td>0</td>\n",
              "      <td>0</td>\n",
              "      <td>1</td>\n",
              "      <td>0</td>\n",
              "      <td>0</td>\n",
              "      <td>0</td>\n",
              "      <td>0</td>\n",
              "      <td>0</td>\n",
              "      <td>0</td>\n",
              "      <td>1</td>\n",
              "      <td>0</td>\n",
              "      <td>0</td>\n",
              "      <td>0</td>\n",
              "      <td>0</td>\n",
              "      <td>0</td>\n",
              "      <td>0</td>\n",
              "      <td>1</td>\n",
              "      <td>0</td>\n",
              "      <td>0</td>\n",
              "      <td>0</td>\n",
              "      <td>1</td>\n",
              "      <td>0</td>\n",
              "      <td>0</td>\n",
              "      <td>0</td>\n",
              "      <td>1</td>\n",
              "      <td>0</td>\n",
              "      <td>1</td>\n",
              "      <td>0</td>\n",
              "      <td>0</td>\n",
              "      <td>0</td>\n",
              "      <td>0</td>\n",
              "      <td>1</td>\n",
              "      <td>1</td>\n",
              "      <td>0</td>\n",
              "      <td>0</td>\n",
              "      <td>1</td>\n",
              "      <td>0</td>\n",
              "      <td>0</td>\n",
              "      <td>1</td>\n",
              "      <td>0</td>\n",
              "      <td>0</td>\n",
              "      <td>0</td>\n",
              "      <td>1</td>\n",
              "      <td>0</td>\n",
              "      <td>0</td>\n",
              "      <td>0</td>\n",
              "      <td>1</td>\n",
              "    </tr>\n",
              "    <tr>\n",
              "      <th>4</th>\n",
              "      <td>0.0</td>\n",
              "      <td>36.0</td>\n",
              "      <td>3.0</td>\n",
              "      <td>0.0</td>\n",
              "      <td>7305.0</td>\n",
              "      <td>0.0</td>\n",
              "      <td>2.0</td>\n",
              "      <td>5</td>\n",
              "      <td>2.0</td>\n",
              "      <td>0.0</td>\n",
              "      <td>6</td>\n",
              "      <td>3.0</td>\n",
              "      <td>80.0</td>\n",
              "      <td>2.0</td>\n",
              "      <td>2.0</td>\n",
              "      <td>3</td>\n",
              "      <td>2.0</td>\n",
              "      <td>3</td>\n",
              "      <td>0.0</td>\n",
              "      <td>0.0</td>\n",
              "      <td>2</td>\n",
              "      <td>4.070496</td>\n",
              "      <td>7.483580</td>\n",
              "      <td>1.377509</td>\n",
              "      <td>0</td>\n",
              "      <td>1</td>\n",
              "      <td>0</td>\n",
              "      <td>0</td>\n",
              "      <td>0</td>\n",
              "      <td>0</td>\n",
              "      <td>1</td>\n",
              "      <td>0</td>\n",
              "      <td>0</td>\n",
              "      <td>0</td>\n",
              "      <td>1</td>\n",
              "      <td>0</td>\n",
              "      <td>0</td>\n",
              "      <td>0</td>\n",
              "      <td>0</td>\n",
              "      <td>0</td>\n",
              "      <td>0</td>\n",
              "      <td>0</td>\n",
              "      <td>1</td>\n",
              "      <td>0</td>\n",
              "      <td>0</td>\n",
              "      <td>0</td>\n",
              "      <td>0</td>\n",
              "      <td>1</td>\n",
              "      <td>0</td>\n",
              "      <td>0</td>\n",
              "      <td>0</td>\n",
              "      <td>0</td>\n",
              "      <td>1</td>\n",
              "      <td>0</td>\n",
              "      <td>0</td>\n",
              "      <td>0</td>\n",
              "      <td>0</td>\n",
              "      <td>0</td>\n",
              "      <td>1</td>\n",
              "      <td>1</td>\n",
              "      <td>0</td>\n",
              "      <td>0</td>\n",
              "      <td>0</td>\n",
              "      <td>0</td>\n",
              "      <td>1</td>\n",
              "      <td>1</td>\n",
              "      <td>0</td>\n",
              "      <td>0</td>\n",
              "      <td>0</td>\n",
              "      <td>1</td>\n",
              "      <td>0</td>\n",
              "      <td>1</td>\n",
              "      <td>0</td>\n",
              "      <td>0</td>\n",
              "      <td>0</td>\n",
              "      <td>0</td>\n",
              "      <td>1</td>\n",
              "      <td>0</td>\n",
              "      <td>0</td>\n",
              "      <td>1</td>\n",
              "    </tr>\n",
              "  </tbody>\n",
              "</table>\n",
              "</div>"
            ],
            "text/plain": [
              "   checkin_acc  duration  credit_history  purpose   amount  svaing_acc  \\\n",
              "0          0.0       9.0             4.0      4.0   1754.0         4.0   \n",
              "1          1.0      72.0             2.0      4.0   8927.0         0.0   \n",
              "2          3.0      18.0             4.0      7.0   3144.0         0.0   \n",
              "3          0.0      63.0             2.0      3.0  11823.0         0.0   \n",
              "4          0.0      36.0             3.0      0.0   7305.0         0.0   \n",
              "\n",
              "   present_emp_since  inst_rate  personal_status  other_debtors  \\\n",
              "0                4.0          6              2.0            0.0   \n",
              "1                2.0          3              1.0            0.0   \n",
              "2                3.0          3              2.0            0.0   \n",
              "3                3.0          3              2.0            2.0   \n",
              "4                2.0          5              2.0            0.0   \n",
              "\n",
              "   residing_since  property    age  inst_plans  housing  num_credits  job  \\\n",
              "0               6       0.0  101.0         2.0      1.0            3  2.0   \n",
              "1               3       0.0   33.0         2.0      1.0            2  2.0   \n",
              "2               5       0.0   74.0         2.0      1.0            2  1.0   \n",
              "3               6       1.0   68.0         2.0      2.0            2  2.0   \n",
              "4               6       3.0   80.0         2.0      2.0            3  2.0   \n",
              "\n",
              "   dependents  telephone  foreign_worker  status  duration_Boxcox  \\\n",
              "0           2        1.0             0.0       1         2.484065   \n",
              "1           2        0.0             0.0       2         4.949350   \n",
              "2           3        0.0             0.0       1         3.245479   \n",
              "3           3        0.0             0.0       1         4.776134   \n",
              "4           3        0.0             0.0       2         4.070496   \n",
              "\n",
              "   amount_Boxcox  age_Boxcox  checkin_acc-3.0  checkin_acc-0.0  \\\n",
              "0       6.455923    1.387732                0                1   \n",
              "1       7.623395    1.320448                0                0   \n",
              "2       6.883357    1.373717                1                0   \n",
              "3       7.817427    1.369374                0                1   \n",
              "4       7.483580    1.377509                0                1   \n",
              "\n",
              "   checkin_acc-1.0  checkin_acc-2.0  credit_history-2.0  credit_history-4.0  \\\n",
              "0                0                0                   0                   1   \n",
              "1                1                0                   1                   0   \n",
              "2                0                0                   0                   1   \n",
              "3                0                0                   1                   0   \n",
              "4                0                0                   0                   0   \n",
              "\n",
              "   credit_history-3.0  credit_history-1.0  credit_history-0.0  purpose-4.0  \\\n",
              "0                   0                   0                   0            1   \n",
              "1                   0                   0                   0            1   \n",
              "2                   0                   0                   0            0   \n",
              "3                   0                   0                   0            0   \n",
              "4                   1                   0                   0            0   \n",
              "\n",
              "   purpose-0.0  purpose-3.0  purpose-1.0  purpose-9.0  purpose-7.0  \\\n",
              "0            0            0            0            0            0   \n",
              "1            0            0            0            0            0   \n",
              "2            0            0            0            0            1   \n",
              "3            0            1            0            0            0   \n",
              "4            1            0            0            0            0   \n",
              "\n",
              "   purpose-6.0  purpose-2.0  purpose-5.0  svaing_acc-0.0  svaing_acc-4.0  \\\n",
              "0            0            0            0               0               1   \n",
              "1            0            0            0               1               0   \n",
              "2            0            0            0               1               0   \n",
              "3            0            0            0               1               0   \n",
              "4            0            0            0               1               0   \n",
              "\n",
              "   svaing_acc-1.0  svaing_acc-2.0  svaing_acc-3.0  present_emp_since-2.0  \\\n",
              "0               0               0               0                      0   \n",
              "1               0               0               0                      1   \n",
              "2               0               0               0                      0   \n",
              "3               0               0               0                      0   \n",
              "4               0               0               0                      1   \n",
              "\n",
              "   present_emp_since-4.0  present_emp_since-3.0  present_emp_since-1.0  \\\n",
              "0                      1                      0                      0   \n",
              "1                      0                      0                      0   \n",
              "2                      0                      1                      0   \n",
              "3                      0                      1                      0   \n",
              "4                      0                      0                      0   \n",
              "\n",
              "   present_emp_since-0.0  other_debtors-0.0  other_debtors-2.0  \\\n",
              "0                      0                  1                  0   \n",
              "1                      0                  1                  0   \n",
              "2                      0                  1                  0   \n",
              "3                      0                  0                  1   \n",
              "4                      0                  1                  0   \n",
              "\n",
              "   other_debtors-1.0  property-2.0  property-0.0  property-1.0  property-3.0  \\\n",
              "0                  0             0             1             0             0   \n",
              "1                  0             0             1             0             0   \n",
              "2                  0             0             1             0             0   \n",
              "3                  0             0             0             1             0   \n",
              "4                  0             0             0             0             1   \n",
              "\n",
              "   inst_plans-2.0  inst_plans-0.0  inst_plans-1.0  housing-1.0  housing-0.0  \\\n",
              "0               1               0               0            1            0   \n",
              "1               1               0               0            1            0   \n",
              "2               1               0               0            1            0   \n",
              "3               1               0               0            0            0   \n",
              "4               1               0               0            0            0   \n",
              "\n",
              "   housing-2.0  foreign_worker-0.0  foreign_worker-1.0  inst_rate-6  \\\n",
              "0            0                   1                   0            1   \n",
              "1            0                   1                   0            0   \n",
              "2            0                   1                   0            0   \n",
              "3            1                   1                   0            0   \n",
              "4            1                   1                   0            0   \n",
              "\n",
              "   inst_rate-3  inst_rate-5  inst_rate-2  residing_since-6  residing_since-3  \\\n",
              "0            0            0            0                 1                 0   \n",
              "1            1            0            0                 0                 1   \n",
              "2            1            0            0                 0                 0   \n",
              "3            1            0            0                 1                 0   \n",
              "4            0            1            0                 1                 0   \n",
              "\n",
              "   residing_since-5  residing_since-2  num_credits-2  num_credits-3  \\\n",
              "0                 0                 0              0              1   \n",
              "1                 0                 0              1              0   \n",
              "2                 1                 0              1              0   \n",
              "3                 0                 0              1              0   \n",
              "4                 0                 0              0              1   \n",
              "\n",
              "   num_credits-5  dependents-2  dependents-3  \n",
              "0              0             1             0  \n",
              "1              0             1             0  \n",
              "2              0             0             1  \n",
              "3              0             0             1  \n",
              "4              0             0             1  "
            ]
          },
          "metadata": {
            "tags": []
          },
          "execution_count": 213
        }
      ]
    },
    {
      "cell_type": "code",
      "metadata": {
        "id": "omUo_R7PuAC-"
      },
      "source": [
        "#Exporting data into csv file\r\n",
        "dataset.to_csv('/content/drive/MyDrive/Max Life Insurance/Case study_M.zip (Unzipped Files)/Final_case_study_data.csv', index = False)"
      ],
      "execution_count": null,
      "outputs": []
    },
    {
      "cell_type": "markdown",
      "metadata": {
        "id": "8cMnoN2lT1CN"
      },
      "source": [
        "## **6. Modeling**"
      ]
    },
    {
      "cell_type": "markdown",
      "metadata": {
        "id": "flzD7CC1VC-7"
      },
      "source": [
        "**Validation Dataset**"
      ]
    },
    {
      "cell_type": "code",
      "metadata": {
        "id": "E4Pv5dlJWPfn"
      },
      "source": [
        "#Importing required library\r\n",
        "from sklearn.model_selection import train_test_split"
      ],
      "execution_count": null,
      "outputs": []
    },
    {
      "cell_type": "code",
      "metadata": {
        "id": "o5O29qfRKXHx"
      },
      "source": [
        "#Spiting raw data \r\n",
        "X = dataset[categorical_features_Sel2+continuous_feature]\r\n",
        "Y = dataset['status']\r\n",
        "validation_size = 0.20\r\n",
        "seed = 7\r\n",
        "X_train, X_validation, Y_train, Y_validation = train_test_split(X, Y, test_size=validation_size, random_state=seed)"
      ],
      "execution_count": null,
      "outputs": []
    },
    {
      "cell_type": "code",
      "metadata": {
        "colab": {
          "base_uri": "https://localhost:8080/"
        },
        "id": "szbany7jVN3g",
        "outputId": "b2de68f0-e4e3-408c-ffa6-8263f033a57b"
      },
      "source": [
        "#Checking shape of test/validation and train data\r\n",
        "print(X_train.shape)\r\n",
        "print(Y_train.shape)\r\n",
        "print(X_validation.shape)\r\n",
        "print(Y_validation.shape)"
      ],
      "execution_count": null,
      "outputs": [
        {
          "output_type": "stream",
          "text": [
            "(800, 17)\n",
            "(800,)\n",
            "(200, 17)\n",
            "(200,)\n"
          ],
          "name": "stdout"
        }
      ]
    },
    {
      "cell_type": "code",
      "metadata": {
        "id": "yMkF-aPhVaqf"
      },
      "source": [
        "#Spliting transformed data \r\n",
        "X2 = dataset.iloc[:,21:]\r\n",
        "Y2 = dataset['status']\r\n",
        "validation_size = 0.20\r\n",
        "seed = 7\r\n",
        "X_train2, X_validation2, Y_train2, Y_validation2 = train_test_split(X2, Y2, test_size=validation_size, random_state=seed)"
      ],
      "execution_count": null,
      "outputs": []
    },
    {
      "cell_type": "code",
      "metadata": {
        "colab": {
          "base_uri": "https://localhost:8080/"
        },
        "id": "T0w8iumYVabO",
        "outputId": "7e690237-95bc-487f-b5e6-211c41fe21e2"
      },
      "source": [
        "#Checking the shape of the data\r\n",
        "print(X_train.shape)\r\n",
        "print(Y_train.shape)\r\n",
        "print(X_validation.shape)\r\n",
        "print(Y_validation.shape)"
      ],
      "execution_count": null,
      "outputs": [
        {
          "output_type": "stream",
          "text": [
            "(800, 17)\n",
            "(800,)\n",
            "(200, 17)\n",
            "(200,)\n"
          ],
          "name": "stdout"
        }
      ]
    },
    {
      "cell_type": "markdown",
      "metadata": {
        "id": "hhLs24eIXjRf"
      },
      "source": [
        "**Evaluate Model**"
      ]
    },
    {
      "cell_type": "code",
      "metadata": {
        "id": "oy9p5zHFbF9M"
      },
      "source": [
        "#Importing Repquired Libraries\r\n",
        "from sklearn.linear_model import LogisticRegression\r\n",
        "from sklearn.discriminant_analysis import LinearDiscriminantAnalysis\r\n",
        "from sklearn.naive_bayes import GaussianNB\r\n",
        "from sklearn.gaussian_process import GaussianProcessClassifier\r\n",
        "from sklearn.svm import SVC\r\n",
        "from sklearn.pipeline import Pipeline\r\n",
        "from sklearn.model_selection import RepeatedStratifiedKFold\r\n",
        "from sklearn.metrics import make_scorer\r\n",
        "from sklearn.model_selection import cross_val_score\r\n",
        "from sklearn.metrics import fbeta_score\r\n",
        "from numpy import mean\r\n",
        "from numpy import std\r\n",
        "from sklearn.compose import ColumnTransformer\r\n",
        "from sklearn.preprocessing import MinMaxScaler\r\n",
        "from sklearn.preprocessing import StandardScaler"
      ],
      "execution_count": null,
      "outputs": []
    },
    {
      "cell_type": "code",
      "metadata": {
        "id": "xYeml-2mWcJR"
      },
      "source": [
        "# Test options and evaluation metric\r\n",
        "num_folds = 10\r\n",
        "seed = 7\r\n",
        "scoring = 'accuracy'"
      ],
      "execution_count": null,
      "outputs": []
    },
    {
      "cell_type": "code",
      "metadata": {
        "id": "zWyrA4ZGazWo"
      },
      "source": [
        "# calculate f2-measure\r\n",
        "def f2_measure(y_true, y_pred):\r\n",
        "  return fbeta_score(y_true, y_pred, beta=2)  "
      ],
      "execution_count": null,
      "outputs": []
    },
    {
      "cell_type": "code",
      "metadata": {
        "id": "B6HfNsBma21W"
      },
      "source": [
        "# evaluate a model\r\n",
        "def evaluate_model(X, y, model):\r\n",
        "  # define evaluation procedure\r\n",
        "  cv = RepeatedStratifiedKFold(n_splits=10, n_repeats=3, random_state=1)\r\n",
        "  # define the model evaluation metric\r\n",
        "  metric = make_scorer(f2_measure)\r\n",
        "  # evaluate model\r\n",
        "  scores = cross_val_score(model, X, y, scoring=metric, cv=cv, n_jobs=-1)\r\n",
        "  return scores"
      ],
      "execution_count": null,
      "outputs": []
    },
    {
      "cell_type": "code",
      "metadata": {
        "id": "AScGraAfa5TZ"
      },
      "source": [
        "# define models to test\r\n",
        "def get_models():\r\n",
        "  models, names = list(), list()\r\n",
        "  # LR\r\n",
        "  models.append(LogisticRegression(solver='liblinear'))\r\n",
        "  names.append('LR')\r\n",
        "  # LDA\r\n",
        "  models.append(LinearDiscriminantAnalysis())\r\n",
        "  names.append('LDA')\r\n",
        "  # NB\r\n",
        "  models.append(GaussianNB())\r\n",
        "  names.append('NB')\r\n",
        "  # GPC\r\n",
        "  models.append(GaussianProcessClassifier())\r\n",
        "  names.append('GPC')\r\n",
        "  # SVM\r\n",
        "  models.append(SVC(gamma='scale'))\r\n",
        "  names.append('SVM')\r\n",
        "  return models, names"
      ],
      "execution_count": null,
      "outputs": []
    },
    {
      "cell_type": "code",
      "metadata": {
        "id": "cOKdyd2xbADp"
      },
      "source": [
        "# define models\r\n",
        "models, names = get_models()"
      ],
      "execution_count": null,
      "outputs": []
    },
    {
      "cell_type": "code",
      "metadata": {
        "colab": {
          "base_uri": "https://localhost:8080/"
        },
        "id": "R8Ukt3MsbgmI",
        "outputId": "a4a060a6-6184-42ad-e745-b59bc132234e"
      },
      "source": [
        "results = list()\r\n",
        "# evaluate each model\r\n",
        "for i in range(len(models)):\r\n",
        "  # wrap the model in a pipeline\r\n",
        "  pipeline = Pipeline(steps=[('m',models[i])])\r\n",
        "  # evaluate the model and store results\r\n",
        "  scores = evaluate_model(X_train, Y_train, pipeline)\r\n",
        "  results.append(scores)\r\n",
        "  # summarize and store\r\n",
        "  print('>%s %.3f (%.3f)' % (names[i], mean(scores), std(scores)))"
      ],
      "execution_count": null,
      "outputs": [
        {
          "output_type": "stream",
          "text": [
            ">LR 0.851 (0.039)\n",
            ">LDA 0.844 (0.045)\n",
            ">NB 0.779 (0.056)\n",
            ">GPC 0.745 (0.047)\n",
            ">SVM 0.906 (0.013)\n"
          ],
          "name": "stdout"
        }
      ]
    },
    {
      "cell_type": "code",
      "metadata": {
        "colab": {
          "base_uri": "https://localhost:8080/",
          "height": 265
        },
        "id": "xJMZ57yqdNSd",
        "outputId": "8cfa5f4a-de49-40d7-d7d3-6d2d49a544d7"
      },
      "source": [
        "# plot the results\r\n",
        "plt.boxplot(results, labels=names, showmeans=True)\r\n",
        "plt.show()"
      ],
      "execution_count": null,
      "outputs": [
        {
          "output_type": "display_data",
          "data": {
            "image/png": "[encoded data removed]",
            "text/plain": [
              "<Figure size 432x288 with 1 Axes>"
            ]
          },
          "metadata": {
            "tags": [],
            "needs_background": "light"
          }
        }
      ]
    },
    {
      "cell_type": "code",
      "metadata": {
        "colab": {
          "base_uri": "https://localhost:8080/"
        },
        "id": "-R2ICi3hdRuE",
        "outputId": "b4c55e6f-4c70-4788-d051-95a4752773a7"
      },
      "source": [
        "results = list()\r\n",
        "# evaluate each model\r\n",
        "for i in range(len(models)):\r\n",
        "  # wrap the model in a pipeline\r\n",
        "  pipeline = Pipeline(steps=[('m',models[i])])\r\n",
        "  # evaluate the model and store results\r\n",
        "  scores = evaluate_model(X_train2, Y_train2, pipeline)\r\n",
        "  results.append(scores)\r\n",
        "  # summarize and store\r\n",
        "  print('>%s %.3f (%.3f)' % (names[i], mean(scores), std(scores)))"
      ],
      "execution_count": null,
      "outputs": [
        {
          "output_type": "stream",
          "text": [
            ">LR 0.845 (0.045)\n",
            ">LDA 0.840 (0.042)\n",
            ">NB 0.718 (0.049)\n",
            ">GPC 0.899 (0.020)\n",
            ">SVM 0.910 (0.017)\n"
          ],
          "name": "stdout"
        }
      ]
    },
    {
      "cell_type": "code",
      "metadata": {
        "colab": {
          "base_uri": "https://localhost:8080/",
          "height": 265
        },
        "id": "3vO-CTnkdarr",
        "outputId": "dff827d8-4e31-44f5-f340-f18f7dcb38c6"
      },
      "source": [
        "# plot the results\r\n",
        "plt.boxplot(results, labels=names, showmeans=True)\r\n",
        "plt.show()"
      ],
      "execution_count": null,
      "outputs": [
        {
          "output_type": "display_data",
          "data": {
            "image/png": "[encoded data removed]",
            "text/plain": [
              "<Figure size 432x288 with 1 Axes>"
            ]
          },
          "metadata": {
            "tags": [],
            "needs_background": "light"
          }
        }
      ]
    },
    {
      "cell_type": "code",
      "metadata": {
        "colab": {
          "base_uri": "https://localhost:8080/"
        },
        "id": "tM8eqFetdjWT",
        "outputId": "dc39f1b9-16af-4c03-d531-a3306fa899d0"
      },
      "source": [
        "continuous_feature_new= [feature+'_Boxcox' for feature in continuous_feature]\r\n",
        "continuous_feature_new"
      ],
      "execution_count": null,
      "outputs": [
        {
          "output_type": "execute_result",
          "data": {
            "text/plain": [
              "['duration_Boxcox', 'amount_Boxcox', 'age_Boxcox']"
            ]
          },
          "metadata": {
            "tags": []
          },
          "execution_count": 230
        }
      ]
    },
    {
      "cell_type": "code",
      "metadata": {
        "colab": {
          "base_uri": "https://localhost:8080/"
        },
        "id": "Oh6bdnjMdlkv",
        "outputId": "79990082-d194-4111-e8e6-d268887024f1"
      },
      "source": [
        "results = list()\r\n",
        "for i in range(len(models)):\r\n",
        "  # one hot encode categorical, normalize numerical\r\n",
        "  ct = ColumnTransformer([('n',MinMaxScaler(),continuous_feature_new)])\r\n",
        "  # wrap the model in a pipeline\r\n",
        "  pipeline = Pipeline(steps=[('t',ct),('m',models[i])])\r\n",
        "  # evaluate the model and store results\r\n",
        "  scores = evaluate_model(X_train2, Y_train2, pipeline)\r\n",
        "  results.append(scores)\r\n",
        "  # summarize and store\r\n",
        "  print('>%s %.3f (%.3f)' % (names[i], mean(scores), std(scores)))"
      ],
      "execution_count": null,
      "outputs": [
        {
          "output_type": "stream",
          "text": [
            ">LR 0.912 (0.009)\n",
            ">LDA 0.901 (0.018)\n",
            ">NB 0.861 (0.025)\n",
            ">GPC 0.911 (0.010)\n",
            ">SVM 0.909 (0.011)\n"
          ],
          "name": "stdout"
        }
      ]
    },
    {
      "cell_type": "code",
      "metadata": {
        "colab": {
          "base_uri": "https://localhost:8080/",
          "height": 267
        },
        "id": "o2RV6DoudlY_",
        "outputId": "d4a6a59a-5475-4cd3-b44a-c2e87e6d8784"
      },
      "source": [
        "# plot the results\r\n",
        "plt.boxplot(results, labels=names, showmeans=True)\r\n",
        "plt.show()"
      ],
      "execution_count": null,
      "outputs": [
        {
          "output_type": "display_data",
          "data": {
            "image/png": "[encoded data removed]",
            "text/plain": [
              "<Figure size 432x288 with 1 Axes>"
            ]
          },
          "metadata": {
            "tags": [],
            "needs_background": "light"
          }
        }
      ]
    },
    {
      "cell_type": "code",
      "metadata": {
        "colab": {
          "base_uri": "https://localhost:8080/"
        },
        "id": "_VsUbWA-dlI2",
        "outputId": "21cd6c57-d9e1-4a3a-e730-c7e2d4de34b0"
      },
      "source": [
        "results = list()\r\n",
        "for i in range(len(models)):\r\n",
        "  # one hot encode categorical, normalize numerical\r\n",
        "  ct = ColumnTransformer([('n',StandardScaler(),continuous_feature_new)])\r\n",
        "  # wrap the model in a pipeline\r\n",
        "  pipeline = Pipeline(steps=[('t',ct),('m',models[i])])\r\n",
        "  # evaluate the model and store results\r\n",
        "  scores = evaluate_model(X_train2, Y_train2, pipeline)\r\n",
        "  results.append(scores)\r\n",
        "  # summarize and store\r\n",
        "  print('>%s %.3f (%.3f)' % (names[i], mean(scores), std(scores)))"
      ],
      "execution_count": null,
      "outputs": [
        {
          "output_type": "stream",
          "text": [
            ">LR 0.901 (0.019)\n",
            ">LDA 0.901 (0.018)\n",
            ">NB 0.861 (0.025)\n",
            ">GPC 0.889 (0.020)\n",
            ">SVM 0.907 (0.011)\n"
          ],
          "name": "stdout"
        }
      ]
    },
    {
      "cell_type": "code",
      "metadata": {
        "colab": {
          "base_uri": "https://localhost:8080/",
          "height": 267
        },
        "id": "JK7AG_oZdvs5",
        "outputId": "aa7666a4-fa04-43ac-8054-aacfe5f0eab9"
      },
      "source": [
        "# plot the results\r\n",
        "plt.boxplot(results, labels=names, showmeans=True)\r\n",
        "plt.show()"
      ],
      "execution_count": null,
      "outputs": [
        {
          "output_type": "display_data",
          "data": {
            "image/png": "[encoded data removed]",
            "text/plain": [
              "<Figure size 432x288 with 1 Axes>"
            ]
          },
          "metadata": {
            "tags": [],
            "needs_background": "light"
          }
        }
      ]
    },
    {
      "cell_type": "markdown",
      "metadata": {
        "id": "GXzKcZ9bjfcW"
      },
      "source": [
        "**ML Tuning**"
      ]
    },
    {
      "cell_type": "code",
      "metadata": {
        "id": "GajP9IN1jvYe"
      },
      "source": [
        "from sklearn.model_selection import GridSearchCV"
      ],
      "execution_count": null,
      "outputs": []
    },
    {
      "cell_type": "code",
      "metadata": {
        "colab": {
          "base_uri": "https://localhost:8080/"
        },
        "id": "ud1HE96ujnc9",
        "outputId": "db0913a6-ba9e-4c50-f085-70c66dedcad4"
      },
      "source": [
        "# Tune scaled SVM\r\n",
        "#scaler = MinMaxScaler()\r\n",
        "scaler=StandardScaler()\r\n",
        "rescaledX = scaler.fit_transform(X_train2)\r\n",
        "c_values = [0.1, 0.3, 0.5, 0.7, 0.9, 1.0, 1.3, 1.5, 1.7, 2.0]\r\n",
        "kernel_values = ['linear', 'poly', 'rbf', 'sigmoid']\r\n",
        "param_grid = dict(C=c_values, kernel=kernel_values)\r\n",
        "model = SVC()\r\n",
        "metric = make_scorer(f2_measure)\r\n",
        "cvKfold = RepeatedStratifiedKFold(n_splits=num_folds, n_repeats=3, random_state=1)\r\n",
        "grid = GridSearchCV(estimator=model, param_grid=param_grid, scoring=metric, cv=cvKfold)\r\n",
        "grid_result = grid.fit(rescaledX, Y_train2)\r\n",
        "print(\"Best: %f using %s\" % (grid_result.best_score_, grid_result.best_params_))\r\n",
        "means = grid_result.cv_results_['mean_test_score']\r\n",
        "stds = grid_result.cv_results_['std_test_score']\r\n",
        "params = grid_result.cv_results_['params']\r\n",
        "for mean, stdev, param in zip(means, stds, params):\r\n",
        "  print(\"%f (%f) with: %r\" % (mean, stdev, param))"
      ],
      "execution_count": null,
      "outputs": [
        {
          "output_type": "stream",
          "text": [
            "Best: 0.917105 using {'C': 0.1, 'kernel': 'poly'}\n",
            "0.837263 (0.045416) with: {'C': 0.1, 'kernel': 'linear'}\n",
            "0.917105 (0.001316) with: {'C': 0.1, 'kernel': 'poly'}\n",
            "0.917105 (0.001316) with: {'C': 0.1, 'kernel': 'rbf'}\n",
            "0.917105 (0.001316) with: {'C': 0.1, 'kernel': 'sigmoid'}\n",
            "0.834366 (0.043111) with: {'C': 0.3, 'kernel': 'linear'}\n",
            "0.913697 (0.008669) with: {'C': 0.3, 'kernel': 'poly'}\n",
            "0.916705 (0.003627) with: {'C': 0.3, 'kernel': 'rbf'}\n",
            "0.885195 (0.029564) with: {'C': 0.3, 'kernel': 'sigmoid'}\n",
            "0.834282 (0.042205) with: {'C': 0.5, 'kernel': 'linear'}\n",
            "0.912901 (0.011845) with: {'C': 0.5, 'kernel': 'poly'}\n",
            "0.904267 (0.020019) with: {'C': 0.5, 'kernel': 'rbf'}\n",
            "0.868584 (0.035762) with: {'C': 0.5, 'kernel': 'sigmoid'}\n",
            "0.835869 (0.042549) with: {'C': 0.7, 'kernel': 'linear'}\n",
            "0.905081 (0.015854) with: {'C': 0.7, 'kernel': 'poly'}\n",
            "0.888093 (0.032053) with: {'C': 0.7, 'kernel': 'rbf'}\n",
            "0.855075 (0.039949) with: {'C': 0.7, 'kernel': 'sigmoid'}\n",
            "0.835690 (0.042551) with: {'C': 0.9, 'kernel': 'linear'}\n",
            "0.898311 (0.017214) with: {'C': 0.9, 'kernel': 'poly'}\n",
            "0.879274 (0.036673) with: {'C': 0.9, 'kernel': 'rbf'}\n",
            "0.849723 (0.042450) with: {'C': 0.9, 'kernel': 'sigmoid'}\n",
            "0.835682 (0.042625) with: {'C': 1.0, 'kernel': 'linear'}\n",
            "0.895350 (0.017758) with: {'C': 1.0, 'kernel': 'poly'}\n",
            "0.875600 (0.036171) with: {'C': 1.0, 'kernel': 'rbf'}\n",
            "0.847061 (0.041037) with: {'C': 1.0, 'kernel': 'sigmoid'}\n",
            "0.835571 (0.042308) with: {'C': 1.3, 'kernel': 'linear'}\n",
            "0.892856 (0.020100) with: {'C': 1.3, 'kernel': 'poly'}\n",
            "0.857547 (0.037980) with: {'C': 1.3, 'kernel': 'rbf'}\n",
            "0.839554 (0.042542) with: {'C': 1.3, 'kernel': 'sigmoid'}\n",
            "0.835571 (0.042308) with: {'C': 1.5, 'kernel': 'linear'}\n",
            "0.890646 (0.020742) with: {'C': 1.5, 'kernel': 'poly'}\n",
            "0.855576 (0.037978) with: {'C': 1.5, 'kernel': 'rbf'}\n",
            "0.838573 (0.045185) with: {'C': 1.5, 'kernel': 'sigmoid'}\n",
            "0.834886 (0.042576) with: {'C': 1.7, 'kernel': 'linear'}\n",
            "0.887259 (0.023478) with: {'C': 1.7, 'kernel': 'poly'}\n",
            "0.851980 (0.037056) with: {'C': 1.7, 'kernel': 'rbf'}\n",
            "0.828859 (0.040463) with: {'C': 1.7, 'kernel': 'sigmoid'}\n",
            "0.834886 (0.042576) with: {'C': 2.0, 'kernel': 'linear'}\n",
            "0.883639 (0.026350) with: {'C': 2.0, 'kernel': 'poly'}\n",
            "0.849239 (0.038817) with: {'C': 2.0, 'kernel': 'rbf'}\n",
            "0.826893 (0.038833) with: {'C': 2.0, 'kernel': 'sigmoid'}\n"
          ],
          "name": "stdout"
        }
      ]
    },
    {
      "cell_type": "markdown",
      "metadata": {
        "id": "xINrgrzInPYJ"
      },
      "source": [
        "**Ensemble Method**"
      ]
    },
    {
      "cell_type": "code",
      "metadata": {
        "id": "wi-BGtCjnkKc"
      },
      "source": [
        "#Importing required libraries\r\n",
        "from sklearn.ensemble import AdaBoostClassifier\r\n",
        "from sklearn.ensemble import GradientBoostingClassifier\r\n",
        "from sklearn.ensemble import RandomForestClassifier\r\n",
        "from sklearn.ensemble import ExtraTreesClassifier\r\n",
        "from sklearn.model_selection import KFold\r\n",
        "from sklearn.metrics import accuracy_score\r\n",
        "from sklearn.metrics import confusion_matrix\r\n",
        "from sklearn.metrics import classification_report"
      ],
      "execution_count": null,
      "outputs": []
    },
    {
      "cell_type": "code",
      "metadata": {
        "colab": {
          "base_uri": "https://localhost:8080/"
        },
        "id": "s0cOvDekjpwG",
        "outputId": "80f9ec7b-87e5-4e6b-d67b-8c4764097292"
      },
      "source": [
        "# ensembles\r\n",
        "ensembles = []\r\n",
        "ensembles.append(('AB', AdaBoostClassifier()))\r\n",
        "ensembles.append(('GBM', GradientBoostingClassifier()))\r\n",
        "ensembles.append(('RF', RandomForestClassifier()))\r\n",
        "ensembles.append(('ET', ExtraTreesClassifier()))\r\n",
        "results = []\r\n",
        "names = []\r\n",
        "for name, model in ensembles:\r\n",
        "  kfold = KFold(n_splits=num_folds,shuffle=True, random_state=seed)\r\n",
        "  cv_results = cross_val_score(model, X_train, Y_train, cv=kfold, scoring=scoring)\r\n",
        "  results.append(cv_results)\r\n",
        "  names.append(name)\r\n",
        "  msg = \"%s: %f (%f)\" % (name, cv_results.mean(), cv_results.std())\r\n",
        "  print(msg)"
      ],
      "execution_count": null,
      "outputs": [
        {
          "output_type": "stream",
          "text": [
            "AB: 0.725000 (0.048734)\n",
            "GBM: 0.748750 (0.038911)\n",
            "RF: 0.751250 (0.054040)\n",
            "ET: 0.760000 (0.056125)\n"
          ],
          "name": "stdout"
        }
      ]
    },
    {
      "cell_type": "code",
      "metadata": {
        "colab": {
          "base_uri": "https://localhost:8080/",
          "height": 294
        },
        "id": "1w-jR6Irm5-E",
        "outputId": "64cfe0f7-91e5-4565-83e9-ba4ee75ceeb7"
      },
      "source": [
        "# Compare Algorithms\r\n",
        "fig = plt.figure()\r\n",
        "fig.suptitle('Ensemble Algorithm Comparison')\r\n",
        "ax = fig.add_subplot(111)\r\n",
        "plt.boxplot(results)\r\n",
        "ax.set_xticklabels(names)\r\n",
        "plt.show()"
      ],
      "execution_count": null,
      "outputs": [
        {
          "output_type": "display_data",
          "data": {
            "image/png": "[encoded data removed]",
            "text/plain": [
              "<Figure size 432x288 with 1 Axes>"
            ]
          },
          "metadata": {
            "tags": [],
            "needs_background": "light"
          }
        }
      ]
    },
    {
      "cell_type": "markdown",
      "metadata": {
        "id": "-OdY5MC6nChV"
      },
      "source": [
        "**Final Model**"
      ]
    },
    {
      "cell_type": "code",
      "metadata": {
        "colab": {
          "base_uri": "https://localhost:8080/"
        },
        "id": "XVBtIGtVnDGH",
        "outputId": "9c5f9586-64cd-4f4f-f768-b80175808649"
      },
      "source": [
        "# prepare the model\r\n",
        "model = SVC(C=0.1)\r\n",
        "model.fit(X_train2, Y_train2)\r\n",
        "# estimate accuracy on validation dataset\r\n",
        "#rescaledValidationX = scaler.transform(X_validation2)\r\n",
        "predictions = model.predict(X_validation2)\r\n",
        "print(accuracy_score(Y_validation2, predictions))\r\n",
        "print(confusion_matrix(Y_validation2, predictions))\r\n",
        "print(classification_report(Y_validation2, predictions))"
      ],
      "execution_count": null,
      "outputs": [
        {
          "output_type": "stream",
          "text": [
            "0.775\n",
            "[[146   3]\n",
            " [ 42   9]]\n",
            "              precision    recall  f1-score   support\n",
            "\n",
            "           1       0.78      0.98      0.87       149\n",
            "           2       0.75      0.18      0.29        51\n",
            "\n",
            "    accuracy                           0.78       200\n",
            "   macro avg       0.76      0.58      0.58       200\n",
            "weighted avg       0.77      0.78      0.72       200\n",
            "\n"
          ],
          "name": "stdout"
        }
      ]
    }
  ]
}